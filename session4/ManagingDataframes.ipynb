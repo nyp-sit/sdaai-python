{
 "cells": [
  {
   "cell_type": "markdown",
   "metadata": {},
   "source": [
    "# Managing Dataframe\n",
    "\n",
    "Please use the provided dataset to carry out the following tasks \n"
   ]
  },
  {
   "cell_type": "markdown",
   "metadata": {},
   "source": [
    "## Common Use Cases\n",
    "\n",
    "- Remove blank or unknown supplier name\n",
    "- Perform groupby tender number to get total awarded amount per tender number\n",
    "- Perform checks to determine if the amount above a certain threshold\n",
    "- Perform text analytics on the tender description to filter rows where the procurement matches certain key words or meanings."
   ]
  },
  {
   "cell_type": "markdown",
   "metadata": {},
   "source": [
    "## Import the necessary packages and libraries"
   ]
  },
  {
   "cell_type": "code",
   "execution_count": null,
   "metadata": {},
   "outputs": [],
   "source": [
    "import pandas as pd\n",
    "import numpy as np"
   ]
  },
  {
   "cell_type": "markdown",
   "metadata": {},
   "source": [
    "## Read in the data file"
   ]
  },
  {
   "cell_type": "code",
   "execution_count": null,
   "metadata": {},
   "outputs": [],
   "source": [
    "df = pd.read_csv('GovernmentProcurement.csv')\n",
    "\n",
    "df.head(10)"
   ]
  },
  {
   "cell_type": "markdown",
   "metadata": {},
   "source": [
    "## Check the number of rows and columns in the dataset"
   ]
  },
  {
   "cell_type": "code",
   "execution_count": null,
   "metadata": {},
   "outputs": [],
   "source": [
    "df_shape = df.shape\n",
    "print(f'Rows and columns in one csv file is {df_shape}')"
   ]
  },
  {
   "cell_type": "markdown",
   "metadata": {},
   "source": [
    "## Practice - Remove a column \"extra\""
   ]
  },
  {
   "cell_type": "code",
   "execution_count": null,
   "metadata": {},
   "outputs": [],
   "source": [
    "# try it"
   ]
  },
  {
   "cell_type": "markdown",
   "metadata": {},
   "source": [
    "## Practice - List the numbers of rows with null values\n",
    "\n",
    "In Pandas, null values represent missing or unknown data. They can appear as NaN (Not a Number) or None."
   ]
  },
  {
   "cell_type": "code",
   "execution_count": null,
   "metadata": {},
   "outputs": [],
   "source": [
    "# look for missing values\n",
    "# try it"
   ]
  },
  {
   "cell_type": "code",
   "execution_count": null,
   "metadata": {},
   "outputs": [],
   "source": [
    "# Calculate null values per column\n",
    "# try it"
   ]
  },
  {
   "cell_type": "code",
   "execution_count": null,
   "metadata": {},
   "outputs": [],
   "source": [
    "# Calculate null values per column; axis= 1 for across row\n",
    "# try it"
   ]
  },
  {
   "cell_type": "markdown",
   "metadata": {},
   "source": [
    "## Remove rows with null values"
   ]
  },
  {
   "cell_type": "code",
   "execution_count": null,
   "metadata": {},
   "outputs": [],
   "source": [
    "# Remove rows with NaN values\n",
    "# make a new copy explicitly\n",
    "df_cleaned = df.copy().dropna()\n",
    "df_cleaned"
   ]
  },
  {
   "cell_type": "markdown",
   "metadata": {},
   "source": [
    "## Explore the datatypes of each column"
   ]
  },
  {
   "cell_type": "code",
   "execution_count": null,
   "metadata": {},
   "outputs": [],
   "source": [
    "df_cleaned.dtypes"
   ]
  },
  {
   "cell_type": "markdown",
   "metadata": {},
   "source": [
    "## Changing the printed precision for numbers"
   ]
  },
  {
   "cell_type": "code",
   "execution_count": null,
   "metadata": {},
   "outputs": [],
   "source": [
    "# Prevent scientific notation and display 6 decimal places\n",
    "pd.options.display.float_format = '${:.3f}'.format "
   ]
  },
  {
   "cell_type": "code",
   "execution_count": null,
   "metadata": {},
   "outputs": [],
   "source": [
    "df_cleaned"
   ]
  },
  {
   "cell_type": "markdown",
   "metadata": {},
   "source": [
    "## Changing date format\n",
    "\n",
    "|Code | Meaning |\n",
    "|---|---|\n",
    "|%Y|Year (four digits)|\n",
    "|%m|Month (01-12)|\n",
    "|%d|Day of month (01-31)|\n",
    "|%A|Weekday (full name)|\n",
    "|%B|Month (full name)|\n",
    "|%H|Hour (24-hour clock, 00-23)|\n",
    "|%M|Minute (00-59)|\n",
    "|%S|Second (00-59)|\n",
    "|%p|AM/PM designation|\n",
    "\n",
    "\n",
    "Note: Use errors='coerce' so that when a string cannot be converted (e.g., due to an invalid format), Pandas will insert a NaT (Not a Time) value instead of raising an error."
   ]
  },
  {
   "cell_type": "code",
   "execution_count": null,
   "metadata": {},
   "outputs": [],
   "source": [
    "df_cleaned.loc[:,'award_date'] = pd.to_datetime(df['award_date'], format='%d/%m/%Y', errors='coerce')"
   ]
  },
  {
   "cell_type": "code",
   "execution_count": null,
   "metadata": {},
   "outputs": [],
   "source": [
    "df_cleaned.loc[:,'award_date'] = df_cleaned['award_date'].apply(lambda x: x.strftime('%A, %B %d, %Y'))"
   ]
  },
  {
   "cell_type": "code",
   "execution_count": null,
   "metadata": {},
   "outputs": [],
   "source": [
    "df_cleaned"
   ]
  },
  {
   "cell_type": "markdown",
   "metadata": {},
   "source": [
    "## Is there duplicated rows?"
   ]
  },
  {
   "cell_type": "code",
   "execution_count": null,
   "metadata": {},
   "outputs": [],
   "source": [
    "# Check if any duplicates exist in the entire DataFrame\n",
    "isAnyRowDuplicated = df.duplicated().any()\n",
    "isAnyRowDuplicated"
   ]
  },
  {
   "cell_type": "markdown",
   "metadata": {},
   "source": [
    "## List the unique values in each column"
   ]
  },
  {
   "cell_type": "code",
   "execution_count": null,
   "metadata": {},
   "outputs": [],
   "source": [
    "# Get unique values for each column\n",
    "unique_values = {col: df[col].unique() for col in df}\n",
    "\n",
    "print(\"Unique values in each column:\\n\")\n",
    "for col, values in unique_values.items():\n",
    "    print(f\"{col}: {values}\")"
   ]
  },
  {
   "cell_type": "markdown",
   "metadata": {},
   "source": [
    "## Determine range of awarded amount"
   ]
  },
  {
   "cell_type": "code",
   "execution_count": null,
   "metadata": {},
   "outputs": [],
   "source": [
    "print(\"The range of awarded amount is :\" , min(df_cleaned.awarded_amt), \" to \", max(df_cleaned.awarded_amt))\n"
   ]
  },
  {
   "cell_type": "markdown",
   "metadata": {},
   "source": [
    "## Determine range of date"
   ]
  },
  {
   "cell_type": "code",
   "execution_count": null,
   "metadata": {},
   "outputs": [],
   "source": [
    "df_cleaned['award_date'] = pd.to_datetime(df_cleaned['award_date'])"
   ]
  },
  {
   "cell_type": "code",
   "execution_count": null,
   "metadata": {},
   "outputs": [],
   "source": [
    "df_cleaned.award_date.dtype"
   ]
  },
  {
   "cell_type": "code",
   "execution_count": null,
   "metadata": {},
   "outputs": [],
   "source": [
    "print(\"The range of awarded date is :\" , min(df_cleaned.award_date.dt.date), \" to \", max(df_cleaned.award_date.dt.date))"
   ]
  },
  {
   "cell_type": "markdown",
   "metadata": {},
   "source": [
    "## Filtering data"
   ]
  },
  {
   "cell_type": "markdown",
   "metadata": {},
   "source": [
    "### Using logical operators to filter rows\n",
    "\n",
    "#### Finding tenders above $1 million dollars"
   ]
  },
  {
   "cell_type": "code",
   "execution_count": null,
   "metadata": {},
   "outputs": [],
   "source": [
    "df_cleaned"
   ]
  },
  {
   "cell_type": "code",
   "execution_count": null,
   "metadata": {},
   "outputs": [],
   "source": [
    "df_cleaned.isnull().any()"
   ]
  },
  {
   "cell_type": "code",
   "execution_count": null,
   "metadata": {},
   "outputs": [],
   "source": [
    "df_cleaned[df_cleaned.awarded_amt >= 1000000]"
   ]
  },
  {
   "cell_type": "markdown",
   "metadata": {},
   "source": [
    "### Nlargest or Nsmallest\n",
    "\n",
    "If we are not filtering based on a threshold, we can use ```nlargest``` or ```nsmallest``` to view the n largest or n smallest rows in a column."
   ]
  },
  {
   "cell_type": "code",
   "execution_count": null,
   "metadata": {},
   "outputs": [],
   "source": [
    "df_cleaned.nlargest(5, \"awarded_amt\")"
   ]
  },
  {
   "cell_type": "code",
   "execution_count": null,
   "metadata": {},
   "outputs": [],
   "source": [
    "df_cleaned.nsmallest(5, \"awarded_amt\")"
   ]
  },
  {
   "cell_type": "markdown",
   "metadata": {},
   "source": [
    "### Filtering by dates\n",
    "\n",
    "#### Finding tenders between 2021 and 2022\n",
    "\n",
    "```datetime``` is part of Python's standard library while Timestamp is a Pandas datatype built on top of NumPy's datetime64 type. Timestamp is designed to be more efficient for storing and usage within dataframes."
   ]
  },
  {
   "cell_type": "code",
   "execution_count": null,
   "metadata": {},
   "outputs": [],
   "source": [
    "start_date = pd.Timestamp('2021-01-01')\n",
    "end_date = pd.Timestamp('2022-12-31')\n",
    "\n",
    "df_filtered = df_cleaned[(df_cleaned['award_date'] >= start_date) & (df_cleaned['award_date']<= end_date)]\n",
    "df_filtered"
   ]
  },
  {
   "cell_type": "markdown",
   "metadata": {},
   "source": [
    "### Filtering by column names\n",
    "\n",
    "The ``` filter ``` function is useful for getting a smaller sized data set from a larger one based on the questions asked. \n",
    "\n",
    "For example, you can use filter to get a one-column dataframe"
   ]
  },
  {
   "cell_type": "code",
   "execution_count": null,
   "metadata": {},
   "outputs": [],
   "source": [
    "df_cleaned.filter([\"supplier_name\"])"
   ]
  },
  {
   "cell_type": "markdown",
   "metadata": {},
   "source": [
    "#### Filtering multiples columns in preferred order/sequence.\n",
    "\n",
    "In addition, you can use filter to get a set of columns in a particular sequence within the dataframe."
   ]
  },
  {
   "cell_type": "code",
   "execution_count": null,
   "metadata": {},
   "outputs": [],
   "source": [
    "df_sm = df_cleaned.filter([\"award_date\", \"supplier_name\",\"awarded_amt\"])\n",
    "df_sm"
   ]
  },
  {
   "cell_type": "markdown",
   "metadata": {},
   "source": [
    "### Filtering columns by strings (like)\n",
    "\n",
    "Using ```like='award'```, we are able to do a case-insensitive filter on the column name\n"
   ]
  },
  {
   "cell_type": "code",
   "execution_count": null,
   "metadata": {},
   "outputs": [],
   "source": [
    "award_columns = df_sm.filter(like='award')\n",
    "award_columns"
   ]
  },
  {
   "cell_type": "markdown",
   "metadata": {},
   "source": [
    "### Filtering columns by strings (regex)\n",
    "\n",
    "Using ```regex='Award'```, we are able to do a case-sensitive filter on the column name.\n",
    "\n",
    "To prepare for the demonstration, we add in a column named \"Award date column\"."
   ]
  },
  {
   "cell_type": "code",
   "execution_count": null,
   "metadata": {},
   "outputs": [],
   "source": [
    "award_columns['Award date column'] = award_columns.iloc[:,:1]\n",
    "award_columns"
   ]
  },
  {
   "cell_type": "code",
   "execution_count": null,
   "metadata": {},
   "outputs": [],
   "source": [
    "award_columns.filter(regex='Award')"
   ]
  },
  {
   "cell_type": "markdown",
   "metadata": {},
   "source": [
    "### Filtering rows based on a given list of values\n",
    "\n",
    "We can filter the dataframe for rows with a value that is found in a list using ```isin```"
   ]
  },
  {
   "cell_type": "code",
   "execution_count": null,
   "metadata": {},
   "outputs": [],
   "source": [
    "shortlist = ['ACCENTURE SG SERVICES PTE. LTD.','ASSURANCE PARTNERS LLP']\n",
    "df_filtered[df_filtered.supplier_name.isin(shortlist)]"
   ]
  },
  {
   "cell_type": "markdown",
   "metadata": {},
   "source": [
    "### Filtering rows based on string values within rows\n",
    "\n",
    "We can use the ```str``` accessor to filter rows, for example, for values that starts with \"STB\" or containing a set of characters. "
   ]
  },
  {
   "cell_type": "code",
   "execution_count": null,
   "metadata": {},
   "outputs": [],
   "source": [
    "df_filtered[df_filtered[\"tender_no\"].str.startswith(\"STB\")]"
   ]
  },
  {
   "cell_type": "code",
   "execution_count": null,
   "metadata": {},
   "outputs": [],
   "source": [
    "df_filtered[df_filtered[\"tender_description\"].str.contains(\"food\")]"
   ]
  },
  {
   "cell_type": "markdown",
   "metadata": {},
   "source": [
    "## Practice: How can we filter rows that contain the word \"application\" and \"software\" in the tender description?"
   ]
  },
  {
   "cell_type": "code",
   "execution_count": null,
   "metadata": {},
   "outputs": [],
   "source": [
    "# try it"
   ]
  },
  {
   "cell_type": "markdown",
   "metadata": {},
   "source": [
    "### Make the filtering of rows based on string values case-insensitive"
   ]
  },
  {
   "cell_type": "code",
   "execution_count": null,
   "metadata": {},
   "outputs": [],
   "source": [
    "df_filtered[df_filtered[\"tender_description\"].str.startswith(\"t\")]"
   ]
  },
  {
   "cell_type": "code",
   "execution_count": null,
   "metadata": {},
   "outputs": [],
   "source": [
    "df_filtered[df_filtered[\"tender_description\"].str.match(r'^t', case=False)]"
   ]
  },
  {
   "cell_type": "markdown",
   "metadata": {},
   "source": [
    "### Self-exploration\n",
    "\n",
    "What does the tilde(```~```) in the follow code do?"
   ]
  },
  {
   "cell_type": "code",
   "execution_count": null,
   "metadata": {},
   "outputs": [],
   "source": [
    "df_filtered[~df_filtered[\"tender_description\"].str.contains(\"application\", case=False)]"
   ]
  },
  {
   "cell_type": "markdown",
   "metadata": {},
   "source": [
    "## Query\n",
    "\n",
    "The ```query()``` function is useful for phrasing questions that uses comparison operators such as \"equal to\" and \"less than\".  It allows the conditions for filtering to be passed as a string."
   ]
  },
  {
   "cell_type": "code",
   "execution_count": null,
   "metadata": {},
   "outputs": [],
   "source": [
    "df_filtered.query('supplier_name == \"SSA ACADEMY PTE. LTD.\" and awarded_amt  >= 1000000')\n"
   ]
  },
  {
   "cell_type": "markdown",
   "metadata": {},
   "source": [
    "## Practice: How can we query for tenders put out by  \"Attorney-General's Chambers\" in 2021?"
   ]
  },
  {
   "cell_type": "code",
   "execution_count": null,
   "metadata": {},
   "outputs": [],
   "source": [
    "# try it"
   ]
  },
  {
   "cell_type": "markdown",
   "metadata": {},
   "source": [
    "## Practice:\n",
    "\n",
    "Now that we are familiar with how to find rows with a specific value, try to find rows with \"unknown\"  and remove these rows."
   ]
  },
  {
   "cell_type": "code",
   "execution_count": null,
   "metadata": {},
   "outputs": [],
   "source": [
    "# try it"
   ]
  },
  {
   "cell_type": "markdown",
   "metadata": {},
   "source": [
    "## Groupby\n",
    "\n",
    "``` groupby ``` is a split-apply-combine operation. It helps to group data in the Dataframe which can lead to answering quantitative questions you may have on the dataset."
   ]
  },
  {
   "cell_type": "markdown",
   "metadata": {},
   "source": [
    "### What is the number of tender awarded to each supplier?\n",
    "\n",
    "**Pass the column name that the grouping should be done on before** specifying the column to perform the count."
   ]
  },
  {
   "cell_type": "code",
   "execution_count": null,
   "metadata": {},
   "outputs": [],
   "source": [
    "number_by_supplier = df_cleaned.groupby(\"supplier_name\")[\"tender_no\"].count()\n",
    "number_by_supplier"
   ]
  },
  {
   "cell_type": "markdown",
   "metadata": {},
   "source": [
    "### Which are the tenders awarded to \"NEC ASIA PACIFIC PTE. LTD.\"?"
   ]
  },
  {
   "cell_type": "code",
   "execution_count": null,
   "metadata": {},
   "outputs": [],
   "source": [
    "number_by_nec = df_cleaned.groupby(\"supplier_name\").get_group(\"NEC ASIA PACIFIC PTE. LTD.\")\n",
    "number_by_nec"
   ]
  },
  {
   "cell_type": "markdown",
   "metadata": {},
   "source": [
    "### What is the total sum of tenders awarded to \"NEC ASIA PACIFIC PTE. LTD.\"?\n"
   ]
  },
  {
   "cell_type": "code",
   "execution_count": null,
   "metadata": {},
   "outputs": [],
   "source": [
    "df_cleaned.groupby(\"supplier_name\").get_group(\"NEC ASIA PACIFIC PTE. LTD.\").awarded_amt.sum()"
   ]
  },
  {
   "cell_type": "markdown",
   "metadata": {},
   "source": [
    "## Practice: What is the total sum of tenders awarded to \"NEC ASIA PACIFIC PTE. LTD.\" by \"Singapore Food Agency\"?"
   ]
  },
  {
   "cell_type": "code",
   "execution_count": null,
   "metadata": {},
   "outputs": [],
   "source": [
    "# try it"
   ]
  },
  {
   "cell_type": "code",
   "execution_count": null,
   "metadata": {},
   "outputs": [],
   "source": []
  },
  {
   "cell_type": "code",
   "execution_count": null,
   "metadata": {},
   "outputs": [],
   "source": []
  },
  {
   "cell_type": "markdown",
   "metadata": {},
   "source": [
    "## Practice: Group by more subsets - Include the year as an additional subset\n",
    "\n",
    "We can have more subsets using ```groupby```.  To achieve this, we can instead year as subset."
   ]
  },
  {
   "cell_type": "code",
   "execution_count": null,
   "metadata": {},
   "outputs": [],
   "source": [
    "# try it"
   ]
  },
  {
   "cell_type": "code",
   "execution_count": null,
   "metadata": {},
   "outputs": [],
   "source": []
  },
  {
   "cell_type": "code",
   "execution_count": null,
   "metadata": {},
   "outputs": [],
   "source": []
  }
 ],
 "metadata": {
  "kernelspec": {
   "display_name": "Python 3",
   "language": "python",
   "name": "python3"
  },
  "language_info": {
   "codemirror_mode": {
    "name": "ipython",
    "version": 3
   },
   "file_extension": ".py",
   "mimetype": "text/x-python",
   "name": "python",
   "nbconvert_exporter": "python",
   "pygments_lexer": "ipython3",
   "version": "3.7.6"
  }
 },
 "nbformat": 4,
 "nbformat_minor": 4
}
