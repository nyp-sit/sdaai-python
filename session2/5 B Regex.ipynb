{
 "cells": [
  {
   "cell_type": "markdown",
   "id": "46e8bd4c",
   "metadata": {},
   "source": [
    "<img src=\"https://nyp-aicourse.s3.ap-southeast-1.amazonaws.com/agods/nyp_ago_logo.png\" width='400'/>"
   ]
  },
  {
   "cell_type": "markdown",
   "id": "795babf9",
   "metadata": {
    "id": "mIIvwNZeFGt6"
   },
   "source": [
    "# Regular Expressions in Python\n",
    "\n",
    "Regular expression is a tool for matching text by looking for a pattern. When we have the exact text, we can use it as a reference to find what we need. However, there are times when we do not know the exact text, for example, when checking whether a user's phone number or email has the proper format.\n",
    "\n",
    "Regular expression can identify the presence or absence of text matching the pattern, and also split a pattern into one or more subpatterns, delivering the specific text within each.\n",
    "\n",
    "Regular Expression is also know as regexes and is performed using the `re` module.\n",
    "\n",
    "## Common reasons for using regular expressions\n",
    "\n",
    "1. Data mining - extracting email, url, phone numbers etc from a large amount of text.\n",
    "\n",
    "2. Validation - determining whether data, especially ones that are external and received by the system, is valid or not.\n",
    "\n",
    "Let's first import the module necessary for using regular expression to begin."
   ]
  },
  {
   "cell_type": "code",
   "execution_count": 1,
   "id": "684cfbd6",
   "metadata": {
    "executionInfo": {
     "elapsed": 3,
     "status": "ok",
     "timestamp": 1690792808086,
     "user": {
      "displayName": "Ching Yuh Lee",
      "userId": "10121666553682752662"
     },
     "user_tz": -480
    },
    "id": "wBmsvK9aGnQM",
    "tags": []
   },
   "outputs": [],
   "source": [
    "import re"
   ]
  },
  {
   "cell_type": "markdown",
   "id": "e6d9f32c",
   "metadata": {
    "id": "p6FBEm-SHOzG"
   },
   "source": [
    "## Regular expression operations\n",
    "\n",
    "For a list of the operations available in the `re` module, check out\n",
    "\n",
    "https://docs.python.org/3/library/re.html#functions\n",
    "\n",
    "We will use search() to take a regular expression and the source text to find matches. If there is no match, re.search will return None.\n",
    "\n",
    "The 'r' preceding the string represents \"raw\". In this case, the \\ character is not interpreted as an escape character.\n",
    "\n",
    "\n",
    "```python\n",
    "source_text = \"Today is a great day to be learning about the great regular expressions\"\n",
    "re.search(r'great', source_text)\n",
    "```\n",
    "\n",
    "Try it in the cell below."
   ]
  },
  {
   "cell_type": "code",
   "execution_count": null,
   "id": "e770002e",
   "metadata": {
    "colab": {
     "base_uri": "https://localhost:8080/"
    },
    "executionInfo": {
     "elapsed": 3,
     "status": "ok",
     "timestamp": 1690793436323,
     "user": {
      "displayName": "Ching Yuh Lee",
      "userId": "10121666553682752662"
     },
     "user_tz": -480
    },
    "id": "Tl5O56ryI6r7",
    "outputId": "f9f53056-47f9-43bc-94bf-4b38f9552ddc"
   },
   "outputs": [],
   "source": []
  },
  {
   "cell_type": "markdown",
   "id": "d6d599e8",
   "metadata": {
    "id": "lV__z6E9JQ21"
   },
   "source": [
    "Observe that a `re.Match` object is returned.\n",
    "\n",
    "At this point, it should be noted that a `match()` method exist and it only searches for a match that starts at the beginning of the string and not anywhere in a string."
   ]
  },
  {
   "cell_type": "code",
   "execution_count": 2,
   "id": "1958faab",
   "metadata": {
    "executionInfo": {
     "elapsed": 301,
     "status": "ok",
     "timestamp": 1690794035380,
     "user": {
      "displayName": "Ching Yuh Lee",
      "userId": "10121666553682752662"
     },
     "user_tz": -480
    },
    "id": "Kfl7Pl0lKZYL",
    "tags": []
   },
   "outputs": [],
   "source": [
    "re.match(\"c\", \"abcdef\")    # No match"
   ]
  },
  {
   "cell_type": "code",
   "execution_count": 3,
   "id": "4a519481",
   "metadata": {
    "colab": {
     "base_uri": "https://localhost:8080/"
    },
    "executionInfo": {
     "elapsed": 378,
     "status": "ok",
     "timestamp": 1690794038259,
     "user": {
      "displayName": "Ching Yuh Lee",
      "userId": "10121666553682752662"
     },
     "user_tz": -480
    },
    "id": "Q_fpYPJtLUUl",
    "outputId": "24da9301-afe4-4ae4-f1c1-45787a39f1c4",
    "tags": []
   },
   "outputs": [
    {
     "data": {
      "text/plain": [
       "<re.Match object; span=(2, 3), match='c'>"
      ]
     },
     "execution_count": 3,
     "metadata": {},
     "output_type": "execute_result"
    }
   ],
   "source": [
    "re.search(\"c\", \"abcdef\")   # Match"
   ]
  },
  {
   "cell_type": "markdown",
   "id": "8f1dc0a2",
   "metadata": {
    "id": "437034b7"
   },
   "source": [
    "The Match object is important as it provides methods to inform us about the match.\n",
    "\n",
    "The `group()` method returns a string with the text of the match while `groups()` and `groupdict()` can be used to call out subsections of the regular expression.\n",
    "\n",
    "## findall and finditer\n",
    "\n",
    "The two methods reurnt all non-overlapping mathces, including empty matches. The findall method returns a list while the finditer method returns a generator.\n",
    "\n",
    "Both do not return a `re.Match` object.\n",
    "\n",
    "The 2 methods are different from search() which only return the first match."
   ]
  },
  {
   "cell_type": "code",
   "execution_count": 4,
   "id": "71e0158a",
   "metadata": {
    "colab": {
     "base_uri": "https://localhost:8080/"
    },
    "executionInfo": {
     "elapsed": 5,
     "status": "ok",
     "timestamp": 1690795039212,
     "user": {
      "displayName": "Ching Yuh Lee",
      "userId": "10121666553682752662"
     },
     "user_tz": -480
    },
    "id": "XUPtZfTPOgNO",
    "outputId": "7c1baf75-67b8-4b92-8650-c88b5f06307c",
    "tags": []
   },
   "outputs": [
    {
     "data": {
      "text/plain": [
       "['a', 'a', 'a']"
      ]
     },
     "execution_count": 4,
     "metadata": {},
     "output_type": "execute_result"
    }
   ],
   "source": [
    "re.findall(r'a', 'zabcedfgabcdefg apple')"
   ]
  },
  {
   "cell_type": "code",
   "execution_count": 5,
   "id": "9e538bb3",
   "metadata": {
    "executionInfo": {
     "elapsed": 324,
     "status": "ok",
     "timestamp": 1690795164562,
     "user": {
      "displayName": "Ching Yuh Lee",
      "userId": "10121666553682752662"
     },
     "user_tz": -480
    },
    "id": "bQIU1P3MPOwB",
    "tags": []
   },
   "outputs": [],
   "source": [
    "found = re.finditer(r'a', 'zabcedfgabcdefg apple')"
   ]
  },
  {
   "cell_type": "code",
   "execution_count": 6,
   "id": "e604353e",
   "metadata": {
    "colab": {
     "base_uri": "https://localhost:8080/"
    },
    "executionInfo": {
     "elapsed": 3,
     "status": "ok",
     "timestamp": 1690795176121,
     "user": {
      "displayName": "Ching Yuh Lee",
      "userId": "10121666553682752662"
     },
     "user_tz": -480
    },
    "id": "mcLaNeZYPi7S",
    "outputId": "17c19ee1-ffae-4ab0-e4c5-ab44f0dd3879",
    "tags": []
   },
   "outputs": [
    {
     "name": "stdout",
     "output_type": "stream",
     "text": [
      "<re.Match object; span=(1, 2), match='a'>\n",
      "<re.Match object; span=(8, 9), match='a'>\n",
      "<re.Match object; span=(16, 17), match='a'>\n"
     ]
    }
   ],
   "source": [
    "for i in found:\n",
    "  print(i)"
   ]
  },
  {
   "cell_type": "markdown",
   "id": "04ef80ea",
   "metadata": {
    "id": "IKaRatKIQEDp"
   },
   "source": [
    "## Some basic examples\n",
    "\n",
    "Regular expression by default are case-sensitive."
   ]
  },
  {
   "cell_type": "code",
   "execution_count": 7,
   "id": "4dbbce43",
   "metadata": {
    "executionInfo": {
     "elapsed": 524,
     "status": "ok",
     "timestamp": 1690795861014,
     "user": {
      "displayName": "Ching Yuh Lee",
      "userId": "10121666553682752662"
     },
     "user_tz": -480
    },
    "id": "r_SxAszDRIte",
    "tags": []
   },
   "outputs": [],
   "source": [
    "re.search(r\"C\", \"abcdef\")    # No match"
   ]
  },
  {
   "cell_type": "code",
   "execution_count": 8,
   "id": "007165a5",
   "metadata": {
    "executionInfo": {
     "elapsed": 1,
     "status": "ok",
     "timestamp": 1690795862432,
     "user": {
      "displayName": "Ching Yuh Lee",
      "userId": "10121666553682752662"
     },
     "user_tz": -480
    },
    "id": "xjJezEggRQEx",
    "tags": []
   },
   "outputs": [],
   "source": [
    "re.search(r\"Simple\", \"simple\") # No match"
   ]
  },
  {
   "cell_type": "code",
   "execution_count": 9,
   "id": "0e66d297",
   "metadata": {
    "colab": {
     "base_uri": "https://localhost:8080/"
    },
    "executionInfo": {
     "elapsed": 3,
     "status": "ok",
     "timestamp": 1690795864597,
     "user": {
      "displayName": "Ching Yuh Lee",
      "userId": "10121666553682752662"
     },
     "user_tz": -480
    },
    "id": "F4IYp5_HR_Jd",
    "outputId": "142e9a31-ba7f-49e3-ec8b-a13b57a385f7",
    "tags": []
   },
   "outputs": [
    {
     "data": {
      "text/plain": [
       "<re.Match object; span=(10, 16), match='Simple'>"
      ]
     },
     "execution_count": 9,
     "metadata": {},
     "output_type": "execute_result"
    }
   ],
   "source": [
    "re.search(r\"Simple\", \"This is a Simple tale\") # match word in a larger block of text\""
   ]
  },
  {
   "cell_type": "markdown",
   "id": "e2dd073f",
   "metadata": {
    "id": "emkHU0RZSnjK"
   },
   "source": [
    "## Character Classes\n",
    "\n",
    "Specify that a single character should match one of a set of possible characters, rather that just a single character.\n",
    "\n",
    "Denote the character class by using square brackets and listing the possible characters within the brackets."
   ]
  },
  {
   "cell_type": "code",
   "execution_count": 10,
   "id": "9a8190ed",
   "metadata": {
    "colab": {
     "base_uri": "https://localhost:8080/"
    },
    "executionInfo": {
     "elapsed": 303,
     "status": "ok",
     "timestamp": 1690796228200,
     "user": {
      "displayName": "Ching Yuh Lee",
      "userId": "10121666553682752662"
     },
     "user_tz": -480
    },
    "id": "ulUoWJ35S_lp",
    "outputId": "43810496-3b50-4399-ba5f-d35f7e951a8b",
    "tags": []
   },
   "outputs": [
    {
     "data": {
      "text/plain": [
       "<re.Match object; span=(6, 11), match='Merry'>"
      ]
     },
     "execution_count": 10,
     "metadata": {},
     "output_type": "execute_result"
    }
   ],
   "source": [
    "re.search(r\"[Mm]erry\", \"Berry Merry\")"
   ]
  },
  {
   "cell_type": "code",
   "execution_count": 11,
   "id": "c215edcf",
   "metadata": {
    "colab": {
     "base_uri": "https://localhost:8080/"
    },
    "executionInfo": {
     "elapsed": 3,
     "status": "ok",
     "timestamp": 1690796226654,
     "user": {
      "displayName": "Ching Yuh Lee",
      "userId": "10121666553682752662"
     },
     "user_tz": -480
    },
    "id": "4ppl_-F6Td5f",
    "outputId": "7b0fdc60-2fca-4f84-9e47-b64272dc7a3c",
    "tags": []
   },
   "outputs": [
    {
     "data": {
      "text/plain": [
       "<re.Match object; span=(6, 11), match='merry'>"
      ]
     },
     "execution_count": 11,
     "metadata": {},
     "output_type": "execute_result"
    }
   ],
   "source": [
    "re.search(r\"[Mm]erry\", \"berry merry\")"
   ]
  },
  {
   "cell_type": "code",
   "execution_count": 12,
   "id": "265af81f",
   "metadata": {
    "executionInfo": {
     "elapsed": 326,
     "status": "ok",
     "timestamp": 1690796285290,
     "user": {
      "displayName": "Ching Yuh Lee",
      "userId": "10121666553682752662"
     },
     "user_tz": -480
    },
    "id": "dCTNO0WYT0s4",
    "tags": []
   },
   "outputs": [],
   "source": [
    "re.search(r\"[Mm]erry\", \"berry MERRY\")"
   ]
  },
  {
   "cell_type": "markdown",
   "id": "a7d9bbb1",
   "metadata": {
    "id": "0g1xn7NRT-20"
   },
   "source": [
    "The use of the character classes did not make the entire word case-insensitive but it could be useful for words that have different spelling."
   ]
  },
  {
   "cell_type": "code",
   "execution_count": 13,
   "id": "64fcf220",
   "metadata": {
    "colab": {
     "base_uri": "https://localhost:8080/"
    },
    "executionInfo": {
     "elapsed": 329,
     "status": "ok",
     "timestamp": 1690796580380,
     "user": {
      "displayName": "Ching Yuh Lee",
      "userId": "10121666553682752662"
     },
     "user_tz": -480
    },
    "id": "lbcw3JmFU7lO",
    "outputId": "2fe9ed47-9db0-4a06-b612-8aed4f282d5d",
    "tags": []
   },
   "outputs": [
    {
     "data": {
      "text/plain": [
       "<re.Match object; span=(0, 4), match='gray'>"
      ]
     },
     "execution_count": 13,
     "metadata": {},
     "output_type": "execute_result"
    }
   ],
   "source": [
    "re.search(r\"gr[ae]y\", \"gray color\")"
   ]
  },
  {
   "cell_type": "code",
   "execution_count": 14,
   "id": "b636abb2",
   "metadata": {
    "executionInfo": {
     "elapsed": 320,
     "status": "ok",
     "timestamp": 1690796621274,
     "user": {
      "displayName": "Ching Yuh Lee",
      "userId": "10121666553682752662"
     },
     "user_tz": -480
    },
    "id": "2jZdAI_-VNxP",
    "tags": []
   },
   "outputs": [],
   "source": [
    "re.search(r\"gr[ae]y\", \"graey color\")"
   ]
  },
  {
   "cell_type": "markdown",
   "id": "75963be7",
   "metadata": {
    "id": "BdPCt940VQ9A"
   },
   "source": [
    "The character class will only match to 1 character. As a result, the previous regular expression has no match ('y' is compared to 'e' in the source text and that does not match.\n",
    "\n",
    "## Ranges using hyphen (-)\n",
    "\n",
    "With the large number of digits and letters, it is more convenient to use hyphen to denote ranges of digits and alphabets.\n",
    "\n",
    "|Ranges| Match|\n",
    "|---|---|\n",
    "|`[0-9]` |   Match any digit|\n",
    "|`[a-z]` |   Match any lowercase letters|\n",
    "|`[A-Z]` |   Match any uppercase letters|\n",
    "|`[A-Za-z]`|   Match any lowercase or uppercase letters|\n",
    "|`[A-Za-z0-9_-]`|   Match any lowercase letters, uppercase letters, underscore or hyphen|"
   ]
  },
  {
   "cell_type": "code",
   "execution_count": 15,
   "id": "d00ae2fd",
   "metadata": {
    "colab": {
     "base_uri": "https://localhost:8080/"
    },
    "executionInfo": {
     "elapsed": 377,
     "status": "ok",
     "timestamp": 1690804547844,
     "user": {
      "displayName": "Ching Yuh Lee",
      "userId": "10121666553682752662"
     },
     "user_tz": -480
    },
    "id": "WzBrumC2visv",
    "outputId": "0ff996d5-ebbc-4914-b392-504f135669c7",
    "tags": []
   },
   "outputs": [
    {
     "data": {
      "text/plain": [
       "<re.Match object; span=(4, 5), match='-'>"
      ]
     },
     "execution_count": 15,
     "metadata": {},
     "output_type": "execute_result"
    }
   ],
   "source": [
    "re.search(r\"[0-9_-]\", \"gray-color\")"
   ]
  },
  {
   "cell_type": "markdown",
   "id": "70246f83",
   "metadata": {
    "id": "KB11jDO5zirG"
   },
   "source": [
    "## Negation using ^ (circumflex, also called the hat operator)\n",
    "\n",
    "Define a character class by the characters that do not occur.\n",
    "\n",
    "|Ranges| Match|\n",
    "|---|---|\n",
    "|`[^0-9]` |   Match any non-digit|\n",
    "|`[^a-z]` |   Match any non-lowercase letter|"
   ]
  },
  {
   "cell_type": "code",
   "execution_count": 16,
   "id": "9095014d",
   "metadata": {
    "colab": {
     "base_uri": "https://localhost:8080/"
    },
    "executionInfo": {
     "elapsed": 329,
     "status": "ok",
     "timestamp": 1690805431867,
     "user": {
      "displayName": "Ching Yuh Lee",
      "userId": "10121666553682752662"
     },
     "user_tz": -480
    },
    "id": "aoZvpOnn0Ig9",
    "outputId": "c656f737-ac2e-4fa0-aad9-0eb726f3f3f1",
    "tags": []
   },
   "outputs": [
    {
     "data": {
      "text/plain": [
       "<re.Match object; span=(0, 1), match='g'>"
      ]
     },
     "execution_count": 16,
     "metadata": {},
     "output_type": "execute_result"
    }
   ],
   "source": [
    "re.search(r\"[^0-9]\", \"gray-color\")"
   ]
  },
  {
   "cell_type": "code",
   "execution_count": 17,
   "id": "2dfeabc7",
   "metadata": {
    "colab": {
     "base_uri": "https://localhost:8080/"
    },
    "executionInfo": {
     "elapsed": 317,
     "status": "ok",
     "timestamp": 1690805460266,
     "user": {
      "displayName": "Ching Yuh Lee",
      "userId": "10121666553682752662"
     },
     "user_tz": -480
    },
    "id": "y918Bcny23pI",
    "outputId": "eccfdd33-84a4-444a-db4a-2782cfe821b3",
    "tags": []
   },
   "outputs": [
    {
     "data": {
      "text/plain": [
       "<re.Match object; span=(4, 5), match='-'>"
      ]
     },
     "execution_count": 17,
     "metadata": {},
     "output_type": "execute_result"
    }
   ],
   "source": [
    "re.search(r\"[^a-z]\", \"gray-color\")"
   ]
  },
  {
   "cell_type": "markdown",
   "id": "b34a8fb1",
   "metadata": {
    "id": "xncG0RWi3TDs"
   },
   "source": [
    "When we are using negation, be aware that there are numbers, letters and symbols to be considered.\n",
    "\n",
    "For example, the regular expression `e[^d]` will be finding the character 'e' followed by any character that is not a 'd'"
   ]
  },
  {
   "cell_type": "code",
   "execution_count": 18,
   "id": "c776b593",
   "metadata": {
    "executionInfo": {
     "elapsed": 316,
     "status": "ok",
     "timestamp": 1690805891529,
     "user": {
      "displayName": "Ching Yuh Lee",
      "userId": "10121666553682752662"
     },
     "user_tz": -480
    },
    "id": "-WO78DlD4ezs",
    "tags": []
   },
   "outputs": [],
   "source": [
    "re.search(r\"e[^d]\", \"padded\") #no match"
   ]
  },
  {
   "cell_type": "code",
   "execution_count": 19,
   "id": "e71ba39d",
   "metadata": {
    "executionInfo": {
     "elapsed": 3,
     "status": "ok",
     "timestamp": 1690806094519,
     "user": {
      "displayName": "Ching Yuh Lee",
      "userId": "10121666553682752662"
     },
     "user_tz": -480
    },
    "id": "00LSt4cO5TpD",
    "tags": []
   },
   "outputs": [],
   "source": [
    "re.search(r\"e[^d]\", \"made\") #no match"
   ]
  },
  {
   "cell_type": "code",
   "execution_count": 20,
   "id": "708bf521",
   "metadata": {
    "colab": {
     "base_uri": "https://localhost:8080/"
    },
    "executionInfo": {
     "elapsed": 313,
     "status": "ok",
     "timestamp": 1690805958470,
     "user": {
      "displayName": "Ching Yuh Lee",
      "userId": "10121666553682752662"
     },
     "user_tz": -480
    },
    "id": "3AvddD4T4pMh",
    "outputId": "2a256240-a08a-4a88-8d6b-49adac757d8c",
    "tags": []
   },
   "outputs": [
    {
     "data": {
      "text/plain": [
       "<re.Match object; span=(1, 3), match='ea'>"
      ]
     },
     "execution_count": 20,
     "metadata": {},
     "output_type": "execute_result"
    }
   ],
   "source": [
    "re.search(r\"e[^d]\", \"pears\")"
   ]
  },
  {
   "cell_type": "code",
   "execution_count": 21,
   "id": "b4f572e0",
   "metadata": {
    "colab": {
     "base_uri": "https://localhost:8080/"
    },
    "executionInfo": {
     "elapsed": 428,
     "status": "ok",
     "timestamp": 1690806006560,
     "user": {
      "displayName": "Ching Yuh Lee",
      "userId": "10121666553682752662"
     },
     "user_tz": -480
    },
    "id": "IjjQF3cF452o",
    "outputId": "2f913ece-06c9-4285-f891-47d0703ced0f",
    "tags": []
   },
   "outputs": [
    {
     "data": {
      "text/plain": [
       "<re.Match object; span=(3, 5), match='e@'>"
      ]
     },
     "execution_count": 21,
     "metadata": {},
     "output_type": "execute_result"
    }
   ],
   "source": [
    "re.search(r\"e[^d]\", \"fade@gmail.com\")"
   ]
  },
  {
   "cell_type": "code",
   "execution_count": 22,
   "id": "5b8d6a37",
   "metadata": {
    "colab": {
     "base_uri": "https://localhost:8080/"
    },
    "executionInfo": {
     "elapsed": 336,
     "status": "ok",
     "timestamp": 1690806039136,
     "user": {
      "displayName": "Ching Yuh Lee",
      "userId": "10121666553682752662"
     },
     "user_tz": -480
    },
    "id": "7DjzToaD5E2E",
    "outputId": "831c1f01-359a-48bd-e7a1-e7ae52479f4d",
    "tags": []
   },
   "outputs": [
    {
     "data": {
      "text/plain": [
       "<re.Match object; span=(1, 3), match='e '>"
      ]
     },
     "execution_count": 22,
     "metadata": {},
     "output_type": "execute_result"
    }
   ],
   "source": [
    "re.search(r\"e[^d]\", \"be f g h\")"
   ]
  },
  {
   "cell_type": "markdown",
   "id": "681e3aa7",
   "metadata": {
    "id": "TCWbAadd5h7a"
   },
   "source": [
    "## Shortcuts\n",
    "\n",
    "A shortcut (\\w) can be used to match \"any word character\". In Python 3, it essentially matches any word character in any language, including digits, _ and -.\n",
    "\n",
    "A shortcut (\\d) can be used to match \"any digit character\". In Python 3, it matches digit characters in other languages.\n",
    "\n",
    "A shortcut (\\s) is used to match whitespace characters such as space, tab, and newline.\n",
    "\n",
    "A shortcut (\\b) is used to match a zero-length substring at the beginning or end of a word. It is a word boundary character shortcut."
   ]
  },
  {
   "cell_type": "code",
   "execution_count": 23,
   "id": "4d524445",
   "metadata": {
    "colab": {
     "base_uri": "https://localhost:8080/"
    },
    "executionInfo": {
     "elapsed": 330,
     "status": "ok",
     "timestamp": 1690806824804,
     "user": {
      "displayName": "Ching Yuh Lee",
      "userId": "10121666553682752662"
     },
     "user_tz": -480
    },
    "id": "NhPZyySL79Dc",
    "outputId": "617ff63f-1d10-4e4d-e67d-594a147d3a34",
    "tags": []
   },
   "outputs": [
    {
     "data": {
      "text/plain": [
       "['I', 't', 'i', 's', '3', 'o', 'c', 'l', 'o', 'c', 'k']"
      ]
     },
     "execution_count": 23,
     "metadata": {},
     "output_type": "execute_result"
    }
   ],
   "source": [
    "re.findall(r'\\w',\"It is 3 o'clock.\")"
   ]
  },
  {
   "cell_type": "code",
   "execution_count": 24,
   "id": "e3870ce2",
   "metadata": {
    "colab": {
     "base_uri": "https://localhost:8080/"
    },
    "executionInfo": {
     "elapsed": 306,
     "status": "ok",
     "timestamp": 1690806872539,
     "user": {
      "displayName": "Ching Yuh Lee",
      "userId": "10121666553682752662"
     },
     "user_tz": -480
    },
    "id": "RKde5Q_R8T0G",
    "outputId": "a703d382-46c5-48b1-c3af-9b446a17d8b2",
    "tags": []
   },
   "outputs": [
    {
     "data": {
      "text/plain": [
       "['3']"
      ]
     },
     "execution_count": 24,
     "metadata": {},
     "output_type": "execute_result"
    }
   ],
   "source": [
    "re.findall(r'\\d',\"It is 3 o'clock.\")"
   ]
  },
  {
   "cell_type": "code",
   "execution_count": 25,
   "id": "07658bab",
   "metadata": {
    "colab": {
     "base_uri": "https://localhost:8080/"
    },
    "executionInfo": {
     "elapsed": 341,
     "status": "ok",
     "timestamp": 1690806883442,
     "user": {
      "displayName": "Ching Yuh Lee",
      "userId": "10121666553682752662"
     },
     "user_tz": -480
    },
    "id": "XqEeTDaq8XTv",
    "outputId": "6ad77699-8cc9-454e-f53d-4110ac209a8c",
    "tags": []
   },
   "outputs": [
    {
     "data": {
      "text/plain": [
       "[' ', ' ', ' ']"
      ]
     },
     "execution_count": 25,
     "metadata": {},
     "output_type": "execute_result"
    }
   ],
   "source": [
    "re.findall(r'\\s',\"It is 3 o'clock.\")"
   ]
  },
  {
   "cell_type": "code",
   "execution_count": 26,
   "id": "33b958b3",
   "metadata": {
    "colab": {
     "base_uri": "https://localhost:8080/"
    },
    "executionInfo": {
     "elapsed": 342,
     "status": "ok",
     "timestamp": 1690807016074,
     "user": {
      "displayName": "Ching Yuh Lee",
      "userId": "10121666553682752662"
     },
     "user_tz": -480
    },
    "id": "dGIOlhqD8bgx",
    "outputId": "9658c0f4-7435-4cdb-e442-e202a58136b7",
    "tags": []
   },
   "outputs": [
    {
     "data": {
      "text/plain": [
       "['i', 'i', 'i']"
      ]
     },
     "execution_count": 26,
     "metadata": {},
     "output_type": "execute_result"
    }
   ],
   "source": [
    "re.findall(r'\\bi',\"i am late. it is 3 o'clock.\")"
   ]
  },
  {
   "cell_type": "code",
   "execution_count": 27,
   "id": "b8c070db",
   "metadata": {
    "colab": {
     "base_uri": "https://localhost:8080/"
    },
    "executionInfo": {
     "elapsed": 311,
     "status": "ok",
     "timestamp": 1690807042452,
     "user": {
      "displayName": "Ching Yuh Lee",
      "userId": "10121666553682752662"
     },
     "user_tz": -480
    },
    "id": "PYS4Ab2n8plA",
    "outputId": "d89c669b-8850-4c7e-abc8-84956bc85d5b",
    "tags": []
   },
   "outputs": [
    {
     "data": {
      "text/plain": [
       "['i']"
      ]
     },
     "execution_count": 27,
     "metadata": {},
     "output_type": "execute_result"
    }
   ],
   "source": [
    "re.findall(r'\\bi\\b',\"i am late. it is 3 o'clock.\")"
   ]
  },
  {
   "cell_type": "markdown",
   "id": "7fe2f0d5",
   "metadata": {
    "id": "DvWAUm7g9Hxc"
   },
   "source": [
    "## Shortcuts negation\n",
    "\n",
    "|Negated Shortcut| Match|\n",
    "|---|---|\n",
    "|`\\W` |   Match any character other than word character|\n",
    "|`\\D` |   Match any character other than digit character|\n",
    "|`\\S` |   Match any character other than whitespace character|\n",
    "|`\\B`|   Match a zero-length substring that is not at the beginning or end of a word.|"
   ]
  },
  {
   "cell_type": "code",
   "execution_count": 28,
   "id": "d43135f0",
   "metadata": {
    "colab": {
     "base_uri": "https://localhost:8080/"
    },
    "executionInfo": {
     "elapsed": 321,
     "status": "ok",
     "timestamp": 1690807403247,
     "user": {
      "displayName": "Ching Yuh Lee",
      "userId": "10121666553682752662"
     },
     "user_tz": -480
    },
    "id": "nsa4bKsr-WiF",
    "outputId": "c2bcf826-1292-42d0-cd10-cae89a717589",
    "tags": []
   },
   "outputs": [
    {
     "data": {
      "text/plain": [
       "[' ', ' ', ' ', \"'\", '.']"
      ]
     },
     "execution_count": 28,
     "metadata": {},
     "output_type": "execute_result"
    }
   ],
   "source": [
    "re.findall(r'\\W',\"It is 3 o'clock.\")"
   ]
  },
  {
   "cell_type": "code",
   "execution_count": 29,
   "id": "bd99d42f",
   "metadata": {
    "colab": {
     "base_uri": "https://localhost:8080/"
    },
    "executionInfo": {
     "elapsed": 304,
     "status": "ok",
     "timestamp": 1690807421498,
     "user": {
      "displayName": "Ching Yuh Lee",
      "userId": "10121666553682752662"
     },
     "user_tz": -480
    },
    "id": "InErSATu-WiG",
    "outputId": "77283a3c-d1af-42f7-b43e-740b08e64271",
    "tags": []
   },
   "outputs": [
    {
     "data": {
      "text/plain": [
       "['I', 't', ' ', 'i', 's', ' ', ' ', 'o', \"'\", 'c', 'l', 'o', 'c', 'k', '.']"
      ]
     },
     "execution_count": 29,
     "metadata": {},
     "output_type": "execute_result"
    }
   ],
   "source": [
    "re.findall(r'\\D',\"It is 3 o'clock.\")"
   ]
  },
  {
   "cell_type": "code",
   "execution_count": 30,
   "id": "1e4727b3",
   "metadata": {
    "colab": {
     "base_uri": "https://localhost:8080/"
    },
    "executionInfo": {
     "elapsed": 319,
     "status": "ok",
     "timestamp": 1690807436012,
     "user": {
      "displayName": "Ching Yuh Lee",
      "userId": "10121666553682752662"
     },
     "user_tz": -480
    },
    "id": "VTeHC7pZ-WiG",
    "outputId": "60c5e59f-3a58-43b0-c091-7fc0280896ed",
    "tags": []
   },
   "outputs": [
    {
     "data": {
      "text/plain": [
       "['I', 't', 'i', 's', '3', 'o', \"'\", 'c', 'l', 'o', 'c', 'k', '.']"
      ]
     },
     "execution_count": 30,
     "metadata": {},
     "output_type": "execute_result"
    }
   ],
   "source": [
    "re.findall(r'\\S',\"It is 3 o'clock.\")"
   ]
  },
  {
   "cell_type": "code",
   "execution_count": 31,
   "id": "f4be2f2f",
   "metadata": {
    "colab": {
     "base_uri": "https://localhost:8080/"
    },
    "executionInfo": {
     "elapsed": 446,
     "status": "ok",
     "timestamp": 1690807702814,
     "user": {
      "displayName": "Ching Yuh Lee",
      "userId": "10121666553682752662"
     },
     "user_tz": -480
    },
    "id": "ACrAg78j-WiG",
    "outputId": "cc1d30bf-8fa6-44f7-ddfe-c626c2f5cb17",
    "tags": []
   },
   "outputs": [
    {
     "data": {
      "text/plain": [
       "['i', 'i', 'i']"
      ]
     },
     "execution_count": 31,
     "metadata": {},
     "output_type": "execute_result"
    }
   ],
   "source": [
    "re.findall(r'\\Bi',\"I am counting pi on the bins. It is 3 o'clock.\")"
   ]
  },
  {
   "cell_type": "markdown",
   "id": "4a32d9a7",
   "metadata": {
    "id": "BGY4SkZ7B3ug"
   },
   "source": [
    "\"I am count**i**ng p**i** on the b**i**ns. It is 3 o'clock.\""
   ]
  },
  {
   "cell_type": "code",
   "execution_count": 32,
   "id": "292cf622",
   "metadata": {
    "colab": {
     "base_uri": "https://localhost:8080/"
    },
    "executionInfo": {
     "elapsed": 313,
     "status": "ok",
     "timestamp": 1690807699985,
     "user": {
      "displayName": "Ching Yuh Lee",
      "userId": "10121666553682752662"
     },
     "user_tz": -480
    },
    "id": "EpCgVOYo-WiH",
    "outputId": "94fbd199-1a09-47ad-c280-c9b1bc4b590f",
    "tags": []
   },
   "outputs": [
    {
     "data": {
      "text/plain": [
       "['i', 'i']"
      ]
     },
     "execution_count": 32,
     "metadata": {},
     "output_type": "execute_result"
    }
   ],
   "source": [
    "re.findall(r'\\Bi\\B',\"I am counting pi on the bins. It is 3 o'clock.\")"
   ]
  },
  {
   "cell_type": "markdown",
   "id": "c34564ad",
   "metadata": {
    "id": "UiCsiu3GBywm"
   },
   "source": [
    "\"I am count**i**ng pi on the b**i**ns. It is 3 o'clock.\""
   ]
  },
  {
   "cell_type": "markdown",
   "id": "d4671560",
   "metadata": {
    "id": "b5ayTi_dCI3P"
   },
   "source": [
    "## Beginning and End of String\n",
    "\n",
    "^ character is also used to match against the beginning of a string.\n",
    "\n",
    "$ character is used to match agains the end of a string."
   ]
  },
  {
   "cell_type": "code",
   "execution_count": 33,
   "id": "ec911ec3",
   "metadata": {
    "executionInfo": {
     "elapsed": 302,
     "status": "ok",
     "timestamp": 1690808539347,
     "user": {
      "displayName": "Ching Yuh Lee",
      "userId": "10121666553682752662"
     },
     "user_tz": -480
    },
    "id": "havw6wIqCcEK",
    "tags": []
   },
   "outputs": [],
   "source": [
    "re.search(r\"^Practice\", \"The Never-ending Practice\") #no match"
   ]
  },
  {
   "cell_type": "code",
   "execution_count": 34,
   "id": "f6734e59",
   "metadata": {
    "colab": {
     "base_uri": "https://localhost:8080/"
    },
    "executionInfo": {
     "elapsed": 303,
     "status": "ok",
     "timestamp": 1690808566980,
     "user": {
      "displayName": "Ching Yuh Lee",
      "userId": "10121666553682752662"
     },
     "user_tz": -480
    },
    "id": "ywZmIaKQCcMx",
    "outputId": "c5631a61-b6e1-4665-b1a6-17205e1e247c",
    "tags": []
   },
   "outputs": [
    {
     "data": {
      "text/plain": [
       "<re.Match object; span=(0, 8), match='Practice'>"
      ]
     },
     "execution_count": 34,
     "metadata": {},
     "output_type": "execute_result"
    }
   ],
   "source": [
    "re.search(r\"^Practice\", \"Practice, Never-ending\")"
   ]
  },
  {
   "cell_type": "code",
   "execution_count": 35,
   "id": "0b5a3837",
   "metadata": {
    "colab": {
     "base_uri": "https://localhost:8080/"
    },
    "executionInfo": {
     "elapsed": 350,
     "status": "ok",
     "timestamp": 1690808681217,
     "user": {
      "displayName": "Ching Yuh Lee",
      "userId": "10121666553682752662"
     },
     "user_tz": -480
    },
    "id": "WCXRESBvDNNj",
    "outputId": "95da3f69-badd-4ecc-e58f-5b40487a45d6",
    "tags": []
   },
   "outputs": [
    {
     "data": {
      "text/plain": [
       "<re.Match object; span=(17, 25), match='Practice'>"
      ]
     },
     "execution_count": 35,
     "metadata": {},
     "output_type": "execute_result"
    }
   ],
   "source": [
    "re.search(r\"Practice$\", \"The Never-ending Practice\")"
   ]
  },
  {
   "cell_type": "code",
   "execution_count": 36,
   "id": "dd6cd97a",
   "metadata": {
    "executionInfo": {
     "elapsed": 327,
     "status": "ok",
     "timestamp": 1690808696153,
     "user": {
      "displayName": "Ching Yuh Lee",
      "userId": "10121666553682752662"
     },
     "user_tz": -480
    },
    "id": "qx9FZpwNDNNr",
    "tags": []
   },
   "outputs": [],
   "source": [
    "re.search(r\"Practice$\", \"Practice, Never-ending\") #no match"
   ]
  },
  {
   "cell_type": "code",
   "execution_count": 37,
   "id": "17d285e9",
   "metadata": {
    "executionInfo": {
     "elapsed": 324,
     "status": "ok",
     "timestamp": 1690808733361,
     "user": {
      "displayName": "Ching Yuh Lee",
      "userId": "10121666553682752662"
     },
     "user_tz": -480
    },
    "id": "tZ2W4nmYDbcB",
    "tags": []
   },
   "outputs": [],
   "source": [
    "re.search(r\"Practice$\", \"The Never-ending Practice \") #no match as end of string is a whitespace\""
   ]
  },
  {
   "cell_type": "markdown",
   "id": "e3b449ed",
   "metadata": {
    "id": "smakARZpDudb"
   },
   "source": [
    "## Any character using (.)\n",
    "\n",
    "This is used outside of the bracketed character class, and it is used to match any single character except the newline (\\n)"
   ]
  },
  {
   "cell_type": "code",
   "execution_count": 38,
   "id": "213027d1",
   "metadata": {
    "colab": {
     "base_uri": "https://localhost:8080/"
    },
    "executionInfo": {
     "elapsed": 306,
     "status": "ok",
     "timestamp": 1690808939721,
     "user": {
      "displayName": "Ching Yuh Lee",
      "userId": "10121666553682752662"
     },
     "user_tz": -480
    },
    "id": "JfzkjHUDEIAf",
    "outputId": "fe979807-fb9b-4bfb-9df8-c0b5c0510428",
    "tags": []
   },
   "outputs": [
    {
     "data": {
      "text/plain": [
       "<re.Match object; span=(4, 9), match='Never'>"
      ]
     },
     "execution_count": 38,
     "metadata": {},
     "output_type": "execute_result"
    }
   ],
   "source": [
    "re.search(r\".ever\", \"The Never-ending Practice\")"
   ]
  },
  {
   "cell_type": "code",
   "execution_count": 39,
   "id": "dc856c05",
   "metadata": {
    "colab": {
     "base_uri": "https://localhost:8080/"
    },
    "executionInfo": {
     "elapsed": 314,
     "status": "ok",
     "timestamp": 1690809021931,
     "user": {
      "displayName": "Ching Yuh Lee",
      "userId": "10121666553682752662"
     },
     "user_tz": -480
    },
    "id": "BeOyiY4oEVgs",
    "outputId": "92462208-c09f-4826-c9d9-c00491b6f9e0",
    "tags": []
   },
   "outputs": [
    {
     "data": {
      "text/plain": [
       "['The', ' Ne', 'r-e', 'ice']"
      ]
     },
     "execution_count": 39,
     "metadata": {},
     "output_type": "execute_result"
    }
   ],
   "source": [
    "re.findall(r\"..e\", \"The Never-ending Practice\")"
   ]
  },
  {
   "cell_type": "markdown",
   "id": "f4548115",
   "metadata": {
    "id": "1p_T2Vw3FPi5"
   },
   "source": [
    "## Optional Characters (?)\n",
    "\n",
    "Use the optional character (?) when you expect the character, character class or unit of reference to occur once or zero times."
   ]
  },
  {
   "cell_type": "code",
   "execution_count": 40,
   "id": "a474b8ac",
   "metadata": {
    "colab": {
     "base_uri": "https://localhost:8080/"
    },
    "executionInfo": {
     "elapsed": 330,
     "status": "ok",
     "timestamp": 1690809365013,
     "user": {
      "displayName": "Ching Yuh Lee",
      "userId": "10121666553682752662"
     },
     "user_tz": -480
    },
    "id": "Uq9A7LdhFOps",
    "outputId": "71e77fa0-8236-410d-abdc-dde69a45dff9",
    "tags": []
   },
   "outputs": [
    {
     "data": {
      "text/plain": [
       "<re.Match object; span=(4, 10), match='colour'>"
      ]
     },
     "execution_count": 40,
     "metadata": {},
     "output_type": "execute_result"
    }
   ],
   "source": [
    "re.search(r\"colou?r\", \"The colour\")"
   ]
  },
  {
   "cell_type": "code",
   "execution_count": 41,
   "id": "0f464edd",
   "metadata": {
    "colab": {
     "base_uri": "https://localhost:8080/"
    },
    "executionInfo": {
     "elapsed": 462,
     "status": "ok",
     "timestamp": 1690809367832,
     "user": {
      "displayName": "Ching Yuh Lee",
      "userId": "10121666553682752662"
     },
     "user_tz": -480
    },
    "id": "vPL9OMb-FvYb",
    "outputId": "b1846f87-6951-436b-b750-90ef122d2c74",
    "tags": []
   },
   "outputs": [
    {
     "data": {
      "text/plain": [
       "<re.Match object; span=(4, 9), match='color'>"
      ]
     },
     "execution_count": 41,
     "metadata": {},
     "output_type": "execute_result"
    }
   ],
   "source": [
    "re.search(r\"colou?r\", \"The color\")"
   ]
  },
  {
   "cell_type": "markdown",
   "id": "57bed418",
   "metadata": {
    "id": "bfW-uCzlGDkU"
   },
   "source": [
    "## Repetition\n",
    "\n",
    "It is common to have repeating characters or character classess, and the token can be repeated by using {N}, with N representing the number of times the token should repeat."
   ]
  },
  {
   "cell_type": "code",
   "execution_count": 42,
   "id": "010cb79c",
   "metadata": {
    "colab": {
     "base_uri": "https://localhost:8080/"
    },
    "executionInfo": {
     "elapsed": 324,
     "status": "ok",
     "timestamp": 1690811308313,
     "user": {
      "displayName": "Ching Yuh Lee",
      "userId": "10121666553682752662"
     },
     "user_tz": -480
    },
    "id": "UbFAB0EOMnFr",
    "outputId": "1326ea4e-5562-411e-f290-c7fff8d558cb",
    "tags": []
   },
   "outputs": [
    {
     "data": {
      "text/plain": [
       "<re.Match object; span=(0, 9), match='6655-2211'>"
      ]
     },
     "execution_count": 42,
     "metadata": {},
     "output_type": "execute_result"
    }
   ],
   "source": [
    "re.search(r'[\\d]{4}-[\\d]{4}', '6655-2211 / Office Number')"
   ]
  },
  {
   "cell_type": "markdown",
   "id": "e629e2ea",
   "metadata": {
    "id": "V51n0lHSNjAS"
   },
   "source": [
    "When the number of times to repeat the token is unknown, repetition ranges of {M, N} can be used where M is the lower bound and N the upper bound. The bound is inclusive.\n",
    "\n",
    "For example, `[\\d]{2,3}` will selectect two-digit or three-digit characters"
   ]
  },
  {
   "cell_type": "code",
   "execution_count": 43,
   "id": "5ae09f64",
   "metadata": {
    "colab": {
     "base_uri": "https://localhost:8080/"
    },
    "executionInfo": {
     "elapsed": 331,
     "status": "ok",
     "timestamp": 1690812285690,
     "user": {
      "displayName": "Ching Yuh Lee",
      "userId": "10121666553682752662"
     },
     "user_tz": -480
    },
    "id": "bgkMn2k7O0ld",
    "outputId": "e9e77c3b-ec43-4d72-914c-a55599b5981d",
    "tags": []
   },
   "outputs": [
    {
     "data": {
      "text/plain": [
       "['42', '123', '665']"
      ]
     },
     "execution_count": 43,
     "metadata": {},
     "output_type": "execute_result"
    }
   ],
   "source": [
    "re.findall(r'[\\d]{2,3}', '1 42 123 6655 / Office Number')"
   ]
  },
  {
   "cell_type": "markdown",
   "id": "f465e7c3",
   "metadata": {
    "id": "6qoRyf3WQyJs"
   },
   "source": [
    "If either 2 characters or 3 characters can be a valid match, the regular expression engine is \"greedy\" and it will match as many characters as possible. Therefore, 3 characters will be matched instead of 2.\n",
    "\n",
    "In situations where this behaviour is not desirable, placing the optional character (?) immediately after the repetition operator would make the repetition \"lazy\". The engine will now match as few characters as possible to return a valid match."
   ]
  },
  {
   "cell_type": "code",
   "execution_count": 44,
   "id": "e2ce2c0f",
   "metadata": {
    "colab": {
     "base_uri": "https://localhost:8080/"
    },
    "executionInfo": {
     "elapsed": 317,
     "status": "ok",
     "timestamp": 1690812684161,
     "user": {
      "displayName": "Ching Yuh Lee",
      "userId": "10121666553682752662"
     },
     "user_tz": -480
    },
    "id": "PiAvjSWiSeYq",
    "outputId": "b5910148-e8e0-498e-ccdb-5458a2657626",
    "tags": []
   },
   "outputs": [
    {
     "data": {
      "text/plain": [
       "['42', '12', '66', '55']"
      ]
     },
     "execution_count": 44,
     "metadata": {},
     "output_type": "execute_result"
    }
   ],
   "source": [
    "re.findall(r'[\\d]{2,3}?', '1 42 123 6655 / Office Number')"
   ]
  },
  {
   "cell_type": "markdown",
   "id": "8f2d8e8f",
   "metadata": {
    "id": "IoPvYvLWTwuN"
   },
   "source": [
    "For repetition ranges with no upper bound, leave out the upper bound value."
   ]
  },
  {
   "cell_type": "code",
   "execution_count": 45,
   "id": "5bf0e3b6",
   "metadata": {
    "colab": {
     "base_uri": "https://localhost:8080/"
    },
    "executionInfo": {
     "elapsed": 331,
     "status": "ok",
     "timestamp": 1690813207558,
     "user": {
      "displayName": "Ching Yuh Lee",
      "userId": "10121666553682752662"
     },
     "user_tz": -480
    },
    "id": "QxNXOCD7Ubt4",
    "outputId": "a8aeb75f-accb-46eb-a810-50276c391116",
    "tags": []
   },
   "outputs": [
    {
     "data": {
      "text/plain": [
       "['42', '123', '6655']"
      ]
     },
     "execution_count": 45,
     "metadata": {},
     "output_type": "execute_result"
    }
   ],
   "source": [
    "re.findall(r'[\\d]{2,}', '1 42 123 6655 / Office Number')"
   ]
  },
  {
   "cell_type": "markdown",
   "id": "0fe5db96",
   "metadata": {
    "id": "mGt8U2K0VMOk"
   },
   "source": [
    "#### Shorthand\n",
    "\n",
    "Shorthand characters are also used to designate repetitions.\n",
    "\n",
    "|Shorthand| Situation|\n",
    "|---|---|\n",
    "|`+` |`{1,}`  one or more|\n",
    "|`*` |`{0,}`  zero or more|"
   ]
  },
  {
   "cell_type": "code",
   "execution_count": 46,
   "id": "a17df92e",
   "metadata": {
    "colab": {
     "base_uri": "https://localhost:8080/"
    },
    "executionInfo": {
     "elapsed": 304,
     "status": "ok",
     "timestamp": 1690813639297,
     "user": {
      "displayName": "Ching Yuh Lee",
      "userId": "10121666553682752662"
     },
     "user_tz": -480
    },
    "id": "NagdOPZrWFL9",
    "outputId": "59b06c41-6910-41b0-866c-cf03c258a9d8",
    "tags": []
   },
   "outputs": [
    {
     "data": {
      "text/plain": [
       "['1', '42', '123', '6655']"
      ]
     },
     "execution_count": 46,
     "metadata": {},
     "output_type": "execute_result"
    }
   ],
   "source": [
    "re.findall(r'[\\d]{1,}', '1 42 123 6655 / Office Number')"
   ]
  },
  {
   "cell_type": "code",
   "execution_count": 47,
   "id": "0d963ab9",
   "metadata": {
    "colab": {
     "base_uri": "https://localhost:8080/"
    },
    "executionInfo": {
     "elapsed": 566,
     "status": "ok",
     "timestamp": 1690813641606,
     "user": {
      "displayName": "Ching Yuh Lee",
      "userId": "10121666553682752662"
     },
     "user_tz": -480
    },
    "id": "K9GA_cV9WHjI",
    "outputId": "f6dca3e4-c13b-43ce-f753-04ed58f8a576",
    "tags": []
   },
   "outputs": [
    {
     "data": {
      "text/plain": [
       "['1', '42', '123', '6655']"
      ]
     },
     "execution_count": 47,
     "metadata": {},
     "output_type": "execute_result"
    }
   ],
   "source": [
    "re.findall(r'[\\d]+', '1 42 123 6655 / Office Number')"
   ]
  },
  {
   "cell_type": "markdown",
   "id": "bf6f76ba",
   "metadata": {
    "id": "PaILSCGHXaNy"
   },
   "source": [
    "## Grouping\n",
    "\n",
    "Grouping through the use of parentheses () allow us to select individual group within the match.\n",
    "\n",
    "For example:"
   ]
  },
  {
   "cell_type": "code",
   "execution_count": 48,
   "id": "09a289c3",
   "metadata": {
    "executionInfo": {
     "elapsed": 317,
     "status": "ok",
     "timestamp": 1690814770344,
     "user": {
      "displayName": "Ching Yuh Lee",
      "userId": "10121666553682752662"
     },
     "user_tz": -480
    },
    "id": "X8mDRpB_Y3Ni",
    "tags": []
   },
   "outputs": [],
   "source": [
    "match = re.search(r'([\\d]{4})-([\\d]{4})', '6655-2211 / Office Number')"
   ]
  },
  {
   "cell_type": "code",
   "execution_count": 49,
   "id": "3d95ec9f",
   "metadata": {
    "colab": {
     "base_uri": "https://localhost:8080/",
     "height": 35
    },
    "executionInfo": {
     "elapsed": 323,
     "status": "ok",
     "timestamp": 1690814772401,
     "user": {
      "displayName": "Ching Yuh Lee",
      "userId": "10121666553682752662"
     },
     "user_tz": -480
    },
    "id": "eOLs8oKaZDoX",
    "outputId": "f08b3e48-a6fe-490b-b848-80ed000c381b",
    "tags": []
   },
   "outputs": [
    {
     "data": {
      "text/plain": [
       "'6655-2211'"
      ]
     },
     "execution_count": 49,
     "metadata": {},
     "output_type": "execute_result"
    }
   ],
   "source": [
    "match.group() #return entire match"
   ]
  },
  {
   "cell_type": "code",
   "execution_count": 50,
   "id": "c3a19239",
   "metadata": {
    "colab": {
     "base_uri": "https://localhost:8080/"
    },
    "executionInfo": {
     "elapsed": 391,
     "status": "ok",
     "timestamp": 1690814774985,
     "user": {
      "displayName": "Ching Yuh Lee",
      "userId": "10121666553682752662"
     },
     "user_tz": -480
    },
    "id": "ZymFdYkhZDwo",
    "outputId": "e2a26c40-a1a4-4ff6-e085-10e5792a66df",
    "tags": []
   },
   "outputs": [
    {
     "data": {
      "text/plain": [
       "('6655', '2211')"
      ]
     },
     "execution_count": 50,
     "metadata": {},
     "output_type": "execute_result"
    }
   ],
   "source": [
    "match.groups() #return a tuple corresponding to each individual group"
   ]
  },
  {
   "cell_type": "code",
   "execution_count": 51,
   "id": "d323cecc",
   "metadata": {
    "colab": {
     "base_uri": "https://localhost:8080/",
     "height": 35
    },
    "executionInfo": {
     "elapsed": 309,
     "status": "ok",
     "timestamp": 1690814639824,
     "user": {
      "displayName": "Ching Yuh Lee",
      "userId": "10121666553682752662"
     },
     "user_tz": -480
    },
    "id": "lq5ZfFmNZD5_",
    "outputId": "47bf5700-2f71-4d10-fd2f-e16c611884ce",
    "tags": []
   },
   "outputs": [
    {
     "data": {
      "text/plain": [
       "'2211'"
      ]
     },
     "execution_count": 51,
     "metadata": {},
     "output_type": "execute_result"
    }
   ],
   "source": [
    "match.group(2) #group are 1-indexed"
   ]
  },
  {
   "cell_type": "markdown",
   "id": "05e8c391",
   "metadata": {
    "id": "d99EYr4Gcwwd"
   },
   "source": [
    "## Exercise\n",
    "\n",
    "Create one regular expression to extract the following number formats\n",
    "\n",
    "(65) 3867-5309\n",
    "\n",
    "(+65) 38675309\n",
    "\n",
    "+65 3867-5309\n",
    "\n",
    "65 3867-5309\n",
    "\n",
    "65-3867-5309\n",
    "\n",
    "6538675309\n",
    "\n",
    "65.3867.5309\n",
    "\n",
    "65 3867 5309\n",
    "\n",
    "3867 5309\n",
    "\n",
    "`list_num = ['(65) 3867-5309','(+65) 38675309','+65 3867-5309','65 3867-5309','65-3867-5309','6538675309','65.3867.5309','65 3867 5309','3867 5309']`\n",
    "\n",
    "To make it easier to test, we will create a compiled regular expression object that can be passed around easily.\n",
    "\n",
    "\n",
    "\n",
    "```\n",
    "regex = re.compile (r'[\\d]')\n",
    "regex.search('abc 123')\n",
    "```\n",
    "\n",
    "\n"
   ]
  },
  {
   "cell_type": "code",
   "execution_count": 52,
   "id": "5de57e63",
   "metadata": {
    "executionInfo": {
     "elapsed": 1255,
     "status": "ok",
     "timestamp": 1690817766519,
     "user": {
      "displayName": "Ching Yuh Lee",
      "userId": "10121666553682752662"
     },
     "user_tz": -480
    },
    "id": "2OZcfwMEktcZ",
    "tags": []
   },
   "outputs": [],
   "source": [
    "#todo: Exercise\n"
   ]
  },
  {
   "cell_type": "code",
   "execution_count": 53,
   "id": "579c8cd0",
   "metadata": {
    "colab": {
     "base_uri": "https://localhost:8080/"
    },
    "executionInfo": {
     "elapsed": 3,
     "status": "ok",
     "timestamp": 1690817788475,
     "user": {
      "displayName": "Ching Yuh Lee",
      "userId": "10121666553682752662"
     },
     "user_tz": -480
    },
    "id": "vwASNfv7lmIx",
    "outputId": "a3f161f9-a9f2-47f7-df6a-ac27311f9675",
    "tags": []
   },
   "outputs": [],
   "source": [
    "#todo: Exercise\n"
   ]
  },
  {
   "cell_type": "markdown",
   "id": "d2f74b8c",
   "metadata": {
    "id": "HH2Cvj8eomOb"
   },
   "source": [
    "## Named Groups\n",
    "\n",
    "Beside the positionally numbered groups, names can be assigned to the groups by using `?P<group_name>` immediately after the opening `(` character."
   ]
  },
  {
   "cell_type": "code",
   "execution_count": 54,
   "id": "42762964",
   "metadata": {
    "executionInfo": {
     "elapsed": 537,
     "status": "ok",
     "timestamp": 1690819305962,
     "user": {
      "displayName": "Ching Yuh Lee",
      "userId": "10121666553682752662"
     },
     "user_tz": -480
    },
    "id": "AJHIfjH2rJwh",
    "tags": []
   },
   "outputs": [],
   "source": [
    "match = re.search(r'(?P<part_1>[\\d]{4})-(?P<part_2>[\\d]{4})','4533-1122')"
   ]
  },
  {
   "cell_type": "code",
   "execution_count": 55,
   "id": "35833333",
   "metadata": {
    "colab": {
     "base_uri": "https://localhost:8080/",
     "height": 35
    },
    "executionInfo": {
     "elapsed": 7,
     "status": "ok",
     "timestamp": 1690819346641,
     "user": {
      "displayName": "Ching Yuh Lee",
      "userId": "10121666553682752662"
     },
     "user_tz": -480
    },
    "id": "AfysOVMZr12m",
    "outputId": "4ccb517e-f6b5-4e6c-c142-68fda5813bed",
    "tags": []
   },
   "outputs": [
    {
     "data": {
      "text/plain": [
       "'4533'"
      ]
     },
     "execution_count": 55,
     "metadata": {},
     "output_type": "execute_result"
    }
   ],
   "source": [
    "match.group('part_1')"
   ]
  },
  {
   "cell_type": "code",
   "execution_count": 56,
   "id": "c64364ce",
   "metadata": {
    "colab": {
     "base_uri": "https://localhost:8080/",
     "height": 35
    },
    "executionInfo": {
     "elapsed": 331,
     "status": "ok",
     "timestamp": 1690819348911,
     "user": {
      "displayName": "Ching Yuh Lee",
      "userId": "10121666553682752662"
     },
     "user_tz": -480
    },
    "id": "JOQo8UpZr1_2",
    "outputId": "72690c83-474b-4a64-b85c-8a564a4df9b5",
    "tags": []
   },
   "outputs": [
    {
     "data": {
      "text/plain": [
       "'1122'"
      ]
     },
     "execution_count": 56,
     "metadata": {},
     "output_type": "execute_result"
    }
   ],
   "source": [
    "match.group('part_2')"
   ]
  },
  {
   "cell_type": "markdown",
   "id": "b111248b",
   "metadata": {
    "id": "nctf8F35se_Y"
   },
   "source": [
    "`groupdict()` returns a dictionary instead of a tuple, and the dictionary keys correspond to the names of the groups.\n",
    "\n",
    "If there is a mix of named groups and unnamed groups, the unnamed groups are not part of the dictionary returned by `groupdict()`"
   ]
  },
  {
   "cell_type": "code",
   "execution_count": 57,
   "id": "49084cc5",
   "metadata": {
    "colab": {
     "base_uri": "https://localhost:8080/"
    },
    "executionInfo": {
     "elapsed": 305,
     "status": "ok",
     "timestamp": 1690819482078,
     "user": {
      "displayName": "Ching Yuh Lee",
      "userId": "10121666553682752662"
     },
     "user_tz": -480
    },
    "id": "KC6DjpHbsMfP",
    "outputId": "c136c9b3-2052-42e4-aeb6-443731141f05",
    "tags": []
   },
   "outputs": [
    {
     "data": {
      "text/plain": [
       "{'part_1': '4533', 'part_2': '1122'}"
      ]
     },
     "execution_count": 57,
     "metadata": {},
     "output_type": "execute_result"
    }
   ],
   "source": [
    "match.groupdict()"
   ]
  },
  {
   "cell_type": "markdown",
   "id": "2e141ef0",
   "metadata": {
    "id": "iO742EIetEzu"
   },
   "source": [
    "## Backreferences\n",
    "\n",
    "Backreferences refer to a previous matched group within a regular expression, making the expectation that the same matched text should appear again.\n",
    "\n",
    "Backreference numbered groups using \\N where N is the group number. For example, \\1 will match the first group and \\2 the second group (up to 99 groups)."
   ]
  },
  {
   "cell_type": "code",
   "execution_count": 58,
   "id": "2726233a",
   "metadata": {
    "colab": {
     "base_uri": "https://localhost:8080/"
    },
    "executionInfo": {
     "elapsed": 300,
     "status": "ok",
     "timestamp": 1690820410700,
     "user": {
      "displayName": "Ching Yuh Lee",
      "userId": "10121666553682752662"
     },
     "user_tz": -480
    },
    "id": "L1nZP0BSvYTn",
    "outputId": "b21c5a7b-95c0-46fa-d09d-fcc598b136ca",
    "tags": []
   },
   "outputs": [
    {
     "data": {
      "text/plain": [
       "<re.Match object; span=(0, 11), match='<p>body</p>'>"
      ]
     },
     "execution_count": 58,
     "metadata": {},
     "output_type": "execute_result"
    }
   ],
   "source": [
    "match = re.search(r'<([\\w_-]+)>body</\\1>','<p>body</p>')\n",
    "match"
   ]
  },
  {
   "cell_type": "code",
   "execution_count": 59,
   "id": "a4b1e876",
   "metadata": {
    "executionInfo": {
     "elapsed": 317,
     "status": "ok",
     "timestamp": 1690820446783,
     "user": {
      "displayName": "Ching Yuh Lee",
      "userId": "10121666553682752662"
     },
     "user_tz": -480
    },
    "id": "Q9tj9FbcwECi",
    "tags": []
   },
   "outputs": [],
   "source": [
    "match = re.search(r'<([\\w_-]+)>body</\\1>','<p>body</table>') #no match\n",
    "match"
   ]
  },
  {
   "cell_type": "markdown",
   "id": "37091c2d",
   "metadata": {
    "id": "P5PaYgFvwpe-"
   },
   "source": [
    "## Lookahead\n",
    "\n",
    "Accept or reject a match based on the presence or absence of content after it, without making the subsequent content part of the match."
   ]
  },
  {
   "cell_type": "code",
   "execution_count": 60,
   "id": "f4836572",
   "metadata": {
    "colab": {
     "base_uri": "https://localhost:8080/"
    },
    "executionInfo": {
     "elapsed": 313,
     "status": "ok",
     "timestamp": 1690820909675,
     "user": {
      "displayName": "Ching Yuh Lee",
      "userId": "10121666553682752662"
     },
     "user_tz": -480
    },
    "id": "wyVGBUhWxg35",
    "outputId": "f41ea116-4b00-484b-dfaa-b77797396712",
    "tags": []
   },
   "outputs": [
    {
     "data": {
      "text/plain": [
       "<re.Match object; span=(1, 2), match='e'>"
      ]
     },
     "execution_count": 60,
     "metadata": {},
     "output_type": "execute_result"
    }
   ],
   "source": [
    "re.search(r'e(?!c)','peace')"
   ]
  },
  {
   "cell_type": "code",
   "execution_count": 61,
   "id": "2a65d058",
   "metadata": {
    "colab": {
     "base_uri": "https://localhost:8080/"
    },
    "executionInfo": {
     "elapsed": 330,
     "status": "ok",
     "timestamp": 1690821122161,
     "user": {
      "displayName": "Ching Yuh Lee",
      "userId": "10121666553682752662"
     },
     "user_tz": -480
    },
    "id": "VUfv2Ilxyqyx",
    "outputId": "7424a84e-8743-4027-e783-a3f5108f9df6",
    "tags": []
   },
   "outputs": [
    {
     "data": {
      "text/plain": [
       "['e', 'e']"
      ]
     },
     "execution_count": 61,
     "metadata": {},
     "output_type": "execute_result"
    }
   ],
   "source": [
    "re.findall(r'e(?!c)','peace') # because the last e is not followed by a 'c', the match is successful."
   ]
  },
  {
   "cell_type": "markdown",
   "id": "ac5560fe",
   "metadata": {
    "id": "OUDwLC3xzXzU"
   },
   "source": [
    "Replace '!' with '=' for a positive lookahead."
   ]
  },
  {
   "cell_type": "code",
   "execution_count": 62,
   "id": "a8a2e453",
   "metadata": {
    "colab": {
     "base_uri": "https://localhost:8080/"
    },
    "executionInfo": {
     "elapsed": 349,
     "status": "ok",
     "timestamp": 1690821434515,
     "user": {
      "displayName": "Ching Yuh Lee",
      "userId": "10121666553682752662"
     },
     "user_tz": -480
    },
    "id": "X4yUKoQMzx0g",
    "outputId": "88395c3a-1032-468f-f064-afe805369c48",
    "tags": []
   },
   "outputs": [
    {
     "data": {
      "text/plain": [
       "<re.Match object; span=(1, 2), match='e'>"
      ]
     },
     "execution_count": 62,
     "metadata": {},
     "output_type": "execute_result"
    }
   ],
   "source": [
    "re.search(r'e(?=a)','peace')"
   ]
  },
  {
   "cell_type": "code",
   "execution_count": 63,
   "id": "60dc6a65",
   "metadata": {
    "colab": {
     "base_uri": "https://localhost:8080/"
    },
    "executionInfo": {
     "elapsed": 332,
     "status": "ok",
     "timestamp": 1690821505744,
     "user": {
      "displayName": "Ching Yuh Lee",
      "userId": "10121666553682752662"
     },
     "user_tz": -480
    },
    "id": "EBl6UU6az7qc",
    "outputId": "1b9455e6-c30f-4891-dd84-032d19e452a5",
    "tags": []
   },
   "outputs": [
    {
     "data": {
      "text/plain": [
       "['e']"
      ]
     },
     "execution_count": 63,
     "metadata": {},
     "output_type": "execute_result"
    }
   ],
   "source": [
    "re.findall(r'e(?=a)','peace') # last e is not matched and it is not followed by 'a', therefore the match is not successful."
   ]
  },
  {
   "cell_type": "markdown",
   "id": "442db863",
   "metadata": {
    "id": "HLv9ETlk0csz"
   },
   "source": [
    "## Case Insensitivity Mode"
   ]
  },
  {
   "cell_type": "code",
   "execution_count": 64,
   "id": "21c75d35",
   "metadata": {
    "colab": {
     "base_uri": "https://localhost:8080/"
    },
    "executionInfo": {
     "elapsed": 304,
     "status": "ok",
     "timestamp": 1690821686675,
     "user": {
      "displayName": "Ching Yuh Lee",
      "userId": "10121666553682752662"
     },
     "user_tz": -480
    },
    "id": "tgwF1n760moA",
    "outputId": "79d98314-6cfc-41a8-a18d-842cd8fd96f2",
    "tags": []
   },
   "outputs": [
    {
     "data": {
      "text/plain": [
       "<re.Match object; span=(0, 5), match='HAPPY'>"
      ]
     },
     "execution_count": 64,
     "metadata": {},
     "output_type": "execute_result"
    }
   ],
   "source": [
    "re.search(r'Happy', 'HAPPY birthday', re.IGNORECASE)"
   ]
  },
  {
   "cell_type": "markdown",
   "id": "e43f1592",
   "metadata": {
    "id": "BGCGJJ0Z1nhT"
   },
   "source": [
    "## Dot Matching Newline Mode\n",
    "\n",
    "The re.DOTALL flag causes the . character to match newline characters in addition to all other characters."
   ]
  },
  {
   "cell_type": "code",
   "execution_count": 65,
   "id": "1dc67925",
   "metadata": {
    "colab": {
     "base_uri": "https://localhost:8080/"
    },
    "executionInfo": {
     "elapsed": 3,
     "status": "ok",
     "timestamp": 1690822117482,
     "user": {
      "displayName": "Ching Yuh Lee",
      "userId": "10121666553682752662"
     },
     "user_tz": -480
    },
    "id": "iBtsG3Jn2MBN",
    "outputId": "51835a17-c108-43a4-ac1e-35bc4eee7c9e",
    "tags": []
   },
   "outputs": [
    {
     "data": {
      "text/plain": [
       "['line1', 'line2']"
      ]
     },
     "execution_count": 65,
     "metadata": {},
     "output_type": "execute_result"
    }
   ],
   "source": [
    "re.findall(r'.+', 'line1\\nline2')"
   ]
  },
  {
   "cell_type": "code",
   "execution_count": 66,
   "id": "3b3654fa",
   "metadata": {
    "colab": {
     "base_uri": "https://localhost:8080/"
    },
    "executionInfo": {
     "elapsed": 308,
     "status": "ok",
     "timestamp": 1690822200934,
     "user": {
      "displayName": "Ching Yuh Lee",
      "userId": "10121666553682752662"
     },
     "user_tz": -480
    },
    "id": "uIh9JqyJ2hhr",
    "outputId": "aa7870e4-08c4-42ee-950a-5384544e18f8",
    "tags": []
   },
   "outputs": [
    {
     "data": {
      "text/plain": [
       "['line1\\nline2']"
      ]
     },
     "execution_count": 66,
     "metadata": {},
     "output_type": "execute_result"
    }
   ],
   "source": [
    "re.findall(r'.+', 'line1\\nline2', re.DOTALL)"
   ]
  },
  {
   "cell_type": "markdown",
   "id": "ed91fbdf",
   "metadata": {
    "id": "Fz_ZK1Xb3N1P"
   },
   "source": [
    "## Multiline Mode\n",
    "\n",
    "^ and $ characters match against the beginning or end of the string respectively and using re.MULTILINE will have the match be made against the beginning or end of any line within the string."
   ]
  },
  {
   "cell_type": "code",
   "execution_count": 67,
   "id": "129e8742",
   "metadata": {
    "executionInfo": {
     "elapsed": 321,
     "status": "ok",
     "timestamp": 1690822729777,
     "user": {
      "displayName": "Ching Yuh Lee",
      "userId": "10121666553682752662"
     },
     "user_tz": -480
    },
    "id": "5Moh6Ol-4Z3w",
    "tags": []
   },
   "outputs": [],
   "source": [
    "re.search(r'^line2','line1\\nline2')"
   ]
  },
  {
   "cell_type": "code",
   "execution_count": 68,
   "id": "2b590dc2",
   "metadata": {
    "colab": {
     "base_uri": "https://localhost:8080/"
    },
    "executionInfo": {
     "elapsed": 569,
     "status": "ok",
     "timestamp": 1690822731619,
     "user": {
      "displayName": "Ching Yuh Lee",
      "userId": "10121666553682752662"
     },
     "user_tz": -480
    },
    "id": "Z9mSQdCp4nid",
    "outputId": "922ce530-b462-4883-f405-848f9a4d1589",
    "tags": []
   },
   "outputs": [
    {
     "data": {
      "text/plain": [
       "<re.Match object; span=(6, 11), match='line2'>"
      ]
     },
     "execution_count": 68,
     "metadata": {},
     "output_type": "execute_result"
    }
   ],
   "source": [
    "re.search(r'^line2','line1\\nline2', re.MULTILINE)"
   ]
  },
  {
   "cell_type": "markdown",
   "id": "a18fc810",
   "metadata": {
    "id": "qXq8CyRi5Oj5"
   },
   "source": [
    "## Combining Modes\n",
    "\n",
    "When you need to setup multiple modes, join the flags using bitwise OR (|).\n",
    "\n",
    "For example: `re.DOTALL | re.MULTILINE`\n",
    "\n",
    "## Substitution\n",
    "\n",
    "String replacement can also be done using regex. The `re.sub` takes 3 arguments, the regular expression, the replacement string and the source string being searched.\n",
    "\n",
    "`re.sub` enables us to use backreferences from regular expression patterns within the replacement string."
   ]
  },
  {
   "cell_type": "code",
   "execution_count": 69,
   "id": "8fd89e4d",
   "metadata": {
    "colab": {
     "base_uri": "https://localhost:8080/",
     "height": 35
    },
    "executionInfo": {
     "elapsed": 324,
     "status": "ok",
     "timestamp": 1690823826570,
     "user": {
      "displayName": "Ching Yuh Lee",
      "userId": "10121666553682752662"
     },
     "user_tz": -480
    },
    "id": "ZN5sqUVK8AwN",
    "outputId": "8fc4aeac-a268-4282-a027-cc8ed7239fcb",
    "tags": []
   },
   "outputs": [
    {
     "data": {
      "text/plain": [
       "'66552211'"
      ]
     },
     "execution_count": 69,
     "metadata": {},
     "output_type": "execute_result"
    }
   ],
   "source": [
    "re.sub(r'([\\d]{4})-([\\d]{4})', r'\\1\\2', '6655-2211') # remove the hyphen"
   ]
  },
  {
   "cell_type": "markdown",
   "id": "8b46513e",
   "metadata": {
    "id": "edhgAI4sARIz"
   },
   "source": [
    "## Final Notes:\n",
    "\n",
    "If you are able to break down regular expressions, they will become more manageable and less intimidating.\n",
    "\n",
    "Regular expression is useful for finding and validing data but be wary of using it.\n",
    "\n",
    "Using direct string comparisons that are straight forward are usually preferred as the complexity introduced by regular expression may not be worthwhile. A complicated struture often makes it unsuitable to use regular expression.\n"
   ]
  },
  {
   "cell_type": "markdown",
   "id": "32762fb6",
   "metadata": {
    "id": "59475b18"
   },
   "source": [
    "### Exercise\n",
    "1. Write a regular expression to match a sequence of lowercase letters, separated by an underscore. For examples: 'abc_efg', 'a_c'\n",
    "2. Write a regular expression to replace the underscore separator of a sequence of lowercase letters (such as 'abc_efg', 'a_c') with %."
   ]
  },
  {
   "cell_type": "code",
   "execution_count": 70,
   "id": "b614f986",
   "metadata": {
    "colab": {
     "base_uri": "https://localhost:8080/"
    },
    "executionInfo": {
     "elapsed": 315,
     "status": "ok",
     "timestamp": 1690824879597,
     "user": {
      "displayName": "Ching Yuh Lee",
      "userId": "10121666553682752662"
     },
     "user_tz": -480
    },
    "id": "b47720b1",
    "outputId": "9687e695-6d1b-4856-b50b-ed7b0326247a",
    "tags": []
   },
   "outputs": [],
   "source": [
    "# todo: Exercise\n"
   ]
  },
  {
   "cell_type": "code",
   "execution_count": 71,
   "id": "89a10e9a",
   "metadata": {
    "colab": {
     "base_uri": "https://localhost:8080/",
     "height": 35
    },
    "executionInfo": {
     "elapsed": 327,
     "status": "ok",
     "timestamp": 1690824861871,
     "user": {
      "displayName": "Ching Yuh Lee",
      "userId": "10121666553682752662"
     },
     "user_tz": -480
    },
    "id": "1925ca4d",
    "outputId": "adc605b6-0657-4486-ef9b-cd73111a3dee",
    "tags": []
   },
   "outputs": [],
   "source": [
    "# todo: Exercise\n"
   ]
  },
  {
   "cell_type": "code",
   "execution_count": null,
   "id": "ff904263-e809-4834-a11b-4028a25e3805",
   "metadata": {},
   "outputs": [],
   "source": []
  },
  {
   "cell_type": "code",
   "execution_count": null,
   "id": "68e64382-d449-48ff-be1f-ad002343f8aa",
   "metadata": {},
   "outputs": [],
   "source": []
  },
  {
   "cell_type": "code",
   "execution_count": null,
   "id": "4876ab38-2f6f-43ca-aaca-bb2edee760ce",
   "metadata": {},
   "outputs": [],
   "source": []
  },
  {
   "cell_type": "code",
   "execution_count": null,
   "id": "f1d36b31-976a-49c3-b410-904fbaae3e9f",
   "metadata": {},
   "outputs": [],
   "source": []
  },
  {
   "cell_type": "code",
   "execution_count": null,
   "id": "69488977-125c-4587-827b-7d0fc88bd7cc",
   "metadata": {},
   "outputs": [],
   "source": []
  }
 ],
 "metadata": {
  "colab": {
   "provenance": []
  },
  "kernelspec": {
   "display_name": "Python 3 (ipykernel)",
   "language": "python",
   "name": "python3"
  },
  "language_info": {
   "codemirror_mode": {
    "name": "ipython",
    "version": 3
   },
   "file_extension": ".py",
   "mimetype": "text/x-python",
   "name": "python",
   "nbconvert_exporter": "python",
   "pygments_lexer": "ipython3",
   "version": "3.9.17"
  }
 },
 "nbformat": 4,
 "nbformat_minor": 5
}
