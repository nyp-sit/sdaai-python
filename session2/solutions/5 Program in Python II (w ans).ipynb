{
 "cells": [
  {
   "cell_type": "markdown",
   "id": "437034b7",
   "metadata": {},
   "source": [
    "# Programming in Python II\n",
    "\n",
    "## **for** loop and **while** loop\n",
    "\n",
    "In order to repeat some instructions for a fixed number or an indefinite number times, we need loop.\n",
    "\n",
    "We use for-loop when we know the number of times that we want to repeat. (Though, we could also do that via while-loop, it is just more readable using for-loop.)\n",
    "\n",
    "For-loop consists of an iteration declaration, and the loop body (the statements we want to repeat). \n",
    "\n",
    "```python\n",
    "sum = 0\n",
    "for i in range(0,10): # iteration declaration\n",
    "    sum = sum + i     # body\n",
    "```\n",
    "\n",
    "Note ```range(x,y)``` is a built-in function which returns an ascending sequence of numbers starting from ```x``` ending with ```y-1```.\n",
    "\n",
    "\n",
    "A while-loop consists of a loop condition, and the loop body (the statements we want to repeat).\n",
    "\n",
    "```python\n",
    "sum = 0\n",
    "i = 0\n",
    "while i < 10:     # loop condition\n",
    "    sum = sum + i # body\n",
    "    i = i + 1\n",
    "```\n",
    "\n",
    "While-loop is a more general and explicit form, which handles cases that we do not know explicitly the number of loops in advance. For instance, we want to keep prompting the user to key in the username and password, until the correct ones are entered.\n",
    "\n",
    "```python\n",
    "\n",
    "uname = input(\"user name:\")\n",
    "pw    = input(\"password:\")\n",
    "while not(is_matched(uname,pw)):\n",
    "    uname = input(\"user name:\")\n",
    "    pw    = input(\"password:\")\n",
    "```\n",
    "\n",
    "Note that the above code can't run unless we provide the defintion of `is_matched`, which we omitted here.\n"
   ]
  },
  {
   "cell_type": "markdown",
   "id": "59475b18",
   "metadata": {},
   "source": [
    "### Exercise\n",
    "Write a Python program using for-loop to sum out all even numbers between 0 and 100. You can achieve the same result using while-loop. Please demonstrate and compare the two implementation.\n",
    "\n",
    "Hint: to test whether a number ```n``` is even, you may use ```n % 2 == 0```."
   ]
  },
  {
   "cell_type": "code",
   "execution_count": null,
   "id": "b47720b1",
   "metadata": {},
   "outputs": [],
   "source": [
    "# todo: Exercise\n",
    "\n",
    "sum1=0\n",
    "sum2=0\n",
    "for i in range(100):\n",
    "    if i%2 == 0:\n",
    "        sum1 = sum1 + i\n",
    "k = 0;\n",
    "while k < 100:\n",
    "    if k%2 == 0:\n",
    "        sum2 = sum2 + k\n",
    "    k += 1\n",
    "    \n",
    "print (sum1)\n",
    "print (sum2)"
   ]
  },
  {
   "cell_type": "markdown",
   "id": "4863eef5",
   "metadata": {},
   "source": [
    "## break\n",
    "\n",
    "```break``` is a special keyword in Python that is used to terminate/break out of a loop. "
   ]
  },
  {
   "cell_type": "code",
   "execution_count": 1,
   "id": "d6e61e4a",
   "metadata": {},
   "outputs": [
    {
     "name": "stdout",
     "output_type": "stream",
     "text": [
      " 114  is the first number greater than 100 that is divisible by 19.\n"
     ]
    }
   ],
   "source": [
    "# Find the first number greater than 100 and divisible by 19.\n",
    "\n",
    "x = 100\n",
    "\n",
    "while x <= 1000:\n",
    "    x += 1\n",
    "    if x % 19 == 0:\n",
    "        print('', x, ' is the first number greater than 100 that is divisible by 19.')\n",
    "        break"
   ]
  },
  {
   "cell_type": "markdown",
   "id": "54523879",
   "metadata": {},
   "source": [
    "### Exercise\n",
    "Find the Least Common Multiple (LCM) of 36 and 64. \n",
    "\n",
    "Clue: The LCM of the 2 divisors 36 and 64 will result in a division with remainder zero.\n"
   ]
  },
  {
   "cell_type": "code",
   "execution_count": 3,
   "id": "52e6e215",
   "metadata": {},
   "outputs": [
    {
     "name": "stdout",
     "output_type": "stream",
     "text": [
      "The LCM of 36 and 64 is 576\n"
     ]
    }
   ],
   "source": [
    "divisor1 = 36\n",
    "divisor2 = 64\n",
    "\n",
    "counting = True\n",
    "i = 1\n",
    "while counting:\n",
    "    if i % divisor1 == 0 and i % divisor2 == 0:\n",
    "        break\n",
    "    i += 1\n",
    "    \n",
    "print(f\"The LCM of 36 and 64 is {i}\")"
   ]
  },
  {
   "cell_type": "markdown",
   "id": "5776564b",
   "metadata": {},
   "source": [
    "## continue\n",
    "\n",
    "```continue``` is another keyword for loops. When the continue keyword is reached, it stops the code and goes back to the start of the loop. It is similar to ```break``` but ```break``` terminates the loop while ```continue``` continues to the beginning of the loop. \n",
    "\n",
    "The following example uses ```continue``` to print all numbers that are not multiples of 2 and 3 between 0 to 50 (inclusive)"
   ]
  },
  {
   "cell_type": "code",
   "execution_count": 1,
   "id": "714657a6",
   "metadata": {},
   "outputs": [
    {
     "name": "stdout",
     "output_type": "stream",
     "text": [
      "1\n",
      "5\n",
      "7\n",
      "11\n",
      "13\n",
      "17\n",
      "19\n",
      "23\n",
      "25\n",
      "29\n",
      "31\n",
      "35\n",
      "37\n",
      "41\n",
      "43\n",
      "47\n",
      "49\n"
     ]
    }
   ],
   "source": [
    "for x in range(0,51):\n",
    "    if x%2 == 0:\n",
    "        continue\n",
    "    if x%3 == 0:\n",
    "        continue\n",
    "    print(x)"
   ]
  },
  {
   "cell_type": "markdown",
   "id": "e7990988",
   "metadata": {},
   "source": [
    "## Data Structures in Python\n",
    "\n",
    "Data structures refer to objects that can hold data. They are usually storing a collection of related data and will define the relationship between the data and the operations that can be performed on the data.\n",
    "\n",
    "The four types of data structures in Python are \n",
    "\n",
    "* list\n",
    "* tuple\n",
    "* dictionary\n",
    "* set"
   ]
  },
  {
   "cell_type": "markdown",
   "id": "c8bf4596",
   "metadata": {},
   "source": [
    "### Revisiting List\n",
    "\n",
    "Recall that list is a data structure which denotes a collection of values. A list may have zero, one or more values.\n",
    "For instance, \n",
    "```python\n",
    "ns = [1,2,3,4]\n",
    "```\n",
    "\n",
    "The size of the list can be computed using the builtin ```len()``` function. \n",
    "\n",
    "```python\n",
    "len(ns)\n",
    "```\n",
    "\n",
    "To access an element in the list, we can use the index operation, ```list_name[ index ]```, e.g.\n",
    "\n",
    "```python\n",
    "ns[0] # access the first element in the list.\n",
    "```\n",
    "\n",
    "To append an element to a list, we can call the ```.append()``` method. e.g.\n",
    "\n",
    "```python\n",
    "ns.append(5) # append 5 to the list as the 5th element.\n",
    "``` \n",
    "\n",
    "To insert an element into the list at index=2, we can call the ```insert(index, element)``` method\n",
    "\n",
    "```python\n",
    "ns.insert(2, 'a')\n",
    "```\n",
    "\n",
    "To concatenate a list to another, we use the ```+``` operator, e.g.\n",
    "\n",
    "```python\n",
    "ns + ns # which yields [1,2,3,4,5,1,2,3,4,5]\n",
    "```\n",
    "\n",
    "To reverse a list, \n",
    "\n",
    "```python\n",
    "ns[::-1]\n",
    "```\n",
    "\n",
    "To extract a sub list from a list\n",
    "\n",
    "```python\n",
    "ns[2:4] # extract the 3rd and the 4th elements, e.g. ns[2], and ns[3].\n",
    "```\n",
    "\n",
    "To iterate through all the elements in a list, we can use a for-loop.\n",
    "\n",
    "```python\n",
    "for n in ns:\n",
    "    print(n)\n",
    "```"
   ]
  },
  {
   "cell_type": "markdown",
   "id": "6b897883",
   "metadata": {},
   "source": [
    "To duplicate repetitions in a list, the ```*``` operator can be used."
   ]
  },
  {
   "cell_type": "code",
   "execution_count": 9,
   "id": "b8a160d4",
   "metadata": {},
   "outputs": [
    {
     "name": "stdout",
     "output_type": "stream",
     "text": [
      "['ab', 'cd', 'ab', 'cd', 'ab', 'cd']\n"
     ]
    }
   ],
   "source": [
    "x = ['ab', 'cd']\n",
    "print (x*3)"
   ]
  },
  {
   "cell_type": "markdown",
   "id": "c176f02c-cdbf-488c-9c3a-423965d4cfdc",
   "metadata": {},
   "source": [
    "### List Comprehension\n",
    "\n",
    "List comprehension is a way to create a new list based on an existing list. Without list comprehension, a loop may be required to extract values from a list based on a specific condition. \n",
    "\n",
    ">newlist = [ *expression* **for** *item* **in** *iterable* **if** *condition == True* ]"
   ]
  },
  {
   "cell_type": "code",
   "execution_count": 2,
   "id": "e66d542f-d3ae-48b6-ac85-750d9ecaf2ef",
   "metadata": {},
   "outputs": [
    {
     "name": "stdout",
     "output_type": "stream",
     "text": [
      "List comprehension: ['John Lee', 'Don Lee', 'Lee Kian']\n",
      "Using loop: ['John Lee', 'Don Lee', 'Lee Kian']\n"
     ]
    }
   ],
   "source": [
    "students = [\"John Lee\", \"Tim Tan\", \"Don Lee\", \"Lee Kian\", \"Rob Goh\", \"Casey Koh\"] \n",
    "\n",
    "lc_list = [x for x in students if \"Lee\" in x]\n",
    "\n",
    "print(\"List comprehension:\", lc_list)\n",
    "\n",
    "newList = []\n",
    "\n",
    "for student in students:\n",
    "    if \"Lee\" in student:\n",
    "        newList.append(student)\n",
    "\n",
    "print(\"Using loop:\", newList)"
   ]
  },
  {
   "cell_type": "markdown",
   "id": "9db83875-0676-4b37-a391-5af9ff390f97",
   "metadata": {},
   "source": [
    "List comprehension can also be use to modify the values before appending to the new list."
   ]
  },
  {
   "cell_type": "code",
   "execution_count": 4,
   "id": "e5e579b3-9026-4349-983a-c6e6eb806e96",
   "metadata": {},
   "outputs": [
    {
     "name": "stdout",
     "output_type": "stream",
     "text": [
      "['john lee', 'don lee', 'lee kian']\n"
     ]
    }
   ],
   "source": [
    "lower_list = [x.lower() for x in students if \"Lee\" in x]\n",
    "\n",
    "print(lower_list)"
   ]
  },
  {
   "cell_type": "markdown",
   "id": "1c55deb8",
   "metadata": {},
   "source": [
    "### Exercise\n",
    "\n",
    "Implement a sum_sq (sum of squares) function, which sums up all the squares of the elements in a list."
   ]
  },
  {
   "cell_type": "code",
   "execution_count": 5,
   "id": "b5b261c6",
   "metadata": {},
   "outputs": [
    {
     "name": "stdout",
     "output_type": "stream",
     "text": [
      "30\n"
     ]
    }
   ],
   "source": [
    "# todo: Exercise\n",
    "ns = [1,2,3,4]\n",
    "\n",
    "#for n in ns:\n",
    "#    print(n)   \n",
    "#for n in range(len(ns)):\n",
    "#    print(ns[n])\n",
    "\n",
    "def sum_sq(x):\n",
    "    total = 0\n",
    "    for n in x:\n",
    "        total = total + n*n\n",
    "    return total\n",
    "\n",
    "print(sum_sq(ns))\n",
    "    \n",
    "#\"\"\"\n",
    "#import numpy as np\n",
    "## creating an array using   \n",
    "## arrange method\n",
    "#arr1 = np.array([1,2,3,4])\n",
    "\n",
    "## iterating an array \n",
    "#for a in np.nditer(arr1): \n",
    "#    print(a) \n",
    "#\"\"\"\n",
    "\n"
   ]
  },
  {
   "cell_type": "markdown",
   "id": "7773c617",
   "metadata": {},
   "source": [
    "If we copy a list with the equal sign only like this my_list_copy = my_list, you’ll have the reference copied in the my_list_copy variable instead of the list values. So, if you want to copy the actual values, you can use the ```list(my_list)``` function or ```slicing [:]```."
   ]
  },
  {
   "cell_type": "code",
   "execution_count": 12,
   "id": "834c5615",
   "metadata": {},
   "outputs": [
    {
     "name": "stdout",
     "output_type": "stream",
     "text": [
      "x: [9, 2, 3, 4, 5]\n",
      "y: [9, 2, 3, 4, 5]\n"
     ]
    }
   ],
   "source": [
    "x = [ 1, 2 , 3 , 4 , 5]\n",
    "\n",
    "y = x\n",
    "y [0] = 9\n",
    "\n",
    "print(\"x:\",x)\n",
    "print(\"y:\",y)"
   ]
  },
  {
   "cell_type": "code",
   "execution_count": 11,
   "id": "bb973e9b",
   "metadata": {},
   "outputs": [
    {
     "name": "stdout",
     "output_type": "stream",
     "text": [
      "x: [1, 2, 3, 4, 5]\n",
      "y: [9, 2, 3, 4, 5]\n"
     ]
    }
   ],
   "source": [
    "x = [ 1, 2 , 3 , 4 , 5]\n",
    "\n",
    "y = list(x)\n",
    "y [0] = 9\n",
    "\n",
    "print(\"x:\",x)\n",
    "print(\"y:\",y)"
   ]
  },
  {
   "cell_type": "code",
   "execution_count": 13,
   "id": "3f0f9b0e",
   "metadata": {},
   "outputs": [
    {
     "name": "stdout",
     "output_type": "stream",
     "text": [
      "x: [1, 2, 3, 4, 5]\n",
      "y: [9, 2, 3, 4, 5]\n"
     ]
    }
   ],
   "source": [
    "x = [ 1, 2 , 3 , 4 , 5]\n",
    "\n",
    "y = x[:]\n",
    "y [0] = 9\n",
    "\n",
    "print(\"x:\",x)\n",
    "print(\"y:\",y)"
   ]
  },
  {
   "cell_type": "markdown",
   "id": "63ad03d4",
   "metadata": {},
   "source": [
    "### Iterating over all list elements\n",
    "\n",
    "A ```for``` loop can used to iterate over the elements in a list"
   ]
  },
  {
   "cell_type": "code",
   "execution_count": 14,
   "id": "34569831",
   "metadata": {},
   "outputs": [
    {
     "name": "stdout",
     "output_type": "stream",
     "text": [
      "apple\n",
      "banana\n",
      "carrot\n"
     ]
    }
   ],
   "source": [
    "basket = [\"apple\", \"banana\", \"carrot\"]\n",
    "\n",
    "for item in basket:\n",
    "    print(item)"
   ]
  },
  {
   "cell_type": "markdown",
   "id": "5e2881a8",
   "metadata": {},
   "source": [
    "A list can hold mixed type of data too."
   ]
  },
  {
   "cell_type": "code",
   "execution_count": 15,
   "id": "22b5bca3",
   "metadata": {},
   "outputs": [
    {
     "name": "stdout",
     "output_type": "stream",
     "text": [
      "1\n",
      "banana\n",
      "False\n"
     ]
    }
   ],
   "source": [
    "mixed = [1 , \"banana\", False]\n",
    "\n",
    "for item in mixed:\n",
    "    print(item)"
   ]
  },
  {
   "cell_type": "markdown",
   "id": "07d7cf2d",
   "metadata": {},
   "source": [
    "### Matrices as Nested List\n",
    "\n",
    "Matrices, or two-dimensional arrays, holds much of the data we store in the real world. Such table structures can be achieved using nested lists.\n",
    "\n",
    "| Test A | Test B | Test C |\n",
    "|---|---|---|\n",
    "| 4 | 5 | 9 |\n",
    "| 8 | 7 | 10 |\n",
    "\n",
    "Mathematically, the information can be represented by a 2 x 3 (2 rows by 3 columns) matrix.\n",
    "\n",
    "$$\\begin{bmatrix} 4 & 5 & 9 \\\\ 8 & 7 & 10 \\end{bmatrix}$$\n",
    "\n",
    "This matrix can be stored as a nested list."
   ]
  },
  {
   "cell_type": "code",
   "execution_count": 17,
   "id": "5ea624c2",
   "metadata": {},
   "outputs": [
    {
     "name": "stdout",
     "output_type": "stream",
     "text": [
      "7\n"
     ]
    }
   ],
   "source": [
    "m = [[4,5,9], [8,7,10]]\n",
    "\n",
    "#access the elements using [row][column] notation\n",
    "#note the use of zero-based index offset\n",
    "print(m[1][1])"
   ]
  },
  {
   "cell_type": "markdown",
   "id": "6d3b56da",
   "metadata": {},
   "source": [
    "### Accessing each element in the matrix"
   ]
  },
  {
   "cell_type": "code",
   "execution_count": 18,
   "id": "d5a288a4",
   "metadata": {},
   "outputs": [
    {
     "name": "stdout",
     "output_type": "stream",
     "text": [
      "4\n",
      "5\n",
      "9\n",
      "8\n",
      "7\n",
      "10\n"
     ]
    }
   ],
   "source": [
    "m = [[4,5,9], [8,7,10]]\n",
    "\n",
    "for i in range(len(m)):\n",
    "    for j in range(len(m[i])):\n",
    "        print(m[i][j])"
   ]
  },
  {
   "cell_type": "code",
   "execution_count": 19,
   "id": "6c25c7fe",
   "metadata": {},
   "outputs": [
    {
     "name": "stdout",
     "output_type": "stream",
     "text": [
      "4\n",
      "5\n",
      "9\n",
      "8\n",
      "7\n",
      "10\n"
     ]
    }
   ],
   "source": [
    "m = [[4,5,9], [8,7,10]]\n",
    "\n",
    "for row in m:\n",
    "    for col in row:\n",
    "        print (col)"
   ]
  },
  {
   "cell_type": "markdown",
   "id": "f4b28420",
   "metadata": {},
   "source": [
    "### Exercise\n",
    "\n",
    "Store the following table using a nested list.\n",
    "\n",
    "| Student | Class | Score |\n",
    "|---|---|---|\n",
    "| John Smith| 2E | 90 |\n",
    "| Juliet Soh | 2B | 58 |\n",
    "| Tommy Tee | 2C | 65 |\n",
    "\n",
    "* Print the details of the first record\n",
    "* Print the details of all records\n"
   ]
  },
  {
   "cell_type": "code",
   "execution_count": 26,
   "id": "539a78bf",
   "metadata": {},
   "outputs": [
    {
     "name": "stdout",
     "output_type": "stream",
     "text": [
      "** First Record **\n",
      "Name: John Smith\n",
      "Class: 2E\n",
      "Score: 90\n",
      "******************\n",
      "\n",
      "Name: John Smith\n",
      "Class: 2E\n",
      "Score: 90\n",
      "\n",
      "Name: Juliet Soh\n",
      "Class: 2B\n",
      "Score: 58\n",
      "\n",
      "Name: Tommy Tee\n",
      "Class: 2C\n",
      "Score: 65\n",
      "\n"
     ]
    }
   ],
   "source": [
    "#todo: Exercise\n",
    "\n",
    "students = [[\"John Smith\", \"2E\", 90], [\"Juliet Soh\", \"2B\", 58], [\"Tommy Tee\", \"2C\", 65]]\n",
    "\n",
    "#print first record\n",
    "\n",
    "student = students[0]\n",
    "print(\"** First Record **\")\n",
    "print(\"Name:\", student[0])\n",
    "print(\"Class:\", student[1])\n",
    "print(\"Score:\", student[2])\n",
    "print(\"******************\\n\")\n",
    "\n",
    "for student in students:\n",
    "    print(\"Name:\", student[0])\n",
    "    print(\"Class:\", student[1])\n",
    "    print(\"Score:\", student[2])\n",
    "    print()\n",
    "    \n"
   ]
  },
  {
   "cell_type": "markdown",
   "id": "da1cf9b0",
   "metadata": {},
   "source": [
    "## Dictionary\n",
    "\n",
    "A Dictionary in Python is a look up table, consists of key-value pairs. List elements are accessed using position index while dictionary elements are accessed via keys.\n",
    "\n",
    "```{}``` defines an empty dictionary. \n",
    "\n",
    "```python\n",
    "d = {}\n",
    "```\n",
    "\n",
    "```d[key] = value``` assigns a value to a slot in dictionary ```d``` indexed by ```key```.\n",
    "\n",
    "```python\n",
    "d[\"k1\"] = 1\n",
    "```\n",
    "If the key already exists, the existing value will be overwritten.\n",
    "\n",
    "```key in d``` is a boolean expression which tests whether the key ```key``` is in dictionary ```d```.\n",
    "\n",
    "```python\n",
    "if \"k1\" in d:\n",
    "    print (\"k1 is in the dictionary\")\n",
    "```\n",
    "\n",
    "```d[key]``` returns the value store in ```d``` indexed by ```key``` if exists, otherwise, a Key Error will be thrown.\n",
    "\n",
    "```python\n",
    "d[\"k1\"]\n",
    "```\n",
    "\n",
    "Note that the values can be of any type. Only scalar values can be used as keys.\n",
    "\n",
    "If we want to visit all the values in the dictionary, we can turn it into a key-value pair list and use for-loop to iterate over it.\n",
    "\n",
    "```python\n",
    "for key, val in d.items():\n",
    "    print(key, val)\n",
    "\n",
    "```\n",
    "\n",
    "### Exercise \n",
    "Implement a ```wc``` function which takes a string of text and counts and prints out the numbers of occurances of each word appearing in the text. A test case as follows, \n",
    "\n",
    "``` python\n",
    "wc('twinkle twinkle little star how i wonder what you are')\n",
    "```\n",
    "yields\n",
    "\n",
    "```\n",
    "little : 1\n",
    "star : 1\n",
    "twinkle : 2\n",
    "i : 1\n",
    "what : 1\n",
    "how : 1\n",
    "are : 1\n",
    "you : 1\n",
    "wonder : 1\n",
    "```"
   ]
  },
  {
   "cell_type": "code",
   "execution_count": 46,
   "id": "e33f206f",
   "metadata": {},
   "outputs": [
    {
     "name": "stdout",
     "output_type": "stream",
     "text": [
      "twinkle : 2\n",
      "little : 1\n",
      "star : 1\n",
      "how : 1\n",
      "i : 1\n",
      "wonder : 1\n",
      "what : 1\n",
      "you : 1\n",
      "are : 1\n"
     ]
    }
   ],
   "source": [
    "# todo: Exercise\n",
    "\n",
    "def wc(s):\n",
    "    d = {}\n",
    "    array1 = s.split(' ')\n",
    "    for word in array1:\n",
    "        if word in d:\n",
    "            d[word] = d[word] + 1\n",
    "        else:\n",
    "            d[word] = 1\n",
    "\n",
    "    for key, val in d.items():\n",
    "        print(key,':', val)         \n",
    "            \n",
    "wc('twinkle twinkle little star how i wonder what you are')           "
   ]
  },
  {
   "cell_type": "markdown",
   "id": "62ee3e22",
   "metadata": {
    "tags": []
   },
   "source": [
    "## Tuple\n",
    "\n",
    "Similar to list, tuple defines a collection of data values. Unlike list, the size of a tuple is fixed and not extendable. \n",
    "\n",
    "```python\n",
    "t = (1,2)\n",
    "\n",
    "print(t[0])\n",
    "```\n",
    "\n",
    "\n",
    "We can also \"pattern match\" a tuple value by putting the tuple pattern on the left hand side of the assignment statement. For instance\n",
    "\n",
    "```python\n",
    "(x,y) = t\n",
    "print(x)\n",
    "```\n",
    "\n",
    "### Exercise\n",
    "\n",
    "Define some tuple on your own and try to access its content.\n",
    "\n"
   ]
  },
  {
   "cell_type": "code",
   "execution_count": 48,
   "id": "9ed766b0",
   "metadata": {
    "tags": []
   },
   "outputs": [
    {
     "name": "stdout",
     "output_type": "stream",
     "text": [
      "1\n",
      "1\n"
     ]
    }
   ],
   "source": [
    "# todo: exercise\n",
    "\n",
    "t = (1,2)\n",
    "\n",
    "print(t[0])\n",
    "\n",
    "(x,y) = t\n",
    "print(x)"
   ]
  },
  {
   "cell_type": "markdown",
   "id": "dbbd12f2",
   "metadata": {},
   "source": [
    "## Sets\n",
    "\n",
    "Sets are unordered collections of **unique** and immutable objects that support operations mimicking mathematical set theory.\n",
    "\n",
    "Sets do not allow multiple occurences of the same element and is often used to prevent duplicates."
   ]
  },
  {
   "cell_type": "code",
   "execution_count": 28,
   "id": "11adbf10",
   "metadata": {},
   "outputs": [
    {
     "name": "stdout",
     "output_type": "stream",
     "text": [
      "{1, 2, 3, 4, 5, 6}\n",
      "{1, 2, 3, 4, 5, 6}\n",
      "{1, 3, 4, 5, 6, 7}\n"
     ]
    }
   ],
   "source": [
    "s1 = set([1,2,3,4,5,6])\n",
    "print(s1)\n",
    "s2 = set([1,2,2,3,3,4,4,5,5,6])\n",
    "print(s2)\n",
    "s3 = set([3,4,5,6,6,6,7,1,1,3])\n",
    "print(s3)"
   ]
  },
  {
   "cell_type": "markdown",
   "id": "2ebb9881",
   "metadata": {},
   "source": [
    "Note the ```{ }``` wrapping the elements in sets. The duplicate items are removed and the original order of numbers are not preserved."
   ]
  },
  {
   "cell_type": "code",
   "execution_count": 29,
   "id": "7c32ab32",
   "metadata": {},
   "outputs": [
    {
     "name": "stdout",
     "output_type": "stream",
     "text": [
      "{'b', 'c', 'a'}\n"
     ]
    }
   ],
   "source": [
    "s4 = {'a', 'b', 'c'}\n",
    "print(s4)"
   ]
  },
  {
   "cell_type": "markdown",
   "id": "c9b1c8d9",
   "metadata": {},
   "source": [
    "Sets are mutable and new items can be added."
   ]
  },
  {
   "cell_type": "code",
   "execution_count": 30,
   "id": "2a52828e",
   "metadata": {},
   "outputs": [
    {
     "name": "stdout",
     "output_type": "stream",
     "text": [
      "{'e', 'b', 'c', 'a'}\n"
     ]
    }
   ],
   "source": [
    "s4.add('e')\n",
    "print(s4)"
   ]
  },
  {
   "cell_type": "markdown",
   "id": "816e3917",
   "metadata": {},
   "source": [
    "### Set operations\n",
    "\n",
    "Union is achieved by using the ```|``` operator or the ```union()``` method"
   ]
  },
  {
   "cell_type": "code",
   "execution_count": 33,
   "id": "1e53023a",
   "metadata": {},
   "outputs": [
    {
     "name": "stdout",
     "output_type": "stream",
     "text": [
      "{1, 3, 4, 5, 6, 7}\n",
      "{1, 3, 4, 5, 6, 7}\n"
     ]
    }
   ],
   "source": [
    "s5 = {1,3,4,5}\n",
    "s6 = {3,4,4,5,6,7}\n",
    "\n",
    "print (s5 | s6)\n",
    "print (s5.union(s6))"
   ]
  },
  {
   "cell_type": "markdown",
   "id": "846e38b2",
   "metadata": {},
   "source": [
    "Intersection is achieved by using the ```&``` operator or the ```intersection()``` method"
   ]
  },
  {
   "cell_type": "code",
   "execution_count": 34,
   "id": "d5f005e0",
   "metadata": {},
   "outputs": [
    {
     "name": "stdout",
     "output_type": "stream",
     "text": [
      "{3, 4, 5}\n",
      "{3, 4, 5}\n"
     ]
    }
   ],
   "source": [
    "s5 = {1,3,4,5}\n",
    "s6 = {3,4,4,5,6,7}\n",
    "\n",
    "print (s5 & s6)\n",
    "print (s5.intersection(s6))"
   ]
  },
  {
   "cell_type": "markdown",
   "id": "2a12e211",
   "metadata": {},
   "source": [
    "Difference is achieved by using the ```-``` operator or the ```difference()``` method"
   ]
  },
  {
   "cell_type": "code",
   "execution_count": 35,
   "id": "e472344e",
   "metadata": {},
   "outputs": [
    {
     "name": "stdout",
     "output_type": "stream",
     "text": [
      "{1}\n",
      "{1}\n"
     ]
    }
   ],
   "source": [
    "s5 = {1,3,4,5}\n",
    "s6 = {3,4,4,5,6,7}\n",
    "\n",
    "print (s5 - s6)\n",
    "print (s5.difference(s6))"
   ]
  },
  {
   "cell_type": "markdown",
   "id": "8def3cd9",
   "metadata": {},
   "source": [
    "Use ```<=``` or the ```issubset()``` method to check if one set is a subset of another. \n",
    "\n",
    "Use ```<``` to check if a set is a proper/formal subset of another."
   ]
  },
  {
   "cell_type": "code",
   "execution_count": 40,
   "id": "7a267208",
   "metadata": {},
   "outputs": [
    {
     "name": "stdout",
     "output_type": "stream",
     "text": [
      "False\n",
      "False\n",
      "\n",
      "True\n",
      "True\n",
      "\n",
      "True\n",
      "False\n"
     ]
    }
   ],
   "source": [
    "s5 = {1,3,4,5}\n",
    "s6 = {3,4,4,5,6,7}\n",
    "\n",
    "print (s5 <= s6)\n",
    "print (s5.issubset(s6))\n",
    "print()\n",
    "\n",
    "s7 = {1,3,4,4,5,5,6,6,7}\n",
    "\n",
    "print (s5 <= s7)\n",
    "print (s5.issubset(s7))\n",
    "print()\n",
    "\n",
    "print (s5 < s7)\n",
    "print (s5 < s5)"
   ]
  },
  {
   "cell_type": "markdown",
   "id": "4aafb8c5",
   "metadata": {},
   "source": [
    "Use ```>=``` or the ```issuperset()``` method to check if one set is a superset of another. Similar, use ```>``` to check if a set is a proper/formal superset of another"
   ]
  },
  {
   "cell_type": "code",
   "execution_count": 41,
   "id": "2c0f0c3b",
   "metadata": {},
   "outputs": [
    {
     "name": "stdout",
     "output_type": "stream",
     "text": [
      "True\n",
      "True\n",
      "\n",
      "True\n",
      "False\n"
     ]
    }
   ],
   "source": [
    "print (s7 >= s5)\n",
    "print (s7.issuperset(s5))\n",
    "print()\n",
    "\n",
    "print (s7 > s5)\n",
    "print (s7 > s7)"
   ]
  },
  {
   "cell_type": "markdown",
   "id": "3fa28d77",
   "metadata": {},
   "source": [
    "## Recursive functions\n",
    "\n",
    "A recursive function a function that calls itself in its body.\n",
    "\n",
    "e.g. \n",
    "```python\n",
    "def factorial(n):\n",
    "    if n <= 0:\n",
    "        return 1\n",
    "    else:\n",
    "        return factorial(n-1)*n\n",
    "```\n",
    "\n",
    "Recursion functions are closer to their mathematical formulation. \n",
    "\n",
    "### Exercise\n",
    "Can you define another version of ```factorial``` function that use a for-loop instead of recursion?"
   ]
  },
  {
   "cell_type": "code",
   "execution_count": 39,
   "id": "90376b49",
   "metadata": {},
   "outputs": [
    {
     "name": "stdout",
     "output_type": "stream",
     "text": [
      "24\n",
      "24\n"
     ]
    }
   ],
   "source": [
    "# todo: Exercise\n",
    "def factorial1(n):\n",
    "    if n <= 0:\n",
    "        return 1\n",
    "    else:\n",
    "        return factorial1(n-1)*n\n",
    "    \n",
    "def factorial2(n):\n",
    "    result = 1;\n",
    "    for num in range(1,n+1):\n",
    "        result = result * num\n",
    "    return result\n",
    "\n",
    "print(factorial1(4))\n",
    "print(factorial2(4))"
   ]
  },
  {
   "cell_type": "markdown",
   "id": "31c2d55a",
   "metadata": {},
   "source": [
    "## Higher order functions\n",
    "\n",
    "A function is a higher order function if \n",
    "* it takes another function as its formal argument, or\n",
    "* it return another function as its result.\n",
    "\n",
    "```python\n",
    "def times2(x):\n",
    "    return x * 2\n",
    "\n",
    "def apply_twice(f,x):\n",
    "    return f(f(x))\n",
    "\n",
    "apply_twice(times2, 10)\n",
    "```\n",
    "\n",
    "### Exercise\n",
    "Define the above functions and observe the output\n",
    "\n"
   ]
  },
  {
   "cell_type": "code",
   "execution_count": 40,
   "id": "e46ad744",
   "metadata": {},
   "outputs": [
    {
     "data": {
      "text/plain": [
       "40"
      ]
     },
     "execution_count": 40,
     "metadata": {},
     "output_type": "execute_result"
    }
   ],
   "source": [
    "# todo: Exercise\n",
    "def times2(x):\n",
    "    return x * 2\n",
    "\n",
    "def apply_twice(f,x):\n",
    "    return f(f(x))\n",
    "\n",
    "apply_twice(times2, 10)"
   ]
  },
  {
   "cell_type": "markdown",
   "id": "cebeff2c",
   "metadata": {},
   "source": [
    "## Functional programming with map and reduce\n",
    "\n",
    "Python supports a limited form of functional programming. Functional programming allows functions to be passed in and returned as value. Functions can be named or anonymous. This allows code to be concise and easier for verification and proving for correctness.\n",
    "For instance, we can redefine the ```times2``` function using lambda expression\n",
    "\n",
    "```python\n",
    "times2_fun = lambda x: x*2\n",
    "```\n",
    "\n",
    "```map(f,l)``` takes a function ```f``` and a list ```l```, and apply ```f``` to every element in ```l```.\n",
    "\n",
    "```python\n",
    "list(map(times2_fun, ns))\n",
    "```\n",
    "yields a list of \n",
    "\n",
    "```python\n",
    "[2,4,6,8]\n",
    "```\n",
    "\n",
    "Note: prior Python 3, ```map()``` returns a list. Since Python 3, ```map()``` returns an iterator of sequence to support laziness. To convert the object back to a list, a call of ```list()``` on the result is required.\n",
    "\n",
    "\n",
    "Alternatively, we can use the lambda function directly\n",
    "\n",
    "```python\n",
    "list(map(lambda x: x*2, ns))\n",
    "```\n",
    "\n",
    "```reduce(g,l)``` takes a binary function ```g``` and a list ```l```, and aggregates all elements in ```l``` with ```g```.\n",
    "\n",
    "For example,\n",
    "\n",
    "```python\n",
    "from functools import reduce \n",
    "reduce(lambda x,y: x+y, ns)\n",
    "```\n",
    "\n",
    "yields \n",
    "\n",
    "```python\n",
    "10\n",
    "```\n",
    "\n",
    "### Exercise\n",
    "implement ```sum_sq``` using ```map```, ```reduce``` and lambda expressions.\n"
   ]
  },
  {
   "cell_type": "code",
   "execution_count": 45,
   "id": "7c0c9bd8",
   "metadata": {},
   "outputs": [
    {
     "data": {
      "text/plain": [
       "30"
      ]
     },
     "execution_count": 45,
     "metadata": {},
     "output_type": "execute_result"
    }
   ],
   "source": [
    "# todo: Exercise\n",
    "ns = [1,2,3,4]\n",
    "\n",
    "#square_fun = lambda x: x*x\n",
    "#arr2 = list(map(square_fun,ns))\n",
    "\n",
    "#from functools import reduce \n",
    "#reduce(lambda x,y: x+y, arr2)\n",
    "\n",
    "from functools import reduce \n",
    "reduce(lambda x,y: x+y, list(map(lambda x: x*x,ns)))"
   ]
  },
  {
   "cell_type": "markdown",
   "id": "d57526db",
   "metadata": {},
   "source": [
    "Functional programming (often abbreviated FP) is the process of building software by composing pure functions, avoiding shared state, mutable data, and side-effects. Functional programming is declarative rather than imperative, and application state flows through pure functions. Contrast with object oriented programming, where application state is usually shared and colocated with methods in objects."
   ]
  },
  {
   "cell_type": "markdown",
   "id": "cd661a86",
   "metadata": {
    "tags": []
   },
   "source": [
    "#### Mutable and Immutable objects\n",
    "\n",
    "Care should be taken when assigning mutable objects such as dictionaries, lists, sets and byte arrays. \n",
    "\n",
    "When immutable ojects (that is, cannot be changed after it is created) such as ```str``` and ```int``` are assigned, notice that assigning a new value to one of the variable does not update the other variable.\n"
   ]
  },
  {
   "cell_type": "code",
   "execution_count": 42,
   "id": "2cf8fe77",
   "metadata": {},
   "outputs": [
    {
     "name": "stdout",
     "output_type": "stream",
     "text": [
      "n:  50\n",
      "m:  50\n"
     ]
    }
   ],
   "source": [
    "n = m = 50\n",
    "\n",
    "print(\"n: \", n)    #50\n",
    "print(\"m: \", m)    #50 "
   ]
  },
  {
   "cell_type": "code",
   "execution_count": 43,
   "id": "077fe128",
   "metadata": {},
   "outputs": [
    {
     "name": "stdout",
     "output_type": "stream",
     "text": [
      "n:  10\n",
      "m:  50\n"
     ]
    }
   ],
   "source": [
    "n = 10\n",
    "\n",
    "print(\"n: \", n)    #10\n",
    "print(\"m: \", m)    #50 "
   ]
  },
  {
   "cell_type": "markdown",
   "id": "f4e0eb91",
   "metadata": {},
   "source": [
    "However, mutable objects can be changed after creation and variables assigned to the same mutable object may be updated. "
   ]
  },
  {
   "cell_type": "code",
   "execution_count": 2,
   "id": "f74e9e8e",
   "metadata": {},
   "outputs": [
    {
     "name": "stdout",
     "output_type": "stream",
     "text": [
      "list_one before:  [0, 1, 2]\n",
      "list_two before:  [0, 1, 2]\n",
      "\n",
      "list_one after:  [9, 1, 2]\n",
      "list_two after:  [9, 1, 2]\n"
     ]
    }
   ],
   "source": [
    "list_one = list_two = [0, 1, 2]\n",
    "\n",
    "print(\"list_one before: \", list_one)\n",
    "print(\"list_two before: \", list_two)\n",
    "print()\n",
    "\n",
    "list_one[0] = 9\n",
    "\n",
    "print(\"list_one after: \", list_one)\n",
    "print(\"list_two after: \", list_two)"
   ]
  },
  {
   "cell_type": "markdown",
   "id": "054b865b",
   "metadata": {},
   "source": [
    "To avoid unintended updates, assign variables with mutable objects separately, or use ```copy()``` or ```deepcopy()```.\n",
    "\n",
    "A shallow copy means constructing a new collection object and then populating it with **references to the child objects** found in the original. In essence, a shallow copy is only one level deep. The copying process does not recurse and therefore won’t create copies of the child objects themselves.\n",
    "\n",
    "A deep copy makes the copying process recursive. It means first constructing a new collection object and then recursively populating it with copies of the child objects found in the original. Copying an object this way walks the whole object tree to create a fully independent clone of the original object and all of its children.\n",
    "\n",
    "https://realpython.com/copying-python-objects/"
   ]
  },
  {
   "cell_type": "code",
   "execution_count": 6,
   "id": "cb258642",
   "metadata": {},
   "outputs": [
    {
     "name": "stdout",
     "output_type": "stream",
     "text": [
      "list_one: [9, 1, 2, [4]]\n",
      "list_two: [0, 1, 2, [4]]\n"
     ]
    }
   ],
   "source": [
    "import copy\n",
    "list_one = [0, 1, 2]\n",
    "var_a = [3]\n",
    "\n",
    "list_one.append(var_a)\n",
    "list_two = copy.copy(list_one)\n",
    "\n",
    "list_one[0] = 9\n",
    "list_one[3][0] = 4\n",
    "\n",
    "print(\"list_one:\", list_one)\n",
    "print(\"list_two:\", list_two)"
   ]
  },
  {
   "cell_type": "code",
   "execution_count": 7,
   "id": "8c979568",
   "metadata": {},
   "outputs": [
    {
     "name": "stdout",
     "output_type": "stream",
     "text": [
      "list_one: [9, 1, 2, [4]]\n",
      "list_two: [0, 1, 2, [3]]\n"
     ]
    }
   ],
   "source": [
    "import copy\n",
    "list_one = [0, 1, 2]\n",
    "var_a = [3]\n",
    "\n",
    "list_one.append(var_a)\n",
    "list_two = copy.deepcopy(list_one)\n",
    "\n",
    "list_one[0] = 9\n",
    "list_one[3][0] = 4\n",
    "\n",
    "print(\"list_one:\", list_one)\n",
    "print(\"list_two:\", list_two)"
   ]
  },
  {
   "cell_type": "code",
   "execution_count": null,
   "id": "1925ca4d",
   "metadata": {},
   "outputs": [],
   "source": []
  }
 ],
 "metadata": {
  "kernelspec": {
   "display_name": "Python 3 (ipykernel)",
   "language": "python",
   "name": "python3"
  },
  "language_info": {
   "codemirror_mode": {
    "name": "ipython",
    "version": 3
   },
   "file_extension": ".py",
   "mimetype": "text/x-python",
   "name": "python",
   "nbconvert_exporter": "python",
   "pygments_lexer": "ipython3",
   "version": "3.9.12"
  }
 },
 "nbformat": 4,
 "nbformat_minor": 5
}
