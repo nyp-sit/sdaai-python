{
 "cells": [
  {
   "cell_type": "markdown",
   "id": "4f9044e1-0360-466a-8270-7ec7d07b05e4",
   "metadata": {},
   "source": [
    "<a href=\"https://colab.research.google.com/github/nyp-sit/agods/blob/main/day1/4 Interact with OS.ipynb\" target=\"_blank\"><img src=\"https://colab.research.google.com/assets/colab-badge.svg\" alt=\"Open In Colab\"/></a>"
   ]
  },
  {
   "cell_type": "markdown",
   "id": "c053de4f-66c5-4cd9-8b1a-ebda80c1f0b1",
   "metadata": {},
   "source": [
    "<img src=\"https://nyp-aicourse.s3.ap-southeast-1.amazonaws.com/agods/nyp_ago_logo.png\" width='400'/>"
   ]
  },
  {
   "cell_type": "markdown",
   "id": "3d777e23-ee33-4f63-bb64-ef16ee8c64f5",
   "metadata": {},
   "source": [
    "# Interacting with the Operating System\n",
    "\n",
    "It is essential for us to have some basic information about the operating system (OS) because we would be working with files.\n",
    "\n",
    "The 3 key modules from the standard library to inspect the runtime environment  and the operating system (OS) are\n",
    "\n",
    "* **os**          - miscellaneous interface with the OS\n",
    "* **platform**    - provide information about the interpreter and the machine  where the process is running\n",
    "* **sys**         - system specific information about the runtime environment"
   ]
  },
  {
   "cell_type": "markdown",
   "id": "f59045ff-8fe8-4c12-96fa-140f5e897f02",
   "metadata": {},
   "source": [
    "# Retrieving basic process information"
   ]
  },
  {
   "cell_type": "code",
   "execution_count": null,
   "id": "077c01ca-d5e0-45e6-a0b6-7a385700fa78",
   "metadata": {},
   "outputs": [],
   "source": [
    "import platform\n",
    "import os\n",
    "import sys"
   ]
  },
  {
   "cell_type": "code",
   "execution_count": null,
   "id": "ecaf3c66-1011-4afe-bb7c-39b1be3585ec",
   "metadata": {},
   "outputs": [],
   "source": [
    "print(\"USERNAME environment variable:\", os.environ[\"USERNAME\"])\n",
    "print(\"Process id:\", os.getpid())\n",
    "print(\"Parent process id:\", os.getppid())"
   ]
  },
  {
   "cell_type": "markdown",
   "id": "ecf4dc46-69c8-4e00-b7bb-e77112831da9",
   "metadata": {},
   "source": [
    "Restarting the kernel will change the process id (pid) as a new process ID is assigned. However, the parent process will stay the same.\n",
    "\n",
    "**Try restarting the kernel** to see if you observe the described behaviour."
   ]
  },
  {
   "cell_type": "code",
   "execution_count": null,
   "id": "cb1dd4df-2eba-458b-98d7-9e6d4de752ca",
   "metadata": {},
   "outputs": [],
   "source": [
    "import platform\n",
    "import os\n",
    "import sys\n",
    "\n",
    "print(\"USERNAME environment variable:\", os.environ[\"USERNAME\"])\n",
    "print(\"Process id:\", os.getpid())\n",
    "print(\"Parent process id:\", os.getppid())"
   ]
  },
  {
   "cell_type": "markdown",
   "id": "81af5439-d862-413f-a80d-9660526da2bf",
   "metadata": {},
   "source": [
    "The *os.environ* is a mapping object that represents the user's environment variables. It returns a dictionary with the user's environmental variable as the key and their values as value."
   ]
  },
  {
   "cell_type": "code",
   "execution_count": null,
   "id": "58593938-2cd3-45fe-8f95-6ab0b47d6317",
   "metadata": {
    "scrolled": true,
    "tags": []
   },
   "outputs": [],
   "source": [
    "import pprint\n",
    "  \n",
    "# Get the list of user's\n",
    "# environment variables\n",
    "env_var = os.environ\n",
    "\n",
    "# Print list of user's environment variables\n",
    "print(\"User's Environment variable:\")\n",
    "pprint.pprint(dict(env_var), width = 1)"
   ]
  },
  {
   "cell_type": "markdown",
   "id": "ad7e561f-693c-40e2-a296-64c12f636565",
   "metadata": {},
   "source": [
    "### A new environment variable can also be added"
   ]
  },
  {
   "cell_type": "code",
   "execution_count": null,
   "id": "f1b965f1-06a2-4aad-91d0-5285fd2acbb1",
   "metadata": {},
   "outputs": [],
   "source": [
    "os.environ[\"MyPythonEnv\"] = 'my python env is saved'\n",
    "print(\"Env variable 'MyPythonEnv':\", os.environ[\"MyPythonEnv\"])"
   ]
  },
  {
   "cell_type": "markdown",
   "id": "8c2b8bc1-1a64-48c7-a769-ac3e86568ddf",
   "metadata": {},
   "source": [
    "### Remove the environment variable that was created"
   ]
  },
  {
   "cell_type": "code",
   "execution_count": null,
   "id": "f80ee66f-f04f-4498-8ed0-3672c787fd69",
   "metadata": {},
   "outputs": [],
   "source": [
    "os.environ.pop(\"MyPythonEnv\")"
   ]
  },
  {
   "cell_type": "markdown",
   "id": "ce46fe1d-325f-4aa0-b656-29cbf2852ccf",
   "metadata": {},
   "source": [
    "# Retrieving information about the interpreter and machine"
   ]
  },
  {
   "cell_type": "code",
   "execution_count": null,
   "id": "9447141c-b650-451d-9410-f0a894404367",
   "metadata": {},
   "outputs": [],
   "source": [
    "print(\"Machine network name:\", platform.node())\n",
    "print(\"Python version:\", platform.python_version())\n",
    "print(\"System:\", platform.system())"
   ]
  },
  {
   "cell_type": "markdown",
   "id": "1979533e-8dfb-4845-8256-a4d378f2d956",
   "metadata": {},
   "source": [
    "# Retrieving the Python path and arguments\n",
    "We will list the paths where Python will look for modules and the command line that was used to start the interpreter  as a list of arguments."
   ]
  },
  {
   "cell_type": "code",
   "execution_count": null,
   "id": "5e1cc281-0358-425f-b0cf-3e538d241965",
   "metadata": {},
   "outputs": [],
   "source": [
    "print(\"Python module lookup path:\", sys.path)\n",
    "print()\n",
    "print(\"Command to run Python:\", sys.argv)"
   ]
  },
  {
   "cell_type": "markdown",
   "id": "9a0af4a9-8ccf-4e5f-a99f-51985b225912",
   "metadata": {},
   "source": [
    "# Using pathlib\n",
    "\n",
    "*pathlib* is a useful module for interacting with filesystem paths. It offers classes representing filesystem paths with semantics appropriate for different operating systems.\n",
    "\n",
    "A path object of the module can created with its default argument to start a relative path to the current working directory."
   ]
  },
  {
   "cell_type": "code",
   "execution_count": null,
   "id": "1b2de932-bdee-446d-bf41-1d8d17ce2530",
   "metadata": {},
   "outputs": [],
   "source": [
    "import pathlib\n",
    "path = pathlib.Path()\n",
    "print(repr(path))"
   ]
  },
  {
   "cell_type": "markdown",
   "id": "eef64eee-fcad-4d20-b1c1-1a75a0f53668",
   "metadata": {},
   "source": [
    "### Joining paths\n",
    "`path` objects can be joined using forward slash `/`"
   ]
  },
  {
   "cell_type": "code",
   "execution_count": null,
   "id": "3249845a-0da3-4e7c-8097-3ba30b249678",
   "metadata": {},
   "outputs": [],
   "source": [
    "my_path = path / \"Documents\" / \"python\" / \"sample.py\"\n",
    "print(repr(my_path))"
   ]
  },
  {
   "cell_type": "markdown",
   "id": "32af8260-90ad-474a-9c01-3ca8ac3fc28c",
   "metadata": {},
   "source": [
    "### Return the current directory"
   ]
  },
  {
   "cell_type": "code",
   "execution_count": null,
   "id": "64215208-66a4-40bb-9b7a-b35f42c62604",
   "metadata": {},
   "outputs": [],
   "source": [
    "path.cwd()"
   ]
  },
  {
   "cell_type": "code",
   "execution_count": null,
   "id": "b32f36ea-2952-4ce6-8016-0362cd61a3e2",
   "metadata": {},
   "outputs": [],
   "source": [
    "os.getcwd()"
   ]
  },
  {
   "cell_type": "markdown",
   "id": "39c5ba10-a913-4eda-85ef-a153ccdfc966",
   "metadata": {},
   "source": [
    "### Check if path exists"
   ]
  },
  {
   "cell_type": "code",
   "execution_count": null,
   "id": "625ffe24-a96b-4807-bce1-d1df7301acb2",
   "metadata": {},
   "outputs": [],
   "source": [
    "path.exists()"
   ]
  },
  {
   "cell_type": "code",
   "execution_count": null,
   "id": "5feaf533-e5be-4214-b676-978738f37213",
   "metadata": {
    "tags": []
   },
   "outputs": [],
   "source": [
    "my_path.exists()"
   ]
  },
  {
   "cell_type": "markdown",
   "id": "656b41bf-e0c1-45b1-96e3-651711939197",
   "metadata": {},
   "source": [
    "### Check if the path is a file"
   ]
  },
  {
   "cell_type": "code",
   "execution_count": null,
   "id": "229ea6c3-4bb3-4d0c-bb21-8b0a94482a6b",
   "metadata": {},
   "outputs": [],
   "source": [
    "path.is_file()"
   ]
  },
  {
   "cell_type": "code",
   "execution_count": null,
   "id": "42dabc2b-518e-4562-8a04-ef1b01059b92",
   "metadata": {},
   "outputs": [],
   "source": [
    "my_path.is_file()"
   ]
  },
  {
   "cell_type": "code",
   "execution_count": null,
   "id": "3c38ab8b-7264-45bc-88ed-adc22af3da7b",
   "metadata": {},
   "outputs": [],
   "source": [
    "file_exist_path = path / \"interacting with OS.ipynb\"\n",
    "file_exist_path.is_file()"
   ]
  },
  {
   "cell_type": "markdown",
   "id": "c5ee7543-e466-41de-90b7-efab57257a4d",
   "metadata": {},
   "source": [
    "### Check if the path is a directory"
   ]
  },
  {
   "cell_type": "code",
   "execution_count": null,
   "id": "b3955557-f44c-4d23-8dfa-ebe69a54d822",
   "metadata": {},
   "outputs": [],
   "source": [
    "path.is_dir()"
   ]
  },
  {
   "cell_type": "code",
   "execution_count": null,
   "id": "78c23fa8-b652-4ab1-b802-27dbde6ddf09",
   "metadata": {},
   "outputs": [],
   "source": [
    "dir_no_exist_path = path / \"random_folder\"\n",
    "dir_no_exist_path.is_dir()"
   ]
  },
  {
   "cell_type": "code",
   "execution_count": null,
   "id": "50ed511a-52e3-449b-a31b-eb8ebb74c5af",
   "metadata": {},
   "outputs": [],
   "source": [
    "file_exist_path.is_dir()"
   ]
  },
  {
   "cell_type": "markdown",
   "id": "99ba31b2-c36b-4b26-abaf-7220a6b65df4",
   "metadata": {},
   "source": [
    "### List the  files and directories in the path\n",
    "Note: An error will throw if the path is a file."
   ]
  },
  {
   "cell_type": "code",
   "execution_count": null,
   "id": "6370b731-cc57-4b06-991d-5c93fa756b07",
   "metadata": {},
   "outputs": [],
   "source": [
    "for item in path.iterdir():\n",
    "    print(repr(item))"
   ]
  },
  {
   "cell_type": "markdown",
   "id": "bd800901-6dce-43c6-81c5-46427ae973d5",
   "metadata": {},
   "source": [
    "### List the directories given by the path\n",
    "\n",
    "`os` provides a quick way to view the list of directories at a path."
   ]
  },
  {
   "cell_type": "code",
   "execution_count": null,
   "id": "bc753322-9839-442e-bebd-b17a08374343",
   "metadata": {},
   "outputs": [],
   "source": [
    "os.listdir()"
   ]
  },
  {
   "cell_type": "code",
   "execution_count": null,
   "id": "0980095a-eeb2-451c-9b4c-4810a1de2493",
   "metadata": {},
   "outputs": [],
   "source": [
    "os.listdir('Documents')"
   ]
  },
  {
   "cell_type": "markdown",
   "id": "567e56c2-0f4b-46dd-91e3-b411fcfa12f2",
   "metadata": {},
   "source": [
    "### Create a directory at the given path"
   ]
  },
  {
   "cell_type": "code",
   "execution_count": null,
   "id": "482505c7-62fd-4104-bb32-6a1022a17d83",
   "metadata": {},
   "outputs": [],
   "source": [
    "pathlib.Path(\"tempDir\").mkdir(parents=True, exist_ok=True)"
   ]
  },
  {
   "cell_type": "markdown",
   "id": "4a9524f8-60af-4613-890e-a153b0db3333",
   "metadata": {},
   "source": [
    "### Open a file in the current path"
   ]
  },
  {
   "cell_type": "code",
   "execution_count": null,
   "id": "5042cc0d-e8a9-4075-9487-203e9ad33033",
   "metadata": {},
   "outputs": [],
   "source": [
    "filepath = pathlib.Path(\"temp1.txt\")\n",
    "\n",
    "with filepath.open('a') as f:\n",
    "    f.writelines([\"\\nHello World!\", \"\\nWelcome to Python.\"])"
   ]
  },
  {
   "cell_type": "markdown",
   "id": "15181feb-1343-440e-a39e-f58444a40701",
   "metadata": {},
   "source": [
    "Python also has a built-in function to make opening a file easy. \n",
    "\n",
    "Since the opening of a file introduces a resource to our program, it is a good practice to close the file when the file is not longer needed.\n",
    "\n",
    "|Mode|Description|\n",
    "|---|---|\n",
    "|r|Opens an existing file as text for reading only|\n",
    "|w|Opens a new file or overwrites an existing file as text for writing only|\n",
    "|a|Opens a new file or overwrites an existing file as text for writing where new text is added to the end of the file (i.e. append)|\n",
    "|r+|Opens an existing file as text for reading and writing|\n",
    "|w+|Opens a new file or overwrites an existing file as text for reading and writing|\n",
    "|a+|Opens a new file or overwrites an existing file as text for reading and writing where new text is added to the end of the file (i.e. append)|\n",
    "\n",
    "In addition you can specify if the file should be handled as binary or text mode\n",
    "\n",
    "\"t\" - Text - Default value. Text mode\\\n",
    "\"b\" - Binary - Binary mode (e.g. images)\\\n",
    "\n",
    "For example, \"ab\" will be the appending to a file in binary mode."
   ]
  },
  {
   "cell_type": "code",
   "execution_count": null,
   "id": "14bc07b1-4b71-41db-ba6e-63a31361de24",
   "metadata": {},
   "outputs": [],
   "source": [
    "try:\n",
    "  my_file = open(filepath, 'a+')\n",
    "  my_file.writelines( [\"\\nWe are adding more text.\", \"\\nLet's have some fun.\"])\n",
    "  my_file.close()\n",
    "except FileNotFoundError:\n",
    "  pass"
   ]
  },
  {
   "cell_type": "markdown",
   "id": "ed9f31ab-e038-4abf-b0a1-442aaf0c59a0",
   "metadata": {},
   "source": [
    "### Read a file "
   ]
  },
  {
   "cell_type": "code",
   "execution_count": null,
   "id": "e94cfcc8-ff55-4ce2-bad9-b6a783a57caa",
   "metadata": {},
   "outputs": [],
   "source": [
    "filepath.read_text()"
   ]
  },
  {
   "cell_type": "markdown",
   "id": "ee1aeb1a-b98b-4312-a53d-7628087c21c3",
   "metadata": {
    "tags": []
   },
   "source": [
    "### Use glob \n",
    "\n",
    "**glob** allows you to specify a set of filenames by using wildcards.\n",
    "\n",
    "`/path/*` will match any file in path\n",
    "`/path/**` will match any file in path and within any of its directories\n",
    "\n",
    "The following code list all 'txt' files in the path."
   ]
  },
  {
   "cell_type": "code",
   "execution_count": null,
   "id": "d6e81854-47bd-49b3-ae8b-8e2116267f94",
   "metadata": {},
   "outputs": [],
   "source": [
    "files = path.glob(\"*.txt\")\n",
    "print(\"txt files:\" , list(files))"
   ]
  },
  {
   "cell_type": "markdown",
   "id": "562edb64-bbb4-44f2-ac6c-a01b183856af",
   "metadata": {},
   "source": [
    "The following code list all 'txt' files within the path regardless of subdirectories"
   ]
  },
  {
   "cell_type": "code",
   "execution_count": null,
   "id": "38fd1cca-7361-4ec1-b213-8e30b4e0635b",
   "metadata": {},
   "outputs": [],
   "source": [
    "files = pathlib.Path(\"Downloads\").glob(\"**/*.txt\")\n",
    "print(\"txt files:\" , list(files))"
   ]
  },
  {
   "cell_type": "markdown",
   "id": "9103b461-7f19-4ed5-b970-f720f0643cc2",
   "metadata": {},
   "source": [
    "The following code list all 'txt' files one level deep within the subdirectories"
   ]
  },
  {
   "cell_type": "code",
   "execution_count": null,
   "id": "3f0190fe-aaa9-4e8a-b98f-887817f4e0ab",
   "metadata": {},
   "outputs": [],
   "source": [
    "files = pathlib.Path(\"Downloads\").glob(\"*/*.txt\")\n",
    "print(\"txt files:\" , list(files))"
   ]
  },
  {
   "cell_type": "markdown",
   "id": "20b3e091-b98a-4d6a-82e1-616ee5a491a1",
   "metadata": {},
   "source": [
    "The following code list all paths (files and folders) one level deep within the subdirectories"
   ]
  },
  {
   "cell_type": "code",
   "execution_count": null,
   "id": "9c547108-561f-4fc0-b02e-d6f2ef8a4f12",
   "metadata": {},
   "outputs": [],
   "source": [
    "files = pathlib.Path(\"Downloads\").glob(\"*/*\")\n",
    "print(\"files:\" , list(files))"
   ]
  },
  {
   "cell_type": "markdown",
   "id": "1e3850a7-9df3-406f-a51c-7439b6c10201",
   "metadata": {},
   "source": [
    "# Review Exercise \n",
    "\n",
    "Create a text file that stores the names of all files and folder in the any non-empty folder, eg `Documents` or `Pictures` folder\n",
    "\n"
   ]
  },
  {
   "cell_type": "code",
   "execution_count": null,
   "id": "20e84d27-23f5-43bb-b165-62ea33942b68",
   "metadata": {},
   "outputs": [],
   "source": [
    "#Try it. Enter your code here\n"
   ]
  }
 ],
 "metadata": {
  "kernelspec": {
   "display_name": "Python 3 (ipykernel)",
   "language": "python",
   "name": "python3"
  },
  "language_info": {
   "codemirror_mode": {
    "name": "ipython",
    "version": 3
   },
   "file_extension": ".py",
   "mimetype": "text/x-python",
   "name": "python",
   "nbconvert_exporter": "python",
   "pygments_lexer": "ipython3",
   "version": "3.9.12"
  }
 },
 "nbformat": 4,
 "nbformat_minor": 5
}
