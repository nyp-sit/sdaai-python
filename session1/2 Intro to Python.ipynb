{
 "cells": [
  {
   "cell_type": "markdown",
   "id": "02f53cc6-ce62-4fe8-a2f1-3ea2b5740960",
   "metadata": {},
   "source": [
    "<a href=\"https://colab.research.google.com/github/nyp-sit/agods/blob/main/day1/2 Intro to Python.ipynb\" target=\"_blank\"><img src=\"https://colab.research.google.com/assets/colab-badge.svg\" alt=\"Open In Colab\"/></a>"
   ]
  },
  {
   "cell_type": "markdown",
   "id": "96ea40e9-7f7f-488a-b526-81aa6e91e319",
   "metadata": {},
   "source": [
    "<img src=\"https://nyp-aicourse.s3.ap-southeast-1.amazonaws.com/agods/nyp_ago_logo.png\" width='400'/>"
   ]
  },
  {
   "cell_type": "markdown",
   "id": "4d4219b5",
   "metadata": {},
   "source": [
    "# Welcome to Programming in Python\n",
    "\n",
    "Programming is a hugely useful skill. You can program a computer to do a variety of tasks such as converting your project duration between hours and minutes, and even develop a full-fledged application customer relationship management system. Like any other skill, it takes discipline and dedication to become good at it. You will need to practise, a lot.    \n",
    "\n",
    "Here are some tips to get you started.\n",
    "\n",
    "1. Type out the code rather than copy. This is going to help you to familiarize with the code.\n",
    "2. Explore by changing the given code.\n",
    "3. Get help when you are stuck. \n",
    "\n",
    "Python is the chosen language for our programming journey. Let's take a quick look at what it is.\n",
    "\n",
    "The code covered should run on Python 3.6 or later."
   ]
  },
  {
   "cell_type": "markdown",
   "id": "f8edf909",
   "metadata": {},
   "source": [
    "## Introduction to Python\n",
    "\n",
    "Python is an interpreted, object-oriented, high-level programming language with dynamic semantics. It is a versatile programming language that can be used in many areas such as web development, data analysis and machine learning. With its wide range of libraries, packages and modules, it is easy to reuse functions to quickly develop for the desired application. Python is also known to be a 'glue' language that connects programs and components created using a different language and platform.  \n",
    "\n",
    "The Python interpreter and its standard library are available for all major platforms, and can be freely distributed.\n",
    "\n",
    "Source: https://www.python.org/doc/essays/blurb/"
   ]
  },
  {
   "cell_type": "markdown",
   "id": "37278b97",
   "metadata": {
    "tags": []
   },
   "source": [
    "## What is an interpreted, object-oriented, high-level programming language with dynamic semantics?\n",
    "\n",
    "\n",
    "The Python instructions are performed without a compilation step.  \n",
    "\n",
    "\n",
    "Compiled language such as C++ will convert instructions into machine codes using a compiler. If you are familiar with C#, the instructions are first compiled into Microsoft Intermediate Langauge (MSIL). When the program is run, the MSIL is compiled again using a Just In Time (JIT) compiler by the Common Language Runtime (CLR) into machine codes. \n",
    "\n",
    "Programming languages are used to implement functions that operate on data, and being object-oriented means that objects are used to contain and organise these functions and data. Python uses the class-based approach that defines classes of objects where the class is allowed to inherit (reuse of behaviour) all the functions and properties from another class. This is different from the prototype-based style taken by JavaScript in which the inheritance is via existing objects that serve as prototypes without needing to explicitly define the class.   \n",
    "\n",
    "As a high-level programming lanaguage with dynamic semantics, the variables in Python are dynamic objects (allocated only when program unit is run). A low-level language such as C will require the type of a variable to be statically defined (alllocated for the entire run of the program). "
   ]
  },
  {
   "cell_type": "markdown",
   "id": "78f3fd48",
   "metadata": {},
   "source": [
    "## Statements\n",
    "\n",
    "A Python program is generally made up of statements. A statement is a program instruction to be executed (most of the time). As statements are the basic building blocks of a program, we will go definitely go through some of them as we learn more about Python.\n",
    "\n",
    "Some of the common statements include \n",
    "* print statements\n",
    "* assignment statements\n",
    "* conditional statements\n",
    "* looping statements\n",
    "\n",
    "As a start, we will use print statements and assignment statements to cover the topic of **Variables**"
   ]
  },
  {
   "cell_type": "markdown",
   "id": "d38b6e8e",
   "metadata": {
    "tags": []
   },
   "source": [
    "## Variables\n",
    "\n",
    "In the context of programming, you can view variables as boxes or containers that hold values. These variables are labels to information and it is a good practice to provide an accurate description to make your code easier to understand.\n",
    "\n",
    "The operator '=' is used to assign values to variables. \n",
    "\n",
    "For example, the following statement assigns a value of 1 to the variable x.\n",
    "\n",
    "```python\n",
    "x = 1\n",
    "```\n",
    "\n",
    "The left-hand side of the operator '=' is seen as the destination while the right-hand side is the data source.\n"
   ]
  },
  {
   "cell_type": "markdown",
   "id": "510433f4",
   "metadata": {
    "tags": []
   },
   "source": [
    "### Data Type\n",
    "\n",
    "The values stored in variables can be of different types. Data type specifies these types and the operations that can be applied.  \n",
    "\n",
    "The following are the built-in types in Python\n",
    "\n",
    "```\n",
    "Text Type:      str\n",
    "Numeric Types:  int, float, complex\n",
    "Sequence Types: list, tuple, range\n",
    "Mapping Type:   dict\n",
    "Set Types:      set, frozenset\n",
    "Boolean Type:   bool\n",
    "Binary Types:   bytes, bytearray, memoryview\n",
    "None Type:      NoneType\n",
    "```\n",
    "https://www.w3schools.com/python/python_datatypes.asp\n",
    "\n",
    "Other data types such as ```fractions.Fraction``` (for rationals) and ```decimal.Decimal``` (for floating-point numbers with user-definable precision) are available from the Python Standard Library"
   ]
  },
  {
   "cell_type": "markdown",
   "id": "05b9c41d",
   "metadata": {},
   "source": [
    "##### Examples of assignment with different data types"
   ]
  },
  {
   "cell_type": "markdown",
   "id": "1c080e9c",
   "metadata": {},
   "source": [
    "```python\n",
    "x1 = \"Welcome to Python\"         #str\n",
    "x2 = 10                          #int\n",
    "x3 = 70.2                        #float\n",
    "x4 = 1j                          #complex\n",
    "x5 = [\"red\", \"green\", \"blue\"]    #list\n",
    "x6 = (\"red\", \"green\", \"blue\")    #tuple\n",
    "x7 = range(6)                    #range\n",
    "x8 = {\"language\" : \"Python\", \"version\" : 3.6}   #dict\n",
    "x9 = {\"red\", \"green\", \"blue\"}                   #set\n",
    "x10 = frozenset({\"red\", \"green\", \"blue\"})        #frozenset\n",
    "x11 = True                                       #bool\n",
    "x12 = b\"Welcome\"                                 #bytes\n",
    "x13 = bytearray(5)                               #bytearray\n",
    "x14 = memoryview(bytes(5))                       #memoryview\n",
    "x15 = None                                       #NoneType\n",
    "\n",
    "```"
   ]
  },
  {
   "cell_type": "markdown",
   "id": "13ddd882",
   "metadata": {},
   "source": [
    "## Exercise: Copy the previous assignment statements and paste it in the following cell. Run the code and observe the output.\n",
    "\n",
    "The provided ```print()``` function, as its name described, takes in any number of parameters (data) and prints to the standard output as a line of text. A **function** is a set of instructions/statements that perform a task.\n",
    "\n",
    "The ```type()``` function, also a built-in function, will help us to check the data type of the given value."
   ]
  },
  {
   "cell_type": "code",
   "execution_count": null,
   "id": "b76fa3c6",
   "metadata": {},
   "outputs": [],
   "source": [
    "#Try it. \n",
    "#Copy the previous assignment statements and paste it after this comment.\n",
    "\n",
    "\n",
    "print(\"Value of x1 is \", x1 ,\"and its type is \", type(x1))\n",
    "print(\"Value of x2 is \", x2 ,\"and its type is \", type(x2))\n",
    "print(\"Value of x3 is \", x3 ,\"and its type is \", type(x3))\n",
    "print(\"Value of x4 is \", x4 ,\"and its type is \", type(x4))\n",
    "print(\"Value of x5 is \", x5 ,\"and its type is \", type(x5))\n",
    "print(\"Value of x6 is \", x6 ,\"and its type is \", type(x6))\n",
    "print(\"Value of x7 is \", x7 ,\"and its type is \", type(x7))\n",
    "print(\"Value of x8 is \", x8 ,\"and its type is \", type(x8))\n",
    "print(\"Value of x9 is \", x9 ,\"and its type is \", type(x9))\n",
    "print(\"Value of x10 is \", x10 ,\"and its type is \", type(x10))\n",
    "print(\"Value of x11 is \", x11 ,\"and its type is \", type(x11))\n",
    "print(\"Value of x12 is \", x12 ,\"and its type is \", type(x12))\n",
    "print(\"Value of x13 is \", x13 ,\"and its type is \", type(x13))\n",
    "print(\"Value of x14 is \", x14 ,\"and its type is \", type(x14))\n",
    "print(\"Value of x15 is \", x15 ,\"and its type is \", type(x15))\n"
   ]
  },
  {
   "cell_type": "markdown",
   "id": "83bf7aed",
   "metadata": {},
   "source": [
    "## Comments\n",
    "\n",
    "As you may have observed, notes can be written in codes to describe the purpose of certain statements. These comments are indicated by (#) and any words written after (#) are ignored by the Python interpreter.\n",
    "\n",
    "Python does not have a built-in mechanism for multi-line comments."
   ]
  },
  {
   "cell_type": "code",
   "execution_count": null,
   "id": "60a10267",
   "metadata": {},
   "outputs": [],
   "source": [
    "# This line is ignored\n",
    "print(\"This gets executed\")    #print(\"Anything after the hash is ignored\")"
   ]
  },
  {
   "cell_type": "markdown",
   "id": "9863d2d2",
   "metadata": {
    "tags": []
   },
   "source": [
    "Comments are important when collaborating in groups. They help others to understand what the codes is intended to do, or the specific reason to do something in a certain way. It is also easier to pick up or return to a project that is well documented."
   ]
  },
  {
   "cell_type": "markdown",
   "id": "95c019a0",
   "metadata": {},
   "source": [
    "### Reassign a variable with another value\n",
    "~~~\n",
    "Value of x1 is  Welcome to Python and its type is  <class 'str'>\n",
    "Value of x2 is  10 and its type is  <class 'int'>\n",
    "~~~\n",
    "Notice that the type of variables are listed as ```<class '...'>```. The variables are actually referencing an object of the defined type. We can reassign a variable to another object of a different type.\n"
   ]
  },
  {
   "cell_type": "code",
   "execution_count": null,
   "id": "413aeec9",
   "metadata": {},
   "outputs": [],
   "source": [
    "x16 = \"I am originally a string\"\n",
    "print(\"Value of x16 is \", x16 ,\"and its type is \", type(x16))\n",
    "\n",
    "x16 = [\"red\", \"green\", \"blue\"] \n",
    "print(\"Value of x16 is \", x16 ,\"and its type is \", type(x16))"
   ]
  },
  {
   "cell_type": "markdown",
   "id": "2338dcfe",
   "metadata": {},
   "source": [
    "The first line of output displays the original value and type of the variable ```x16```. The second line of output shows the newly assigned value and type of a list. As you can see, Python tracks the current value of the variable. "
   ]
  },
  {
   "cell_type": "markdown",
   "id": "b23a678b",
   "metadata": {},
   "source": [
    "### Working with string variables\n",
    "\n",
    "A string is a sequence of characters and is one of the common data types that needs to be handled. It can be defined using single quote ```'``` or double quote ```\"``` around the string value.\n",
    "\n",
    "```python\n",
    "'this is a string'\n",
    "\"this is also a string\"\n",
    "```\n",
    "\n",
    "The flexility allows one to use quotes and apostrophes within the strings.\n",
    "\n",
    "```python\n",
    "'He said, \"this is amazing!\"'\n",
    "\"It's a wonderful day to sing the song 'Rainbow'.\"\n",
    "```"
   ]
  },
  {
   "cell_type": "markdown",
   "id": "5dc461d3",
   "metadata": {},
   "source": [
    "#### Changing the case of a string\n",
    "One of the work that you may often find yourself doing is changing the case of strings. You can use the following **methods** to change the case of a string. \n",
    "\n",
    "_A **function** is a set of instructions/statements that perform a task while a **method** is a set of instructions/statements that perform a task **associated with an object**._\n",
    "\n",
    "* title()\n",
    "* lower()\n",
    "* uppper()"
   ]
  },
  {
   "cell_type": "code",
   "execution_count": null,
   "id": "097d0f98",
   "metadata": {},
   "outputs": [],
   "source": [
    "name = \"john smith\"\n",
    "print(name.title())"
   ]
  },
  {
   "cell_type": "markdown",
   "id": "77f993d0",
   "metadata": {},
   "source": [
    "The method ```title()``` appears after the variable ```name``` that it acts on. The association between the variable and its method is described by the dot ```.```. ```title()``` changes every word to title case where each word begins with a capital letter."
   ]
  },
  {
   "cell_type": "code",
   "execution_count": null,
   "id": "2a46c802",
   "metadata": {},
   "outputs": [],
   "source": [
    "name = \"John Smith\"\n",
    "print(name.lower())     #change a string to all lowercase\n",
    "print(name.upper())     #change a string to all uppercase"
   ]
  },
  {
   "cell_type": "markdown",
   "id": "882ee69e",
   "metadata": {},
   "source": [
    "The methods to change the case of strings allow strings to be converted and standardized before comparison or further processing, without worrying about different capitalization in the source."
   ]
  },
  {
   "cell_type": "markdown",
   "id": "b9d31d2b",
   "metadata": {},
   "source": [
    "#### Using variables within a string\n",
    "Variables can be used inside a string. For example, a variable ```full_name``` can be represented by two variables ```last_name``` and ```first_name```. Using f-strings (format-string), Python will replace any variable names enclosed by braces with the variables' value. "
   ]
  },
  {
   "cell_type": "code",
   "execution_count": null,
   "id": "4be18296",
   "metadata": {},
   "outputs": [],
   "source": [
    "last_name = \"Smith\"\n",
    "first_name = \"John\"\n",
    "full_name = f\"{first_name} {last_name}\"\n",
    "\n",
    "print(full_name)\n",
    "\n",
    "last_name = \"Denver\"\n",
    "\n",
    "print(full_name)"
   ]
  },
  {
   "cell_type": "markdown",
   "id": "63975d9d",
   "metadata": {},
   "source": [
    "The second print statement does not output \"John Denver\" because the second assignment to ```last_name``` only updates ```last_name``` and does not modify the object referenced by ```full_name```.\n",
    "\n",
    "The f-string can be extended to provide customized messages."
   ]
  },
  {
   "cell_type": "code",
   "execution_count": null,
   "id": "fe3f1247",
   "metadata": {},
   "outputs": [],
   "source": [
    "last_name = \"Smith\"\n",
    "first_name = \"John\"\n",
    "welcome_message = f\"Welcome! {first_name} {last_name}\"\n",
    "print(welcome_message)"
   ]
  },
  {
   "cell_type": "markdown",
   "id": "d2c13f35",
   "metadata": {},
   "source": [
    "In Python 3.5 or earlier, format() method is to be used instead of the f-string syntax\n",
    "\n",
    "```python\n",
    "full_name = \"{} {}\".format(first_name, last_name)\n",
    "```"
   ]
  },
  {
   "cell_type": "markdown",
   "id": "e6d649af",
   "metadata": {},
   "source": [
    "## Exercise: Customise a string message \n",
    "\n",
    "Customise the message using f-string to display your own first name and last name instead of 'XXXX'"
   ]
  },
  {
   "cell_type": "code",
   "execution_count": null,
   "id": "2937e6f6",
   "metadata": {},
   "outputs": [],
   "source": [
    "message1 = \"Dear XXXX, Welcome to Learning Python. Regards, John Smith\"\n",
    "\n",
    "print(message1)"
   ]
  },
  {
   "cell_type": "markdown",
   "id": "6c17e0aa",
   "metadata": {},
   "source": [
    "#### Adding non-printing charaters to a string\n",
    "Spaces, tabs and end-of-line symbols are essential for organizing output for readability.\n",
    "\n",
    "For spaces, pressing the spacebar will insert a single space into a string. However, how can tabs or newline be added? "
   ]
  },
  {
   "cell_type": "markdown",
   "id": "c93541ec",
   "metadata": {},
   "source": [
    "##### Add a tab"
   ]
  },
  {
   "cell_type": "code",
   "execution_count": null,
   "id": "79929336",
   "metadata": {},
   "outputs": [],
   "source": [
    "print(\"John Smith\")\n",
    "print(\"\\tJohn Smith\")"
   ]
  },
  {
   "cell_type": "markdown",
   "id": "0d2ec6cd",
   "metadata": {},
   "source": [
    "##### Add a new line"
   ]
  },
  {
   "cell_type": "code",
   "execution_count": null,
   "id": "af10f397",
   "metadata": {},
   "outputs": [],
   "source": [
    "print(\"Name: John Smith\\nAge: 18\")"
   ]
  },
  {
   "cell_type": "markdown",
   "id": "d77a629e",
   "metadata": {},
   "source": [
    "## Exercise: Add whitespaces to a string message\n",
    "\n",
    "Given the message \"Dear XXXX, Welcome to Learning Python. Regards, John Smith\", modify it using newline (\\n) and tab (\\t) so that it displays as shown below. \n",
    "\n",
    "_Expected output:_\n",
    "\n",
    "Dear XXXX,\n",
    "\n",
    "&nbsp;&nbsp;&nbsp;&nbsp;Welcome to Learning Python.\n",
    "\n",
    "Regards,\n",
    "<br>John Smith\n"
   ]
  },
  {
   "cell_type": "code",
   "execution_count": null,
   "id": "a217b982",
   "metadata": {},
   "outputs": [],
   "source": [
    "message2 = \"Dear XXXX, Welcome to Learning Python. Regards, John Smith\"\n",
    "\n",
    "print(message2)"
   ]
  },
  {
   "cell_type": "markdown",
   "id": "5fec0984",
   "metadata": {},
   "source": [
    "#### Removing whitespace\n",
    "Extra whitespaces may not be visually different but they results in very different strings. For example, the following two string values are not the same due to the additional space in the second string.\n",
    "```python\n",
    "'string1'\n",
    "'string1 '\n",
    "```\n",
    "\n",
    "In order to remove the extra whitespace at the right end of a string, the ```rstrip()``` method can be used.\n",
    "\n",
    "```string_variables.rstrip()```\n",
    "\n"
   ]
  },
  {
   "cell_type": "code",
   "execution_count": null,
   "id": "6e262394",
   "metadata": {},
   "outputs": [],
   "source": [
    "student_name = 'Bryan '\n",
    "print(student_name)\n",
    "\n",
    "student_name.rstrip()\n",
    "print(student_name)    #still have an extra space after the name\n",
    "\n",
    "student_name = student_name.rstrip()\n",
    "print(student_name)"
   ]
  },
  {
   "cell_type": "markdown",
   "id": "e893f87e",
   "metadata": {},
   "source": [
    "The second print statement showed that ```student_name``` was not changed despite calling the method ```rstrip()```. ```r.strip()``` acts on the associated object ```student_name``` but this is temporarily. To make the change permanent, ```student_name.rstrip()``` should be assigned backed to the variable. \n",
    "\n",
    "To remove extra whitespaces on the left of a string, use ```lstrip()```.\n",
    "To remove extra whitespaces from both left and right end of a string, use ```strip()```.\n",
    "\n",
    "It is very common to use the stripping functions to clean up any user inputs before saving or processing the data."
   ]
  },
  {
   "cell_type": "markdown",
   "id": "7c9a2481",
   "metadata": {},
   "source": [
    "### Rules for naming variable\n",
    "\n",
    "* A variable will be declared upon assignment if it has not been declared before.\n",
    "* A variable’s name must start with ‘a’ to ‘z’, ‘A’ to ‘Z’ or ‘_’, followed by any number of\n",
    "alpha-numeric characters or ’_’\n",
    "* Avoid using special keywords such as print, if, switch and etc, as a varaible name.\n",
    "* Note that lowercase letter l and the uppercase letter O may be confused with the numbers 1 and 0.\n",
    "\n",
    "\n",
    "Examples of valid variable names\n",
    "~~~python\n",
    "var5\n",
    "family_name\n",
    "_valid_variable\n",
    "~~~\n",
    "\n",
    "Examples of invalid variable names\n",
    "~~~python\n",
    "5var\n",
    "family name\n",
    "family.name\n",
    "~~~"
   ]
  },
  {
   "cell_type": "markdown",
   "id": "ef47e7ee",
   "metadata": {},
   "source": [
    "##### Try using print as a variable name. \n",
    "\n",
    "There will not be an error but you will override the behaviour of print."
   ]
  },
  {
   "cell_type": "code",
   "execution_count": null,
   "id": "b87ea404",
   "metadata": {},
   "outputs": [],
   "source": [
    "print = 1\n",
    "print(\"Welcome\")"
   ]
  },
  {
   "cell_type": "markdown",
   "id": "7ef52395",
   "metadata": {},
   "source": [
    "##### Deleting a variable\n",
    "If you have executed the previous cell and created a local variable named 'print', we will need to delete it because we still want to use the print() function."
   ]
  },
  {
   "cell_type": "code",
   "execution_count": null,
   "id": "8d566bf0",
   "metadata": {},
   "outputs": [],
   "source": [
    "if 'print' in locals():\n",
    "    del print"
   ]
  },
  {
   "cell_type": "markdown",
   "id": "ca72fe62",
   "metadata": {},
   "source": [
    "### Multiple assignment\n",
    "\n",
    "Multiple values can be assigned to multiple variables by separating the values and variables using commas ```,```."
   ]
  },
  {
   "cell_type": "code",
   "execution_count": null,
   "id": "94d4de14",
   "metadata": {},
   "outputs": [],
   "source": [
    "first_name, last_name = 'John', 'Smith' \n",
    "\n",
    "print(\"first_name: \", first_name)\n",
    "print(\"last_name: \", last_name)"
   ]
  },
  {
   "cell_type": "markdown",
   "id": "a1ae79cf",
   "metadata": {},
   "source": [
    "The same value can also be assigned to multiple variables."
   ]
  },
  {
   "cell_type": "code",
   "execution_count": null,
   "id": "0da4751d",
   "metadata": {},
   "outputs": [],
   "source": [
    "first_name = last_name = \"Tin\"\n",
    "\n",
    "print(\"first_name: \", first_name)\n",
    "print(\"last_name: \", last_name)"
   ]
  },
  {
   "cell_type": "markdown",
   "id": "5ab5a6cb",
   "metadata": {},
   "source": [
    "## More about print()\n",
    "\n",
    "We have used the print() function frequently to send values to be shown in the text output area. \n",
    "\n",
    "These text output are simply a series of characters with a '\\n' newline character marking the end of each line. Each print() function call will append a line at the end of the text output. If no argmument is passed to the function, the print() function will put in an invisible newline character.\n",
    "\n"
   ]
  },
  {
   "cell_type": "code",
   "execution_count": null,
   "id": "8e3c67db",
   "metadata": {},
   "outputs": [],
   "source": [
    "print(\"line 1\")\n",
    "print(\"line 2\")\n",
    "\n",
    "print()    # No argument, insert just '\\n'\n",
    "\n",
    "print(\"line 3\")"
   ]
  },
  {
   "cell_type": "markdown",
   "id": "f51829fc",
   "metadata": {},
   "source": [
    "### print() parameter ```sep=```\n",
    "The print() separates the arguments passed to it by spaces. An optional ```sep=``` parameter allows another separator text to be used. "
   ]
  },
  {
   "cell_type": "code",
   "execution_count": null,
   "id": "598d24b6",
   "metadata": {},
   "outputs": [],
   "source": [
    "print(\"item1\", \"item2\", \"item3\", \"item4\")\n",
    "print(\"item1\", \"item2\", \"item3\", \"item4\", sep=\"XXX\")\n",
    "print(\"item1\", \"item2\", \"item3\", \"item4\", sep=\"\") #empty string"
   ]
  },
  {
   "cell_type": "markdown",
   "id": "184e1034",
   "metadata": {},
   "source": [
    "### print() parameter ```end=```\n",
    "The default output from print() ends with a single '\\n'. An optional ```end=``` parameter allows another series of characters to be at the end of print() output.\n",
    "\n",
    "This is a useful option when the printed string already have a '\\n' at the end to avoid unintended line spacing."
   ]
  },
  {
   "cell_type": "code",
   "execution_count": null,
   "id": "378e12b8",
   "metadata": {},
   "outputs": [],
   "source": [
    "print(\"item1\", \"item2\")\n",
    "print(\"item3\", \"item4\", end=\"XXX\") #no '\\n' at the end of the line, next print() will continue after 'XXX'\n",
    "print(\"item4\", \"item5\")\n",
    "print(\"Line with newline.\\n\")\n",
    "print(\"Line with newline.\\n\", end='')\n",
    "print(\"End\")"
   ]
  },
  {
   "cell_type": "markdown",
   "id": "cbd58f95",
   "metadata": {},
   "source": [
    "### You can print to a file using ```file=```\n",
    "\n",
    "So far, we have been printing to the output area/standard out. It is possible to print to a file using the following code. The ```file=``` directs the text lines to the file instead of the output area/standard out. Do note that the use of 'w' for writing will delete any existing content in the file."
   ]
  },
  {
   "cell_type": "code",
   "execution_count": null,
   "id": "56e9470b",
   "metadata": {},
   "outputs": [],
   "source": [
    "filename = 'helloWorld.py'\n",
    "with open(filename, 'w') as f:\n",
    "    print(\"print('Hello world')\", file=f)"
   ]
  },
  {
   "cell_type": "markdown",
   "id": "220a191e",
   "metadata": {},
   "source": [
    "## Notes on Keywords and Built-in Functions\n",
    "\n",
    "Avoid the following keywords as you will see an error if you use any of them as variable names.\n",
    "\n",
    "<style type=\"text/css\">\n",
    ".tg  {border-collapse:collapse;border-spacing:0;}\n",
    ".tg td{border-color:black;border-style:solid;border-width:1px;font-family:Arial, sans-serif;font-size:14px;\n",
    "  overflow:hidden;padding:10px 5px;word-break:normal;}\n",
    ".tg th{border-color:black;border-style:solid;border-width:1px;font-family:Arial, sans-serif;font-size:14px;\n",
    "  font-weight:normal;overflow:hidden;padding:10px 5px;word-break:normal;}\n",
    ".tg .tg-0pky{border-color:inherit;text-align:left;vertical-align:top}\n",
    "</style>\n",
    "<table class=\"tg\">\n",
    "<tbody>\n",
    "  <tr>\n",
    "    <td class=\"tg-0pky\">False</td>\n",
    "    <td class=\"tg-0pky\">await</td>\n",
    "    <td class=\"tg-0pky\">else </td>\n",
    "    <td class=\"tg-0pky\">import</td>\n",
    "    <td class=\"tg-0pky\">pass</td>\n",
    "  </tr>\n",
    "  <tr>\n",
    "    <td class=\"tg-0pky\">None</td>\n",
    "    <td class=\"tg-0pky\">break</td>\n",
    "    <td class=\"tg-0pky\">except</td>\n",
    "    <td class=\"tg-0pky\">in</td>\n",
    "    <td class=\"tg-0pky\">raise</td>\n",
    "  </tr>\n",
    "  <tr>\n",
    "    <td class=\"tg-0pky\">True</td>\n",
    "    <td class=\"tg-0pky\">class</td>\n",
    "    <td class=\"tg-0pky\">finally</td>\n",
    "    <td class=\"tg-0pky\">is</td>\n",
    "    <td class=\"tg-0pky\">return</td>\n",
    "  </tr>\n",
    "  <tr>\n",
    "    <td class=\"tg-0pky\">and</td>\n",
    "    <td class=\"tg-0pky\">continue</td>\n",
    "    <td class=\"tg-0pky\">for</td>\n",
    "    <td class=\"tg-0pky\">lambda</td>\n",
    "    <td class=\"tg-0pky\">try</td>\n",
    "  </tr>\n",
    "  <tr>\n",
    "    <td class=\"tg-0pky\">as</td>\n",
    "    <td class=\"tg-0pky\">def</td>\n",
    "    <td class=\"tg-0pky\">from</td>\n",
    "    <td class=\"tg-0pky\">nonlocal</td>\n",
    "    <td class=\"tg-0pky\">while</td>\n",
    "  </tr>\n",
    "  <tr>\n",
    "    <td class=\"tg-0pky\">assert</td>\n",
    "    <td class=\"tg-0pky\">del</td>\n",
    "    <td class=\"tg-0pky\">global</td>\n",
    "    <td class=\"tg-0pky\">not</td>\n",
    "    <td class=\"tg-0pky\">with</td>\n",
    "  </tr>\n",
    "  <tr>\n",
    "    <td class=\"tg-0pky\">async</td>\n",
    "    <td class=\"tg-0pky\">elif</td>\n",
    "    <td class=\"tg-0pky\">if</td>\n",
    "    <td class=\"tg-0pky\">or</td>\n",
    "    <td class=\"tg-0pky\">yield</td>\n",
    "  </tr>\n",
    "</tbody>\n",
    "</table>\n",
    "\n",
    "\n",
    "\n",
    "\n",
    "\n",
    "Avoid the following built-in function names when you are creating variables as you will override the behaviour without getting an error.\n",
    "```\n",
    "abs()           delattr()   hash()          memoryview()    set()\n",
    "all()           dict()      help()          min()           setattr()\n",
    "any()           dir()       hex()           next()          slice()\n",
    "ascii()         divmod()    id()            object()        sorted()\n",
    "bin()           enumerate() input()         oct()           staticmethod()\n",
    "bool()          eval()      int()           open()          str()\n",
    "breakpoint()    exec()      isinstance()    ord()           sum()\n",
    "bytearray()     filter()    issubclass()    pow()           super()\n",
    "bytes()         float()     iter()          print()         tuple()\n",
    "callable()      format()    len()           property()      type()\n",
    "chr()           frozenset() list()          range()         vars()\n",
    "classmethod()   getattr()   locals()        repr()          zip()\n",
    "compile()       globals()   map()           reversed()      __import__()\n",
    "complex()       hasattr()   max()           round()\n",
    "\n",
    "```"
   ]
  }
 ],
 "metadata": {
  "kernelspec": {
   "display_name": "Python 3 (ipykernel)",
   "language": "python",
   "name": "python3"
  },
  "language_info": {
   "codemirror_mode": {
    "name": "ipython",
    "version": 3
   },
   "file_extension": ".py",
   "mimetype": "text/x-python",
   "name": "python",
   "nbconvert_exporter": "python",
   "pygments_lexer": "ipython3",
   "version": "3.9.12"
  }
 },
 "nbformat": 4,
 "nbformat_minor": 5
}
