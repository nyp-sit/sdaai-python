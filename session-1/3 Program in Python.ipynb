{
 "cells": [
  {
   "cell_type": "markdown",
   "id": "6834102f-b576-4cb7-920e-ce2d043b8747",
   "metadata": {},
   "source": [
    "<a href=\"https://colab.research.google.com/github/nyp-sit/agods/blob/main/day1/3 Program in Python.ipynb\" target=\"_blank\"><img src=\"https://colab.research.google.com/assets/colab-badge.svg\" alt=\"Open In Colab\"/></a>"
   ]
  },
  {
   "cell_type": "markdown",
   "id": "05908d0a-77d6-45f3-857d-6be2385796b4",
   "metadata": {},
   "source": [
    "<img src=\"https://nyp-aicourse.s3.ap-southeast-1.amazonaws.com/agods/nyp_ago_logo.png\" width='400'/>"
   ]
  },
  {
   "cell_type": "markdown",
   "id": "bc4e9a83",
   "metadata": {},
   "source": [
    "# Programming in Python\n",
    "\n",
    "We have briefly touched on variables and string in the previous exercise. You should have gained some familiarity with creating variables and running python instructions within the JupyterLab environment. We will continue by looking at variables of numeric types."
   ]
  },
  {
   "cell_type": "markdown",
   "id": "7d1716cc",
   "metadata": {},
   "source": [
    "## Numbers\n",
    "\n",
    "In any data analysis or machine learning, data representation using numbers is expected. Python treats numbers in differents ways based on their type and how they are used.   \n",
    "\n"
   ]
  },
  {
   "cell_type": "markdown",
   "id": "2b252ede",
   "metadata": {
    "tags": []
   },
   "source": [
    "## Integer\n",
    "\n",
    "Let us look at some arithmetic operations. \n",
    "\n",
    "| Symbol | Task Performed |\n",
    "|----|---|\n",
    "| +  | Addition |\n",
    "| -  | Subtraction |\n",
    "| /  | division |\n",
    "| %  | mod |\n",
    "| *  | multiplication |\n",
    "| //  | floor division |\n",
    "| **  | to the power of |\n",
    "\n"
   ]
  },
  {
   "cell_type": "code",
   "execution_count": null,
   "id": "3b871415",
   "metadata": {},
   "outputs": [],
   "source": [
    "1+4"
   ]
  },
  {
   "cell_type": "code",
   "execution_count": null,
   "id": "df3de9aa",
   "metadata": {},
   "outputs": [],
   "source": [
    "3-1"
   ]
  },
  {
   "cell_type": "code",
   "execution_count": null,
   "id": "30301c08",
   "metadata": {},
   "outputs": [],
   "source": [
    "2*5"
   ]
  },
  {
   "cell_type": "code",
   "execution_count": null,
   "id": "b0da8515",
   "metadata": {},
   "outputs": [],
   "source": [
    "1/2"
   ]
  },
  {
   "cell_type": "markdown",
   "id": "7b97d713",
   "metadata": {},
   "source": [
    "The % operator returns the remainder of the division"
   ]
  },
  {
   "cell_type": "code",
   "execution_count": null,
   "id": "4bb7a90b",
   "metadata": {},
   "outputs": [],
   "source": [
    "18%10"
   ]
  },
  {
   "cell_type": "markdown",
   "id": "366652da",
   "metadata": {},
   "source": [
    "Floor division (//) will discard the fractional part"
   ]
  },
  {
   "cell_type": "code",
   "execution_count": null,
   "id": "3b246eac",
   "metadata": {},
   "outputs": [],
   "source": [
    "3//2"
   ]
  },
  {
   "cell_type": "code",
   "execution_count": null,
   "id": "9280e7e0",
   "metadata": {},
   "outputs": [],
   "source": [
    "1//2"
   ]
  },
  {
   "cell_type": "markdown",
   "id": "a2acb59e",
   "metadata": {},
   "source": [
    "```**``` is used to represent exponents"
   ]
  },
  {
   "cell_type": "code",
   "execution_count": null,
   "id": "f5aa74e4",
   "metadata": {},
   "outputs": [],
   "source": [
    "2**3"
   ]
  },
  {
   "cell_type": "code",
   "execution_count": null,
   "id": "01b6de7c",
   "metadata": {},
   "outputs": [],
   "source": [
    "2**0"
   ]
  },
  {
   "cell_type": "code",
   "execution_count": null,
   "id": "43f95e4b",
   "metadata": {},
   "outputs": [],
   "source": [
    "10**5"
   ]
  },
  {
   "cell_type": "markdown",
   "id": "e38230ee",
   "metadata": {},
   "source": [
    "The order of operations will affect the result of an expression. Python will evalue the exponent first, followed by multiplication, division and mod, before doing addition and subtraction.\n",
    "\n",
    "Parenthesis can be used to modify the order of operations."
   ]
  },
  {
   "cell_type": "code",
   "execution_count": null,
   "id": "54edfc51",
   "metadata": {},
   "outputs": [],
   "source": [
    "1+2*3"
   ]
  },
  {
   "cell_type": "code",
   "execution_count": null,
   "id": "5e942ad9",
   "metadata": {},
   "outputs": [],
   "source": [
    "(1+2)*3"
   ]
  },
  {
   "cell_type": "markdown",
   "id": "4137c17e",
   "metadata": {},
   "source": [
    "## Float\n",
    "\n",
    "Float type is used for representing floating-point numbers and are generally numbers specified with a decimal point."
   ]
  },
  {
   "cell_type": "code",
   "execution_count": null,
   "id": "782e14ca",
   "metadata": {},
   "outputs": [],
   "source": [
    "0.1+0.25"
   ]
  },
  {
   "cell_type": "code",
   "execution_count": null,
   "id": "0f49a46b",
   "metadata": {},
   "outputs": [],
   "source": [
    "0.01*0.01"
   ]
  },
  {
   "cell_type": "code",
   "execution_count": null,
   "id": "812d45cc",
   "metadata": {},
   "outputs": [],
   "source": [
    "1.2-0.7"
   ]
  },
  {
   "cell_type": "markdown",
   "id": "5da987cd",
   "metadata": {},
   "source": [
    "Any operation mixing float with integer will results in a float"
   ]
  },
  {
   "cell_type": "code",
   "execution_count": null,
   "id": "705e6280",
   "metadata": {},
   "outputs": [],
   "source": [
    "1.5+1"
   ]
  },
  {
   "cell_type": "code",
   "execution_count": null,
   "id": "2a2aba21",
   "metadata": {},
   "outputs": [],
   "source": [
    "2.3*1"
   ]
  },
  {
   "cell_type": "code",
   "execution_count": null,
   "id": "34b2e9e4",
   "metadata": {},
   "outputs": [],
   "source": [
    "2.0**3"
   ]
  },
  {
   "cell_type": "markdown",
   "id": "f3415d53",
   "metadata": {},
   "source": [
    "The division of any two numbers, even if both are integers, will always result in a float"
   ]
  },
  {
   "cell_type": "code",
   "execution_count": null,
   "id": "5c2d6f4e",
   "metadata": {},
   "outputs": [],
   "source": [
    "6/3"
   ]
  },
  {
   "cell_type": "markdown",
   "id": "d0395f24",
   "metadata": {},
   "source": [
    "Underscores can be used to write larger numbers for better readability. However, do note that only the digits are printed."
   ]
  },
  {
   "cell_type": "code",
   "execution_count": null,
   "id": "b51ac514",
   "metadata": {},
   "outputs": [],
   "source": [
    "a_large_number = 35_000_000\n",
    "print (a_large_number)"
   ]
  },
  {
   "cell_type": "markdown",
   "id": "7d62a1e6",
   "metadata": {},
   "source": [
    "### Floating point representation is an approximation "
   ]
  },
  {
   "cell_type": "markdown",
   "id": "ab6d7a3f",
   "metadata": {},
   "source": [
    "As the internal presentation of a floating point number is an approximation (nearest representable binary fraction) of the actual value, a very small difference may exist between the repesented value and actual value. However, the difference is very small and usually do not cause signficant problems. "
   ]
  },
  {
   "cell_type": "code",
   "execution_count": null,
   "id": "326afe8c",
   "metadata": {
    "tags": []
   },
   "outputs": [],
   "source": [
    "1.5-1.4    #An arbitrary number of decimal places may appear"
   ]
  },
  {
   "cell_type": "markdown",
   "id": "84d48186",
   "metadata": {},
   "source": [
    "To handle the differences, you can use **round( )** function to round the input value to a specific number of decimal places or to the nearest integer. "
   ]
  },
  {
   "cell_type": "code",
   "execution_count": null,
   "id": "ab883c3c",
   "metadata": {
    "collapsed": false,
    "jupyter": {
     "outputs_hidden": false
    }
   },
   "outputs": [],
   "source": [
    "print (round(5.6231))\n",
    "print (round(4.55892, 2))\n",
    "print (round(1.5-1.4, 2))"
   ]
  },
  {
   "cell_type": "markdown",
   "id": "928bf5df",
   "metadata": {},
   "source": [
    "## Constants\n",
    "\n",
    "There is no built-in constant types in Python. To create a variable whose value will not change throughout the life of a program, developers often used all capital letters to indicate a variable is constant and should not be modified."
   ]
  },
  {
   "cell_type": "code",
   "execution_count": null,
   "id": "867a10df",
   "metadata": {},
   "outputs": [],
   "source": [
    "MAX_CAPACITY = 16    #uses name of variable to indicate constant"
   ]
  },
  {
   "cell_type": "markdown",
   "id": "1526acbe",
   "metadata": {},
   "source": [
    "## Conversion from one system to another\n",
    "\n",
    "There are different systems for expression numbers using digits and symbols in a consistent manner. The four most common number system types are\n",
    "\n",
    "* Decimal number system (Base-10)\n",
    "* Binary number system (Base-2)\n",
    "* Octal number system (Base-8)\n",
    "* Hexadecimal number system (Base-16)\n",
    "\n",
    "Conversion from hexadecimal to decimal is done by adding prefix **0x** to the hexadecimal value or vice versa by using built in **hex( )**, Octal to decimal by adding prefix **0o** to the octal value or vice versa by using built in function **oct( )**."
   ]
  },
  {
   "cell_type": "code",
   "execution_count": null,
   "id": "309c3e2b",
   "metadata": {
    "collapsed": false,
    "jupyter": {
     "outputs_hidden": false
    }
   },
   "outputs": [],
   "source": [
    "hex(170)"
   ]
  },
  {
   "cell_type": "code",
   "execution_count": null,
   "id": "ec976218",
   "metadata": {
    "collapsed": false,
    "jupyter": {
     "outputs_hidden": false
    }
   },
   "outputs": [],
   "source": [
    "0xAA"
   ]
  },
  {
   "cell_type": "code",
   "execution_count": null,
   "id": "2e93d990",
   "metadata": {
    "collapsed": false,
    "jupyter": {
     "outputs_hidden": false
    }
   },
   "outputs": [],
   "source": [
    "oct(8)"
   ]
  },
  {
   "cell_type": "code",
   "execution_count": null,
   "id": "49702b91",
   "metadata": {
    "collapsed": false,
    "jupyter": {
     "outputs_hidden": false
    }
   },
   "outputs": [],
   "source": [
    "0o10"
   ]
  },
  {
   "cell_type": "markdown",
   "id": "02f78310",
   "metadata": {},
   "source": [
    "**int( )** accepts two values when used for conversion, one is the value in a different number system and the other is its base. Note that input number in the different number system should be of string type."
   ]
  },
  {
   "cell_type": "code",
   "execution_count": null,
   "id": "a1ba0a4b",
   "metadata": {
    "collapsed": false,
    "jupyter": {
     "outputs_hidden": false
    }
   },
   "outputs": [],
   "source": [
    "print (int('010',8))\n",
    "print (int('0xaa',16))\n",
    "print (int('1010',2))"
   ]
  },
  {
   "cell_type": "markdown",
   "id": "017d078c",
   "metadata": {},
   "source": [
    "**int( )** can also be used to get only the integer value of a float number or can be used to convert a number which is of type string to integer format. Similarly, the function **str( )** can be used to convert the integer back to string format"
   ]
  },
  {
   "cell_type": "code",
   "execution_count": null,
   "id": "03489cdb",
   "metadata": {
    "collapsed": false,
    "jupyter": {
     "outputs_hidden": false
    }
   },
   "outputs": [],
   "source": [
    "print (int(7.7))\n",
    "print (int('7'))"
   ]
  },
  {
   "cell_type": "markdown",
   "id": "112b3e48",
   "metadata": {},
   "source": [
    "Also note that function **bin( )** is used for binary and **float( )** for decimal/float values. \n",
    "\n",
    "Strings are sequences of characters and characters are represented as numbers in the computer using character encoding.\n",
    "\n",
    "ASCII is a character encoding on the computer and code points are used to represent text. Modern computer systems will likely by using Unicode but the first 128 of the code points in Unicode is the same as the 128 code points of ASCII. For example, the table below display the representations for some characters.\n",
    "\n",
    "|Oct|Dec|Hex| Letter|\n",
    "|---|---|---|---|\n",
    "|053|43|2B|+|\n",
    "|101|65|41|A|\n",
    "|102|66|42|B|\n",
    "|103|65|43|C|\n",
    "|141|97|61|a|\n",
    "|142|98|62|b|\n",
    "|143|99|63|c|\n",
    "\n",
    "**chr( )** is used for converting ASCII to its alphabet equivalent, **ord( )** is used for the other way round."
   ]
  },
  {
   "cell_type": "code",
   "execution_count": null,
   "id": "c9c1d34d",
   "metadata": {
    "collapsed": false,
    "jupyter": {
     "outputs_hidden": false
    }
   },
   "outputs": [],
   "source": [
    "chr(43)"
   ]
  },
  {
   "cell_type": "code",
   "execution_count": null,
   "id": "1b89aef0",
   "metadata": {},
   "outputs": [],
   "source": [
    "chr(98)"
   ]
  },
  {
   "cell_type": "code",
   "execution_count": null,
   "id": "226892d3",
   "metadata": {
    "collapsed": false,
    "jupyter": {
     "outputs_hidden": false
    }
   },
   "outputs": [],
   "source": [
    "ord('b')"
   ]
  },
  {
   "cell_type": "markdown",
   "id": "5856f616",
   "metadata": {},
   "source": [
    "## Bytes and Encoding Strings\n",
    "\n",
    "You may need to work with bytes when dealing with non-text file such as images. These files may contain bytes that are not representable as string. \n",
    "\n",
    "The ```bytes()``` function returns a byte object.\n",
    "\n",
    "It can convert objects into bytes objects or create empty bytes objects of the specified size.\n",
    "\n",
    "The returned object cannot be modified. To get an object that can be modified, ```bytearray()``` can be used.\n",
    "\n",
    "Bytes objects are machine readable and can be directly stored on the disk. String will need to be encoded before it can be stored on disk.\n"
   ]
  },
  {
   "cell_type": "code",
   "execution_count": null,
   "id": "37030f78",
   "metadata": {},
   "outputs": [],
   "source": [
    "bytes(1)    #empty byte objects of the specified size"
   ]
  },
  {
   "cell_type": "code",
   "execution_count": null,
   "id": "2b7db866",
   "metadata": {},
   "outputs": [],
   "source": [
    "bytes(5) "
   ]
  },
  {
   "cell_type": "code",
   "execution_count": null,
   "id": "98261dc0",
   "metadata": {},
   "outputs": [],
   "source": [
    "b'abc'"
   ]
  },
  {
   "cell_type": "markdown",
   "id": "f697445e",
   "metadata": {},
   "source": [
    "#### An early look at List\n",
    "\n",
    "List is an important data structure in Python and is written within square brackets ```[ ]```. Each element in a list has a distinct position. The position is described by its index. **The first element of a list has an index of 0**, the second element will have the index of 1, and so on."
   ]
  },
  {
   "cell_type": "code",
   "execution_count": null,
   "id": "4758c166",
   "metadata": {},
   "outputs": [],
   "source": [
    "bytes([97, 98, 99])"
   ]
  },
  {
   "cell_type": "code",
   "execution_count": null,
   "id": "7cec8fd0",
   "metadata": {
    "tags": []
   },
   "outputs": [],
   "source": [
    "bytes('a', 'utf-8')    #convert a string to byte using utf-8 encoding "
   ]
  },
  {
   "cell_type": "code",
   "execution_count": null,
   "id": "be518770",
   "metadata": {},
   "outputs": [],
   "source": [
    "bytes('a', 'utf-16')    #convert a string to byte using utf-16 encoding "
   ]
  },
  {
   "cell_type": "code",
   "execution_count": null,
   "id": "563ae02a",
   "metadata": {},
   "outputs": [],
   "source": [
    "bytes('abc', 'utf-16')   "
   ]
  },
  {
   "cell_type": "code",
   "execution_count": null,
   "id": "e53cbe84",
   "metadata": {},
   "outputs": [],
   "source": [
    "'abc'.encode('utf-16')"
   ]
  },
  {
   "cell_type": "code",
   "execution_count": null,
   "id": "b86e5b73",
   "metadata": {
    "tags": []
   },
   "outputs": [],
   "source": [
    "#bytearray allows modification of the object\n",
    "\n",
    "var1 = bytearray('abc', 'utf-8')\n",
    "print(var1)                    #bytearray value of var1 \n",
    "print(var1.decode('utf-8'))    #string value of var1 \n",
    "var1[0] = 98\n",
    "print(var1.decode('utf-8'))    #string value of var1 "
   ]
  },
  {
   "cell_type": "markdown",
   "id": "d46a16b7",
   "metadata": {},
   "source": [
    "### Bitwise Operators"
   ]
  },
  {
   "cell_type": "markdown",
   "id": "29d49885",
   "metadata": {},
   "source": [
    "| Symbol | Task Performed |\n",
    "|----|---|\n",
    "| &  | Logical AND |\n",
    "| l  | Logical OR |\n",
    "| ^  | XOR |\n",
    "| ~  | Negate |\n",
    "| >>  | Right shift |\n",
    "| <<  | Left shift |"
   ]
  },
  {
   "cell_type": "code",
   "execution_count": null,
   "id": "c272fda4",
   "metadata": {},
   "outputs": [],
   "source": [
    "#000   --> 0\n",
    "#001   --> 1\n",
    "#010   --> 2\n",
    "#011   --> 3\n",
    "#100   --> 4\n",
    "#101   --> 5\n",
    "\n",
    "x = 2 #10\n",
    "y = 3 #11"
   ]
  },
  {
   "cell_type": "markdown",
   "id": "d4be8d1e",
   "metadata": {},
   "source": [
    "| Logical and | A | B | Output|\n",
    "|----|---|----|---|\n",
    "|   | 0 | 0 | 0 | \n",
    "|   | 0 | 1 | 0 | \n",
    "|   | 1 | 0 | 0 | \n",
    "|   | 1 | 1 | 1 | \n",
    "\n",
    "| Logical or | A | B | Output|\n",
    "|----|---|----|---|\n",
    "|   | 0 | 0 | 0 | \n",
    "|   | 0 | 1 | 1 | \n",
    "|   | 1 | 0 | 1 | \n",
    "|   | 1 | 1 | 1 | "
   ]
  },
  {
   "cell_type": "code",
   "execution_count": null,
   "id": "6511cf12",
   "metadata": {
    "collapsed": false,
    "jupyter": {
     "outputs_hidden": false
    }
   },
   "outputs": [],
   "source": [
    "print (x & y)\n",
    "print (bin(x & y))"
   ]
  },
  {
   "cell_type": "code",
   "execution_count": null,
   "id": "d134990e",
   "metadata": {
    "collapsed": false,
    "jupyter": {
     "outputs_hidden": false
    }
   },
   "outputs": [],
   "source": [
    "5 >> 1"
   ]
  },
  {
   "cell_type": "markdown",
   "id": "fc858237",
   "metadata": {},
   "source": [
    "0000 0101 -> 5 \n",
    "\n",
    "Shifting the digits by 1 to the right and zero padding\n",
    "\n",
    "0000 0010 -> 2"
   ]
  },
  {
   "cell_type": "code",
   "execution_count": null,
   "id": "07d78cb3",
   "metadata": {
    "tags": []
   },
   "outputs": [],
   "source": [
    "5 << 1"
   ]
  },
  {
   "cell_type": "code",
   "execution_count": null,
   "id": "1eafbaf8",
   "metadata": {},
   "outputs": [],
   "source": [
    "0b1010"
   ]
  },
  {
   "cell_type": "markdown",
   "id": "f8dc5da6",
   "metadata": {
    "tags": []
   },
   "source": [
    "In logical XOR of the bits, it is 1 if the bits in the operands are different, 0 if they are the same."
   ]
  },
  {
   "cell_type": "code",
   "execution_count": null,
   "id": "80be3d06",
   "metadata": {},
   "outputs": [],
   "source": [
    "var_xor = 0b1100 ^ 0b1010 \n",
    "print(f\"{var_xor:>04b}\")"
   ]
  },
  {
   "cell_type": "markdown",
   "id": "fe256bb1",
   "metadata": {
    "tags": []
   },
   "source": [
    "## Boolean Values\n",
    "\n",
    "There are only two Boolean values. \n",
    "\n",
    "* True\n",
    "* False\n",
    "\n",
    "They are \"printable\".\n",
    "\n",
    "```python\n",
    ">>> True\n",
    "True\n",
    ">>> print(False)\n",
    "False\n",
    "```"
   ]
  },
  {
   "cell_type": "code",
   "execution_count": null,
   "id": "16c11683",
   "metadata": {},
   "outputs": [],
   "source": [
    "True"
   ]
  },
  {
   "cell_type": "code",
   "execution_count": null,
   "id": "149ce1e6",
   "metadata": {},
   "outputs": [],
   "source": [
    "print(False)"
   ]
  },
  {
   "cell_type": "markdown",
   "id": "c4f34986",
   "metadata": {},
   "source": [
    "### What is the boolean value of a specified object?\n",
    "\n",
    "The ```bool()``` function returns the boolean value of a specified object.\n",
    "\n",
    "An object will return ```True``` unless it is \n",
    "\n",
    "* empty \"\" [] () {}\n",
    "* False\n",
    "* 0\n",
    "* None"
   ]
  },
  {
   "cell_type": "code",
   "execution_count": null,
   "id": "531d0e96",
   "metadata": {},
   "outputs": [],
   "source": [
    "print(bool(\"I am a string\"))\n",
    "print(bool(1.3))\n",
    "print(bool(12))\n",
    "print()\n",
    "print(bool(\"\"))\n",
    "print(bool([]))\n",
    "print(bool(()))\n",
    "print(bool({}))\n",
    "print(bool(False))\n",
    "print(bool(0))\n",
    "print(bool(None))"
   ]
  },
  {
   "cell_type": "markdown",
   "id": "6beb87d3",
   "metadata": {},
   "source": [
    "## Relational Operators\n",
    "\n",
    "These operators define/test the relation between 2 entities, providing a boolean result stating whether the test performed is True or False."
   ]
  },
  {
   "cell_type": "markdown",
   "id": "cc8838f1",
   "metadata": {},
   "source": [
    "| Symbol | Test Performed |\n",
    "|----|---|\n",
    "| == | True, if it is equal |\n",
    "| !=  | True, if not equal to |\n",
    "| < | less than |\n",
    "| > | greater than |\n",
    "| <=  | less than or equal to |\n",
    "| >=  | greater than or equal to |"
   ]
  },
  {
   "cell_type": "markdown",
   "id": "abd68070",
   "metadata": {},
   "source": [
    "Note the difference between an assignment statement using (=) and the relational operators (==)\n",
    "\n",
    "In addition, the (==) operator compares the value or equality of two objects, whereas the Python ```is``` operator (Identity Operators) checks whether two variables point to the same object in memory. "
   ]
  },
  {
   "cell_type": "code",
   "execution_count": null,
   "id": "334d9e13",
   "metadata": {},
   "outputs": [],
   "source": [
    "z = 1"
   ]
  },
  {
   "cell_type": "code",
   "execution_count": null,
   "id": "7c759f5d",
   "metadata": {
    "collapsed": false,
    "jupyter": {
     "outputs_hidden": false
    }
   },
   "outputs": [],
   "source": [
    "z == 1"
   ]
  },
  {
   "cell_type": "code",
   "execution_count": null,
   "id": "70a0b4bb",
   "metadata": {
    "tags": []
   },
   "outputs": [],
   "source": [
    "z > 1"
   ]
  },
  {
   "cell_type": "markdown",
   "id": "07d82442",
   "metadata": {},
   "source": [
    "Recall that the represented value of float is an approximation, be careful when making comparison for float "
   ]
  },
  {
   "cell_type": "code",
   "execution_count": null,
   "id": "a21a59e4",
   "metadata": {},
   "outputs": [],
   "source": [
    "0.1 == (1.5-1.4)"
   ]
  },
  {
   "cell_type": "code",
   "execution_count": null,
   "id": "4a0ac97e",
   "metadata": {},
   "outputs": [],
   "source": [
    "0.1 < (1.5-1.4)"
   ]
  },
  {
   "cell_type": "markdown",
   "id": "0b8c431f",
   "metadata": {},
   "source": [
    "Nevertheless, let check if 1.0 and 1 are the same in Python"
   ]
  },
  {
   "cell_type": "code",
   "execution_count": null,
   "id": "fe84b961",
   "metadata": {},
   "outputs": [],
   "source": [
    "1.0 == 1"
   ]
  },
  {
   "cell_type": "markdown",
   "id": "76ab5040",
   "metadata": {},
   "source": [
    "Even though 1.0 and 1 are of different types, they are equal mathematically. "
   ]
  },
  {
   "cell_type": "code",
   "execution_count": null,
   "id": "09401a34",
   "metadata": {
    "tags": []
   },
   "outputs": [],
   "source": [
    "1.0 == '1'"
   ]
  },
  {
   "cell_type": "markdown",
   "id": "a262f521",
   "metadata": {},
   "source": [
    "By comparing a float with a string, they are no longer equivalent objects. Therefore, it would be good to change the objects to the same type before making a comparison"
   ]
  },
  {
   "cell_type": "markdown",
   "id": "0bd5bcb5",
   "metadata": {},
   "source": [
    "### Comparing Strings\n",
    "\n",
    "Python uses the convention of alphabetical order to compare strings. A word that comes later in the dictionary is greater than a word that comes before."
   ]
  },
  {
   "cell_type": "markdown",
   "id": "8ab72461",
   "metadata": {},
   "source": [
    "## Exercise: Compare the following set of strings and determine which greater\n",
    "\n",
    "1. 'a' and 'm'\n",
    "2. 'a' and 'A'\n",
    "3. 'drive' and 'driven'\n",
    "4. 'Yishun' and 'Ang Mo Kio'\n",
    "5. '1 day' and 'day'"
   ]
  },
  {
   "cell_type": "code",
   "execution_count": null,
   "id": "51dd7eb8",
   "metadata": {},
   "outputs": [],
   "source": [
    "# User comparison operator on the pairs of string to find the greater one.\n",
    "\n"
   ]
  },
  {
   "cell_type": "markdown",
   "id": "d9e2a663",
   "metadata": {},
   "source": [
    "## if-else\n",
    "We will now look at another important building block of Python - the conditional statements. \n",
    "\n",
    "To define decision, we need to use if-else statement. An if-else statement has three components, namely, \n",
    "1. conditional expression\n",
    "2. then branch\n",
    "3. else branch\n",
    "\n",
    "```python\n",
    "if first_name == \"Kenny\":                     # conditional expression\n",
    "    print(\"I know %s.\" % first_name)          # then branch\n",
    "else:\n",
    "    print(\"I don't know %s.\"% first_name)     # else branch\n",
    "```\n",
    "\n",
    "Note that the else branch is optional. \n",
    "\n",
    "Conditionals evalute the Boolean values or Boolean expressions between the ```if``` and the colon ```:```. The is also indentation following the colon. The then branch will only be executed if the condition evaluates to ```True```.\n",
    "\n",
    "## elif\n",
    "```elif``` is else if, and it appears in between an ```if``` and ```else``` clause. "
   ]
  },
  {
   "cell_type": "code",
   "execution_count": null,
   "id": "20f3de45",
   "metadata": {},
   "outputs": [],
   "source": [
    "score = 80\n",
    "\n",
    "if score < 50:\n",
    "    print('Fail')\n",
    "elif score < 80:\n",
    "    print('Pass')\n",
    "else:\n",
    "    print('Distinction')"
   ]
  },
  {
   "cell_type": "markdown",
   "id": "3546b9a7",
   "metadata": {},
   "source": [
    "### Exercise \n",
    "What is the output of the following Python program?\n",
    "```python\n",
    "i = 1\n",
    "if (i / 2 >= 0.5):\n",
    "    print(\" %d / 2 is greater than or equal to 0.5\" % (i))\n",
    "else:\n",
    "    print(\" %d / 2 is less than 0.5\" % (i))\n",
    "```"
   ]
  },
  {
   "cell_type": "code",
   "execution_count": null,
   "id": "2cc8f8d0",
   "metadata": {},
   "outputs": [],
   "source": [
    "# todo: Exercise\n"
   ]
  },
  {
   "cell_type": "markdown",
   "id": "d47486b3",
   "metadata": {},
   "source": [
    "### Conditional expression\n",
    "\n",
    "Besides the if-else conditional statement, there is an if-else conditional expression in Python. Since it is an expression, it is meant to be used in place of the right side of the assignment, or some function application argument. \n",
    "\n",
    "```python\n",
    "x = 1 / y if not (y == 0) else 0\n",
    "```\n",
    "which says, ```x``` will take the value of ```1/y``` as long as ```y``` is not zero, if ```y``` is zero, we assign ```0``` to ```x```.\n",
    "\n",
    "This conditional expression comes in handy in combination with the functional programming features because functional programming focus on mapping values to other values instead of having statements that update the running state of the program."
   ]
  },
  {
   "cell_type": "markdown",
   "id": "c6e70e3b",
   "metadata": {},
   "source": [
    "## Functions\n",
    "\n",
    "Functions are named code blocks which we would like to define once and re-use for multiple times. It is the first level of abstraction away implementation details to keep code simple, readable and resuable. \n",
    "\n",
    "A function consists of a name, a set of formal arguments, and the function body. In the function body, the result of the computation might be returned. \n",
    "\n",
    "\n",
    "```python\n",
    "def sum(x,y): # sum is the name, x and y are parameters\n",
    "    return x + y # function body\n",
    "\n",
    "def print_twice(mesg):\n",
    "    print(mesg)\n",
    "    print(mesg) # no return results\n",
    "```\n",
    "\n",
    "To call / to invoke a function, we need to use the function name in combination with the *actual* arguments. \n",
    "\n",
    "```python\n",
    "print_twice(str(sum(10, 102)))\n",
    "\n",
    "```\n",
    "\n",
    "### Exercise\n",
    "Define and execute the ```sum``` and ```print_twice``` function.\n"
   ]
  },
  {
   "cell_type": "code",
   "execution_count": null,
   "id": "ec95b04d",
   "metadata": {},
   "outputs": [],
   "source": [
    "# todo: Exercise\n",
    "\n"
   ]
  },
  {
   "cell_type": "markdown",
   "id": "265f2d4b",
   "metadata": {},
   "source": [
    "### None value\n",
    "\n",
    "There is a very special value in Python, ```None```, which denotes some undefined value or sometimes a less-disruptive way of error. \n",
    "\n",
    "For example, \n",
    "\n",
    "To define a safe division function, it is good to check that the divisor is not zero.\n",
    "\n",
    "```python\n",
    "def divide(x,divisor):\n",
    "    if divisor == 0:\n",
    "        return None\n",
    "    else:\n",
    "        return x / divisor\n",
    "```\n",
    "\n",
    "So now when we use ```divide()``` with some values, we should always check whether the returned value is ```None```.\n",
    "\n",
    "```python\n",
    "e = 10 \n",
    "d = 100 \n",
    "r = divide(e, d)\n",
    "\n",
    "if r is None:\n",
    "    print(\"division by zero error!\")\n",
    "else:\n",
    "    print(\"the result is %d \" % r)\n",
    "```\n",
    "\n",
    "### Exercise \n",
    "\n",
    "Can you re-define the ```divide()``` function using the conditional expression instead of the conditional statement?"
   ]
  },
  {
   "cell_type": "code",
   "execution_count": null,
   "id": "dec6c32a",
   "metadata": {
    "tags": []
   },
   "outputs": [],
   "source": [
    "# todo: Exercise\n"
   ]
  },
  {
   "cell_type": "markdown",
   "id": "e2ab9a00",
   "metadata": {},
   "source": [
    "### input() function\n",
    "\n",
    "The ```input()``` function allows user input and you can provide a prompt message.\n",
    "\n",
    "If the input does not appear, you can try select Kernel > Interrupt to stop the execution."
   ]
  },
  {
   "cell_type": "code",
   "execution_count": null,
   "id": "c58826e2",
   "metadata": {},
   "outputs": [],
   "source": [
    "input_string = input('Enter your address:')\n",
    "print(\"My address is\", input_string)"
   ]
  },
  {
   "cell_type": "markdown",
   "id": "79feb163",
   "metadata": {},
   "source": [
    "### Exercise \n",
    "\n",
    "There is a useful built-in function ```len()``` that returns the length of the string and it will count any blank spaces in the string.\n",
    "\n",
    "```len(\"this is a string\")```\n",
    "\n",
    "Get an input name via the ```input()``` and use conditional statements to print the input name if the name's length is more or equal to 5, else print the string \"The name is too short.\""
   ]
  },
  {
   "cell_type": "code",
   "execution_count": null,
   "id": "33351a59",
   "metadata": {},
   "outputs": [],
   "source": [
    "# todo: Exercise\n",
    "\n"
   ]
  },
  {
   "cell_type": "markdown",
   "id": "876b80fa",
   "metadata": {},
   "source": [
    "### Printing Tips\n",
    "\n",
    "If you need to have some form of formatting for the string in the output (in Jupyter Notebooks), you can try the following"
   ]
  },
  {
   "cell_type": "code",
   "execution_count": null,
   "id": "c9c7c98d",
   "metadata": {},
   "outputs": [],
   "source": [
    "from IPython.display import display, Markdown\n",
    "def displaymd(string):\n",
    "    display(Markdown(string))\n",
    "    \n",
    "displaymd(\"This a text output with **bold text** and ```x = 1``` as code.\")"
   ]
  },
  {
   "cell_type": "code",
   "execution_count": null,
   "id": "1e8b7380",
   "metadata": {},
   "outputs": [],
   "source": []
  },
  {
   "cell_type": "markdown",
   "id": "2e579af3",
   "metadata": {},
   "source": [
    "##### The %s is a template holder for string value, %d is for integer value, %f is for float number."
   ]
  },
  {
   "cell_type": "code",
   "execution_count": null,
   "id": "c8bfb380",
   "metadata": {},
   "outputs": [],
   "source": [
    "x = 6\n",
    "y = -5\n",
    "xy = 'Hello World'\n",
    "\n",
    "print(\"%d %s %.2f\" % (x+y, xy, x-y))\n",
    "\n",
    "#Recall you can also use f-string\n",
    "result = f\"{x+y} {xy} {x-y:.2f}\"\n",
    "\n",
    "print(result)"
   ]
  },
  {
   "cell_type": "code",
   "execution_count": null,
   "id": "4b7bea3c",
   "metadata": {},
   "outputs": [],
   "source": []
  }
 ],
 "metadata": {
  "kernelspec": {
   "display_name": "Python 3 (ipykernel)",
   "language": "python",
   "name": "python3"
  },
  "language_info": {
   "codemirror_mode": {
    "name": "ipython",
    "version": 3
   },
   "file_extension": ".py",
   "mimetype": "text/x-python",
   "name": "python",
   "nbconvert_exporter": "python",
   "pygments_lexer": "ipython3",
   "version": "3.9.12"
  }
 },
 "nbformat": 4,
 "nbformat_minor": 5
}
