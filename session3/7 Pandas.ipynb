{
 "cells": [
  {
   "cell_type": "markdown",
   "metadata": {},
   "source": [
    "<a href=\"https://colab.research.google.com/github/nyp-sit/agods/blob/main/day2/7 Pandas.ipynb\" target=\"_blank\"><img src=\"https://colab.research.google.com/assets/colab-badge.svg\" alt=\"Open In Colab\"/></a>"
   ]
  },
  {
   "cell_type": "markdown",
   "metadata": {},
   "source": [
    "<img src=\"https://nyp-aicourse.s3.ap-southeast-1.amazonaws.com/agods/nyp_ago_logo.png\" width='400'/>"
   ]
  },
  {
   "cell_type": "markdown",
   "metadata": {},
   "source": [
    "# Using Pandas in Python"
   ]
  },
  {
   "cell_type": "markdown",
   "metadata": {
    "id": "M8-YwxBjSbj1"
   },
   "source": [
    "## Pandas\n",
    "\n",
    "Pandas is used for data maniplution and analysis. It is build on the NumPy package and provides an important data structure 'DataFrame'. The DataFrame has rows and columns, similar to a table, where the Pandas can basically read data (from sources such as a CSV file) and fill up the rows and columns. In short, the DataFrame is essentially a spreadsheet in code.\n",
    "\n",
    "Each column is a `pandas.Series` object and can only hold one data type. Therefore, unlike a two dimensional NumPy array, a DataFrame can contain different data types using multiple `pandas.Series` object.\n",
    "\n",
    "The DataFrame data structure will be easier to work with than through the use of loops and list/dictionary in Python."
   ]
  },
  {
   "cell_type": "markdown",
   "metadata": {
    "id": "HCNqTnBtYq6x"
   },
   "source": [
    "### Creating a DataFrame\n",
    "\n",
    "We will create a DataFrame from a Dictionary, where each key is the label for each column and the values of the key are the column data."
   ]
  },
  {
   "cell_type": "code",
   "execution_count": null,
   "metadata": {
    "colab": {
     "base_uri": "https://localhost:8080/"
    },
    "id": "-S48RL1WSbj2",
    "outputId": "d8a972e9-81e7-496f-ba59-8296b7a35d4f"
   },
   "outputs": [],
   "source": [
    "import pandas as pd\n",
    "\n",
    "dict = {\"student\": [\"John\", \"Rosie\", \"Ah Hock\", \"Siti\", \"Bala\"],\n",
    "       \"age\": [18, 21, 19, 18, 20],\n",
    "       \"town\": [\"Ang Mo Kio\", \"Yishun\", \"Toa Payoh\", \"Clementi\", \"Tampines\"],\n",
    "       \"grade\": [2.4, 3.4, 2.7, 3.7, 3.2] }\n",
    "\n",
    "class_grades = pd.DataFrame(dict)\n",
    "print(class_grades)"
   ]
  },
  {
   "cell_type": "markdown",
   "metadata": {
    "id": "nvHiGec9Sbj3"
   },
   "source": [
    "The index are automatically given numbers from 0 to 4. These can be changed as follows"
   ]
  },
  {
   "cell_type": "code",
   "execution_count": null,
   "metadata": {
    "colab": {
     "base_uri": "https://localhost:8080/"
    },
    "id": "OkOjYoiDSbj3",
    "outputId": "bc85fe07-b574-430b-fa0b-6525c50031cc"
   },
   "outputs": [],
   "source": [
    "class_grades.index = [\"JN\", \"RS\", \"AH\", \"ST\", \"BL\"]\n",
    "\n",
    "print(class_grades)"
   ]
  },
  {
   "cell_type": "markdown",
   "metadata": {
    "id": "nTFfUgRrSbj4"
   },
   "source": [
    "Accessing the values (list of students) within the dataframe. Recall that a list of students is essentially the **series or column** in the DataFrame"
   ]
  },
  {
   "cell_type": "code",
   "execution_count": null,
   "metadata": {
    "colab": {
     "base_uri": "https://localhost:8080/"
    },
    "id": "1lqYVfgPSbj4",
    "outputId": "46ce39a6-c561-4aa9-dfa9-40b2d5357c94"
   },
   "outputs": [],
   "source": [
    "class_grades['student']"
   ]
  },
  {
   "cell_type": "markdown",
   "metadata": {
    "id": "dVK_DAZnSbj4"
   },
   "source": [
    "Accessing via a single bracket will output a Pandas Series, while in the following example using a double bracket will output a DataFrame"
   ]
  },
  {
   "cell_type": "code",
   "execution_count": null,
   "metadata": {
    "colab": {
     "base_uri": "https://localhost:8080/",
     "height": 206
    },
    "id": "RFay4xkgSbj4",
    "outputId": "ce0ecf94-a535-4cdc-9e8b-f6df16502009"
   },
   "outputs": [],
   "source": [
    "class_grades[['student']]"
   ]
  },
  {
   "cell_type": "markdown",
   "metadata": {
    "id": "Qw6i-jOOSbj5"
   },
   "source": [
    "To access more series in a dataframe, simply add in the respective series you are interested in."
   ]
  },
  {
   "cell_type": "code",
   "execution_count": null,
   "metadata": {
    "colab": {
     "base_uri": "https://localhost:8080/",
     "height": 206
    },
    "id": "0mMQMi_jSbj5",
    "outputId": "325da80c-1c7c-46d5-dda3-596b53e79ebd"
   },
   "outputs": [],
   "source": [
    "class_grades[['student','town']]"
   ]
  },
  {
   "cell_type": "markdown",
   "metadata": {
    "id": "OQOgc60ybkYx"
   },
   "source": [
    "### Creating a DataFrame from a List of List"
   ]
  },
  {
   "cell_type": "code",
   "execution_count": null,
   "metadata": {
    "colab": {
     "base_uri": "https://localhost:8080/",
     "height": 269
    },
    "id": "yxRw6H5Gc5lX",
    "outputId": "8e7defb8-ea2e-46b0-95fb-333f34cccf94"
   },
   "outputs": [],
   "source": [
    "student_list = [[\"Lee\", \"Jones\", 10],\n",
    "                [\"Tan\", \"Shulin\", 14],\n",
    "                [\"Hanson\", \"Chris\", 13],\n",
    "                [\"Sharab\", \"Kumar\", 12],\n",
    "                [\"Rajah\", \"Kathik\", 13],\n",
    "                [\"See\", \"Jerry\", 16],\n",
    "                [\"Kosnan\", \"Ali\", 12]]\n",
    "\n",
    "students = pd.DataFrame(student_list)\n",
    "students"
   ]
  },
  {
   "cell_type": "markdown",
   "metadata": {
    "id": "7sXW0gMJgE6D"
   },
   "source": [
    "Since there is no column names, we could have added in the column names (and row index) explicitly using a list of strings\n",
    "\n",
    "\n"
   ]
  },
  {
   "cell_type": "code",
   "execution_count": null,
   "metadata": {
    "colab": {
     "base_uri": "https://localhost:8080/",
     "height": 269
    },
    "id": "JhUgyOlUfftl",
    "outputId": "430f80b3-38b4-499e-e6bd-ba9562fa1ffe"
   },
   "outputs": [],
   "source": [
    "columns = ['first','last','ages']\n",
    "index = ['LJ','TS','HC','SK','RK','SJ','KA']\n",
    "\n",
    "students = pd.DataFrame (student_list, columns=columns, index = index)\n",
    "students"
   ]
  },
  {
   "cell_type": "markdown",
   "metadata": {
    "id": "5zB9FBqdvJS8"
   },
   "source": [
    "## Common DataFrame Operations"
   ]
  },
  {
   "cell_type": "markdown",
   "metadata": {
    "id": "4Mod6FQ5vbaZ"
   },
   "source": [
    "### Heads and Tails\n",
    "\n",
    "Take a peek at the top or bottom of the data to better understand the data"
   ]
  },
  {
   "cell_type": "code",
   "execution_count": null,
   "metadata": {
    "colab": {
     "base_uri": "https://localhost:8080/",
     "height": 206
    },
    "id": "ToC7O1xgsnUW",
    "outputId": "de909667-ae0b-4084-e472-fad1cea2e52b"
   },
   "outputs": [],
   "source": [
    "students.head()"
   ]
  },
  {
   "cell_type": "code",
   "execution_count": null,
   "metadata": {
    "colab": {
     "base_uri": "https://localhost:8080/",
     "height": 206
    },
    "id": "j2LaqL381NRy",
    "outputId": "0c1ab3eb-1fcb-49b6-91d8-8aa60d6165a8"
   },
   "outputs": [],
   "source": [
    "students.tail()"
   ]
  },
  {
   "cell_type": "markdown",
   "metadata": {
    "id": "06qZICyl1Wks"
   },
   "source": [
    "You can also specify the number of rows you wish to peek at.\n",
    "\n",
    "`students.head(3)`"
   ]
  },
  {
   "cell_type": "code",
   "execution_count": null,
   "metadata": {
    "colab": {
     "base_uri": "https://localhost:8080/",
     "height": 143
    },
    "id": "rFMv5-n31oAs",
    "outputId": "f9e10c83-ed63-4c79-cf4c-09abbcf2a02b"
   },
   "outputs": [],
   "source": [
    "students.head(3)"
   ]
  },
  {
   "cell_type": "markdown",
   "metadata": {
    "id": "ysjiPMUQwPRn"
   },
   "source": [
    "### Descriptive Statistics\n",
    "\n",
    "Obtaining descriptive statistics about the data."
   ]
  },
  {
   "cell_type": "code",
   "execution_count": null,
   "metadata": {
    "colab": {
     "base_uri": "https://localhost:8080/",
     "height": 300
    },
    "id": "D2Z0m6Xyxi5Q",
    "outputId": "2a835dfb-bb6b-4b9a-ff6c-5356d14cd288"
   },
   "outputs": [],
   "source": [
    "students.describe()"
   ]
  },
  {
   "cell_type": "markdown",
   "metadata": {
    "id": "a6SuVyYcx6wr"
   },
   "source": [
    "The quantiles can be changed to your preferred values. (50% is inserted regardless of argument for percentiles)"
   ]
  },
  {
   "cell_type": "code",
   "execution_count": null,
   "metadata": {
    "colab": {
     "base_uri": "https://localhost:8080/",
     "height": 300
    },
    "id": "FYTQozHxyCtG",
    "outputId": "111bfbfe-3103-46de-af69-d4ff5cf08924"
   },
   "outputs": [],
   "source": [
    "students.describe(percentiles=[0.1, 0.9])"
   ]
  },
  {
   "cell_type": "markdown",
   "metadata": {
    "id": "ENbeWvqkzVVu"
   },
   "source": [
    "Statistics for all columns can be obtained by using `all` as the argument for `include`."
   ]
  },
  {
   "cell_type": "code",
   "execution_count": null,
   "metadata": {
    "colab": {
     "base_uri": "https://localhost:8080/",
     "height": 394
    },
    "id": "fgpGu-ECy6wf",
    "outputId": "2caba5fe-646e-4799-a348-b34339db772e"
   },
   "outputs": [],
   "source": [
    "students.describe(include='all')"
   ]
  },
  {
   "cell_type": "markdown",
   "metadata": {
    "id": "TRNcjv1r0tev"
   },
   "source": [
    "### Accessing columns\n",
    "\n",
    "Recall that a column can be accessed by using the column name in brackets students['ages']"
   ]
  },
  {
   "cell_type": "code",
   "execution_count": null,
   "metadata": {
    "colab": {
     "base_uri": "https://localhost:8080/"
    },
    "id": "otSJQi0m7Z7b",
    "outputId": "4045484c-d2c9-463e-86bf-bf32eb12ad2f"
   },
   "outputs": [],
   "source": [
    "students['ages']"
   ]
  },
  {
   "cell_type": "markdown",
   "metadata": {
    "id": "z-YAfI0L83YP"
   },
   "source": [
    "If the column name does not contain any special character or dashes and is not the same as an existing attribute of DataFrame (such as `first` or `last`), you can use the column name as an attribute"
   ]
  },
  {
   "cell_type": "code",
   "execution_count": null,
   "metadata": {
    "colab": {
     "base_uri": "https://localhost:8080/"
    },
    "id": "Ds0VN5MD7eCC",
    "outputId": "18379b34-0bce-437a-e543-c9fade0e3566"
   },
   "outputs": [],
   "source": [
    "students.ages"
   ]
  },
  {
   "cell_type": "markdown",
   "metadata": {
    "id": "bZawJdlGMRtM"
   },
   "source": [
    "To access specific rows, you can use the row index or number"
   ]
  },
  {
   "cell_type": "code",
   "execution_count": null,
   "metadata": {
    "colab": {
     "base_uri": "https://localhost:8080/",
     "height": 112
    },
    "id": "ZV46aDyTMPxx",
    "outputId": "60b0df65-0f44-4c46-ab7f-5a36380804ce"
   },
   "outputs": [],
   "source": [
    "students[1:3]"
   ]
  },
  {
   "cell_type": "code",
   "execution_count": null,
   "metadata": {
    "colab": {
     "base_uri": "https://localhost:8080/",
     "height": 143
    },
    "id": "dUaGREdwNaRc",
    "outputId": "11b5c4c1-4216-4b9f-ad70-89987e9cb59c"
   },
   "outputs": [],
   "source": [
    "students['TS':'SK']"
   ]
  },
  {
   "cell_type": "markdown",
   "metadata": {
    "id": "u-W-4kyPQxuP"
   },
   "source": [
    "### Masking\n",
    "Masking data is a very useful operation on DataFrame.\n",
    "\n",
    "The mask is a list of Boolean values for each row. Set True for required rows and False for the others."
   ]
  },
  {
   "cell_type": "code",
   "execution_count": null,
   "metadata": {
    "colab": {
     "base_uri": "https://localhost:8080/",
     "height": 175
    },
    "id": "oPXUs-FHSC-2",
    "outputId": "4c04b3d0-781b-4f46-ea75-7e8ca5151c0a"
   },
   "outputs": [],
   "source": [
    "mask = [True, False, True, False, True, False, True]\n",
    "students[mask]"
   ]
  },
  {
   "cell_type": "markdown",
   "metadata": {
    "id": "eZBQQLtVSbj5"
   },
   "source": [
    "### loc and iloc\n",
    "loc and iloc is the recommended way to perform data selection operation.\n",
    "\n",
    "* loc is label-based. It requires the use of row and column labels.\n",
    "* iloc is integer-based. It requires the index of the row and column."
   ]
  },
  {
   "cell_type": "code",
   "execution_count": null,
   "metadata": {
    "colab": {
     "base_uri": "https://localhost:8080/"
    },
    "id": "3Xfl-Re_Pzo0",
    "outputId": "45b5ff02-23c6-457b-c41b-dd8c1dfb3265"
   },
   "outputs": [],
   "source": [
    "class_grades.loc['JN']"
   ]
  },
  {
   "cell_type": "code",
   "execution_count": null,
   "metadata": {
    "colab": {
     "base_uri": "https://localhost:8080/",
     "height": 81
    },
    "id": "GP39LD-UWeEc",
    "outputId": "74b78e65-cf95-4bb9-a664-f96ff218c15d"
   },
   "outputs": [],
   "source": [
    "class_grades.loc['JN':'JN']"
   ]
  },
  {
   "cell_type": "code",
   "execution_count": null,
   "metadata": {
    "colab": {
     "base_uri": "https://localhost:8080/",
     "height": 112
    },
    "id": "GDzSuuWWSbj5",
    "outputId": "53d37c0b-6ef1-4a20-c997-a5dcb449bbb8"
   },
   "outputs": [],
   "source": [
    "class_grades.loc[['JN','AH']]"
   ]
  },
  {
   "cell_type": "code",
   "execution_count": null,
   "metadata": {
    "colab": {
     "base_uri": "https://localhost:8080/",
     "height": 112
    },
    "id": "tpJZity6Sbj5",
    "outputId": "ab6c8306-1e51-4e9b-b22c-fab694713f6b"
   },
   "outputs": [],
   "source": [
    "class_grades.loc[['JN','AH'],['age','grade']]"
   ]
  },
  {
   "cell_type": "code",
   "execution_count": null,
   "metadata": {
    "colab": {
     "base_uri": "https://localhost:8080/",
     "height": 112
    },
    "id": "qbQ8xPIpSbj6",
    "outputId": "a95dddb3-ccb4-420d-99fe-1239025d7779"
   },
   "outputs": [],
   "source": [
    "class_grades.iloc[[1,3]]"
   ]
  },
  {
   "cell_type": "code",
   "execution_count": null,
   "metadata": {
    "colab": {
     "base_uri": "https://localhost:8080/",
     "height": 81
    },
    "id": "4YnyQlAkSbj6",
    "outputId": "d98d0799-5abc-4ccf-9e87-b210e21bddba"
   },
   "outputs": [],
   "source": [
    "class_grades.iloc[[4],[0,1,3]]"
   ]
  },
  {
   "cell_type": "markdown",
   "metadata": {
    "id": "tk24lLWbclx7"
   },
   "source": [
    "if you want to select only specific columns, you can use a mask too."
   ]
  },
  {
   "cell_type": "code",
   "execution_count": null,
   "metadata": {
    "colab": {
     "base_uri": "https://localhost:8080/",
     "height": 81
    },
    "id": "uktRqOOvcu8O",
    "outputId": "e1e9cb3a-aa29-49b6-9620-e0e166b0a99f"
   },
   "outputs": [],
   "source": [
    "mask = [True, True, False, False]\n",
    "class_grades.iloc[[4], mask]"
   ]
  },
  {
   "cell_type": "markdown",
   "metadata": {
    "id": "O8Bk_MGNSbj6"
   },
   "source": [
    "## Exercise\n",
    "\n",
    "Try creating a dictionary of test scores (list) using the student's name as the key. Then try to create a dataframe using the dictionary you have just created.\n",
    "\n",
    "Print out your created dataframe\n",
    "\n",
    "| Student | Score 1 | Score 2 | Score 3 |\n",
    "|---|---|---|---|\n",
    "| John | 60 | 90 | 80 |\n",
    "| Juliet | 40 | 58 | 70|\n",
    "| Tommy | 70 | 65 | 68 |"
   ]
  },
  {
   "cell_type": "code",
   "execution_count": null,
   "metadata": {
    "colab": {
     "base_uri": "https://localhost:8080/",
     "height": 143
    },
    "id": "wtV1nR7pSbj6",
    "outputId": "774aaf5d-69e0-4d1b-847b-244cd8fa65d5"
   },
   "outputs": [],
   "source": [
    "#todo: Exercise\n"
   ]
  },
  {
   "cell_type": "markdown",
   "metadata": {
    "id": "9rzsGNJGSbj7"
   },
   "source": [
    "-----"
   ]
  },
  {
   "cell_type": "markdown",
   "metadata": {
    "id": "p04PTVDhSbj7"
   },
   "source": [
    "Depending on how you have created your dataframe, you may see the keys are listed as a column. The rows are labeled with indices starting at 0 by default.\n",
    "\n",
    "Let's do a transpose to change the rows into columns and columns into rows."
   ]
  },
  {
   "cell_type": "code",
   "execution_count": null,
   "metadata": {
    "colab": {
     "base_uri": "https://localhost:8080/",
     "height": 143
    },
    "id": "e6iYrEi9Sbj7",
    "outputId": "71232b1b-9cbe-485f-ab2e-81f2c6e3e3ac"
   },
   "outputs": [],
   "source": [
    "df = df.T\n",
    "df"
   ]
  },
  {
   "cell_type": "markdown",
   "metadata": {
    "id": "NHnqQV28Sbj7"
   },
   "source": [
    "Rename the columns to something more precise"
   ]
  },
  {
   "cell_type": "code",
   "execution_count": null,
   "metadata": {
    "colab": {
     "base_uri": "https://localhost:8080/",
     "height": 143
    },
    "id": "j8QQ6E5MSbj7",
    "outputId": "239ce8aa-702d-464b-918d-0d4d86ff1435"
   },
   "outputs": [],
   "source": [
    "df.columns = ['test_1', 'test_2', 'test_3']\n",
    "df"
   ]
  },
  {
   "cell_type": "markdown",
   "metadata": {
    "id": "EtrQ96BASbj7"
   },
   "source": [
    "Use iloc to acces the first row"
   ]
  },
  {
   "cell_type": "code",
   "execution_count": null,
   "metadata": {
    "colab": {
     "base_uri": "https://localhost:8080/"
    },
    "id": "fPdgrMOfSbj8",
    "outputId": "f32aa0d1-4859-4c9c-8095-090728b973c6"
   },
   "outputs": [],
   "source": [
    "df.iloc[0]"
   ]
  },
  {
   "cell_type": "markdown",
   "metadata": {
    "id": "lJI941b4Sbj8"
   },
   "source": [
    "## Exercise\n",
    "\n",
    "Try to  access the values in the first column 'Test 1'"
   ]
  },
  {
   "cell_type": "code",
   "execution_count": null,
   "metadata": {
    "colab": {
     "base_uri": "https://localhost:8080/"
    },
    "id": "mX6PWQQ5Sbj8",
    "outputId": "ad40f71c-f50a-461e-bd60-e472c6c038eb"
   },
   "outputs": [],
   "source": [
    "#todo: Exercise\n"
   ]
  },
  {
   "cell_type": "markdown",
   "metadata": {
    "id": "0xnufWC8Sbj8"
   },
   "source": [
    "Limit the data of concern to only the first 2 tests."
   ]
  },
  {
   "cell_type": "code",
   "execution_count": null,
   "metadata": {
    "colab": {
     "base_uri": "https://localhost:8080/",
     "height": 143
    },
    "id": "rq6hZmzzSbj8",
    "outputId": "d0b9ce57-c74a-4d44-8dd4-5a5c3647d51e"
   },
   "outputs": [],
   "source": [
    "#todo: Exercise\n"
   ]
  },
  {
   "cell_type": "markdown",
   "metadata": {
    "id": "aGEfEoKFSbj8"
   },
   "source": [
    "### Using pandas to append more data (same columns different row data)"
   ]
  },
  {
   "cell_type": "code",
   "execution_count": null,
   "metadata": {
    "colab": {
     "base_uri": "https://localhost:8080/",
     "height": 112
    },
    "id": "sW-01sUISbj9",
    "outputId": "f983cfce-1a34-47e1-894c-e568926c286f"
   },
   "outputs": [],
   "source": [
    "#Define new dataframe\n",
    "group_2_dict = {'May':[30, 45, 48], 'Jim':[77,89,80]}\n",
    "\n",
    "df_new = pd.DataFrame(group_2_dict)\n",
    "df_new = df_new.T\n",
    "df_new.columns = ['test_1', 'test_2', 'test_3']\n",
    "df_new"
   ]
  },
  {
   "cell_type": "code",
   "execution_count": null,
   "metadata": {
    "colab": {
     "base_uri": "https://localhost:8080/",
     "height": 206
    },
    "id": "ICavLGnaSbj9",
    "outputId": "8a1fada5-a2e0-456b-82a1-ec0483abcdee"
   },
   "outputs": [],
   "source": [
    "df_all = pd.concat([df, df_new])\n",
    "df_all"
   ]
  },
  {
   "cell_type": "markdown",
   "metadata": {
    "id": "XRPIEhhLSbj9"
   },
   "source": [
    "##### Note: we are not using default indexes in this case but using concat can cause duplicate indexes.\n",
    "\n",
    "A simplefix would be to use\n",
    "```df_new=df_new.reset_index (drop=True)```\n",
    "\n",
    "Otherwise, we can use the `ignore_index` option in the `pd.concat()` function:\n",
    "```df_new= pd.concat([ ... ] , ignore_index=True)```\n",
    "\n",
    "If the columns do not correspond between the dataframes, new columns will be created. The values filled will be NaN for data rows that originally do not have the new columns."
   ]
  },
  {
   "cell_type": "markdown",
   "metadata": {
    "id": "j2EqggHySbj9"
   },
   "source": [
    "### Using combine_first\n",
    "\n",
    "The method ```combine_first()``` can be used to fill null values in one dataframe with non-null values from another dataframe.\n",
    "\n",
    "The resulting dataframe contains the ‘first’ dataframe values and overrides the second one values where both first.loc[index, col] and second.loc[index, col] are not missing values, upon calling first.combine_first(second)"
   ]
  },
  {
   "cell_type": "code",
   "execution_count": null,
   "metadata": {
    "colab": {
     "base_uri": "https://localhost:8080/",
     "height": 143
    },
    "id": "I82bXunZSbkF",
    "outputId": "137b33c3-e7d6-4fec-ba39-0f62c0a41c6a"
   },
   "outputs": [],
   "source": [
    "group_3_dict = {'May':[30, 45, 48, 60], 'Jim':[77,89,80, 70], 'Sean':[55,57,56,45]}\n",
    "\n",
    "df_3 = pd.DataFrame(group_3_dict)\n",
    "df_3 = df_3.T\n",
    "df_3.columns = ['test_1', 'test_2', 'test_3', 'test_4']\n",
    "df_3"
   ]
  },
  {
   "cell_type": "code",
   "execution_count": null,
   "metadata": {
    "colab": {
     "base_uri": "https://localhost:8080/",
     "height": 238
    },
    "id": "62SJ34ieSbkF",
    "outputId": "ff66a6a6-ad39-4d82-a91a-bd5bdb7b6d42"
   },
   "outputs": [],
   "source": [
    "df_4 = df_3.combine_first(df_all)\n",
    "df_4"
   ]
  },
  {
   "cell_type": "markdown",
   "metadata": {
    "id": "GH6wf8k1SbkF"
   },
   "source": [
    "### Joining data using merge\n",
    "\n",
    "Columns from two dataframes can be joined using the ```merge()``` function. This is similar to the SQL 'join' functionality with merge method of\n",
    "\n",
    "* left    (Use keys from left frame only)\n",
    "* right   (Use keys from right frame only)\n",
    "* outer   (Use union of keys from both frames)\n",
    "* inner   (Use intersection of keys from both frames)\n",
    "\n"
   ]
  },
  {
   "cell_type": "code",
   "execution_count": null,
   "metadata": {
    "colab": {
     "base_uri": "https://localhost:8080/",
     "height": 143
    },
    "id": "QfXvc89JSbkF",
    "outputId": "de2e997b-8280-4b6f-916a-a51d7dbfac91"
   },
   "outputs": [],
   "source": [
    "df_3"
   ]
  },
  {
   "cell_type": "code",
   "execution_count": null,
   "metadata": {
    "colab": {
     "base_uri": "https://localhost:8080/",
     "height": 175
    },
    "id": "NU1xHavTSbkF",
    "outputId": "52073f72-44fe-46f0-c3af-f540b5c8b56d"
   },
   "outputs": [],
   "source": [
    "group_4_dict = {'May':[60, 45, \"2A\"], 'Jeremy':[80, 70, \"2B\"], 'Sean':[45, 45, \"2B\"], 'Kim':[67, 77, \"2A\"]}\n",
    "\n",
    "df_4 = pd.DataFrame(group_4_dict)\n",
    "df_4 = df_4.T\n",
    "df_4.columns = ['test_4', 'test_5', 'class']\n",
    "df_4"
   ]
  },
  {
   "cell_type": "code",
   "execution_count": null,
   "metadata": {
    "colab": {
     "base_uri": "https://localhost:8080/"
    },
    "id": "ksHHlYz8jEet",
    "outputId": "3f61a0ab-6097-4891-abb3-86da58fc8e27"
   },
   "outputs": [],
   "source": [
    "cols_to_use = df_4.columns.difference(df_3.columns)\n",
    "# common_cols = df_3.columns.intersection(df_all.columns)\n",
    "cols_to_use"
   ]
  },
  {
   "cell_type": "code",
   "execution_count": null,
   "metadata": {
    "colab": {
     "base_uri": "https://localhost:8080/",
     "height": 112
    },
    "id": "_ZKLUyt7SbkG",
    "outputId": "8141d78d-559b-4bf5-b3ae-0e640157e5d8"
   },
   "outputs": [],
   "source": [
    "#Extract only record of student that appear on both dataframe\n",
    "df_inner = pd.merge(df_3, df_4[cols_to_use], how='inner', left_index=True, right_index=True)\n",
    "df_inner"
   ]
  },
  {
   "cell_type": "code",
   "execution_count": null,
   "metadata": {
    "colab": {
     "base_uri": "https://localhost:8080/",
     "height": 206
    },
    "id": "V84j1ed_SbkG",
    "outputId": "606770b6-7f3c-43c3-b87e-84008b55a427"
   },
   "outputs": [],
   "source": [
    "cols_to_use = df_4.columns.difference(df_3.columns)\n",
    "\n",
    "#Extract all possible students that appear on both dataframe, unavailable data is filled witn NaN\n",
    "df_outer = pd.merge(df_3, df_4[cols_to_use], how='outer', left_index=True, right_index=True)\n",
    "df_outer"
   ]
  },
  {
   "cell_type": "markdown",
   "metadata": {
    "id": "2ObA7ywPSbkG"
   },
   "source": [
    "##### NaN stands for Not a Number. It is case-sensitive"
   ]
  },
  {
   "cell_type": "markdown",
   "metadata": {
    "id": "-hy9uZT1qpd4"
   },
   "source": [
    "### Filtering using Mask"
   ]
  },
  {
   "cell_type": "markdown",
   "metadata": {
    "id": "dg6LLK1vqwB8"
   },
   "source": [
    "We can select data based on values. Use comparison operators with columns to determine which values matches our required condition.\n",
    "\n",
    "Let us try to select based on the class."
   ]
  },
  {
   "cell_type": "code",
   "execution_count": null,
   "metadata": {
    "colab": {
     "base_uri": "https://localhost:8080/"
    },
    "id": "T4sA1a3rrbos",
    "outputId": "e75ea879-01d2-4886-910b-2e054796e3c4"
   },
   "outputs": [],
   "source": [
    "df_outer['class'] == '2A'"
   ]
  },
  {
   "cell_type": "code",
   "execution_count": null,
   "metadata": {
    "colab": {
     "base_uri": "https://localhost:8080/",
     "height": 112
    },
    "id": "vzv3L4Epxh8j",
    "outputId": "d00399f6-864e-46b7-b2c1-9a7a632bbb60"
   },
   "outputs": [],
   "source": [
    "df_class_2a = df_outer.loc[df_outer['class'] == '2A']\n",
    "df_class_2a"
   ]
  },
  {
   "cell_type": "markdown",
   "metadata": {
    "id": "VEsiBwJ5yxNs"
   },
   "source": [
    "We can also use the score of a test as the filter."
   ]
  },
  {
   "cell_type": "code",
   "execution_count": null,
   "metadata": {
    "colab": {
     "base_uri": "https://localhost:8080/",
     "height": 112
    },
    "id": "UlhmpOspywbZ",
    "outputId": "8e8b50e3-9bdb-43e5-881a-cf9a4a6330cb"
   },
   "outputs": [],
   "source": [
    "score_mask = df_outer.loc[:,'test_5'] >= 50\n",
    "\n",
    "df_pass_test5 = df_outer.loc[score_mask]\n",
    "df_pass_test5"
   ]
  },
  {
   "cell_type": "markdown",
   "metadata": {
    "id": "UKqmZqH6SbkG"
   },
   "source": [
    "#### Creating a new column 'average'\n",
    "\n",
    "Recall that our df_inner extracted only record of student that appear on both dataframe that was merged.\n",
    "\n",
    "Let us add a new row to ```df_inner``` first."
   ]
  },
  {
   "cell_type": "code",
   "execution_count": null,
   "metadata": {
    "colab": {
     "base_uri": "https://localhost:8080/",
     "height": 112
    },
    "id": "-yODe2bb3MqU",
    "outputId": "2e2d3a86-893e-459c-e1f6-ec8e88d70d9a"
   },
   "outputs": [],
   "source": [
    "df_inner"
   ]
  },
  {
   "cell_type": "code",
   "execution_count": null,
   "metadata": {
    "colab": {
     "base_uri": "https://localhost:8080/",
     "height": 143
    },
    "id": "t5iBIRj1SbkH",
    "outputId": "9f516e3f-aeb0-4d71-9237-d02ae4ca1300"
   },
   "outputs": [],
   "source": [
    "import numpy as np\n",
    "\n",
    "df_row = pd.DataFrame({'test_1':[np.NaN], 'test_2':[np.NaN], 'test_3':[np.NaN],\n",
    "                       'test_4':[np.NaN], 'test_5':[80]},\n",
    "                      index=['Nurul'])\n",
    "\n",
    "df_5 = pd.concat([df_inner, df_row])\n",
    "df_5\n"
   ]
  },
  {
   "cell_type": "markdown",
   "metadata": {
    "id": "eQfXThhh4XO1"
   },
   "source": [
    "Insert a column with the mean of all available test scores."
   ]
  },
  {
   "cell_type": "code",
   "execution_count": null,
   "metadata": {
    "colab": {
     "base_uri": "https://localhost:8080/",
     "height": 143
    },
    "id": "SBTrOWXMSbkH",
    "outputId": "b06f2002-db7c-44d7-c221-0991034f7ff7"
   },
   "outputs": [],
   "source": [
    "df_5['average'] = df_5[['test_1', 'test_2', 'test_3', 'test_4', 'test_5']].mean(axis=1, skipna=True)\n",
    "df_5"
   ]
  },
  {
   "cell_type": "markdown",
   "metadata": {
    "id": "RKBC7RVm40sZ"
   },
   "source": [
    "#### Finding the min and max value in a column."
   ]
  },
  {
   "cell_type": "code",
   "execution_count": null,
   "metadata": {
    "colab": {
     "base_uri": "https://localhost:8080/"
    },
    "id": "uG5B0wyy4-1t",
    "outputId": "a07e7440-ee3b-41b5-9a1d-070419ac4340"
   },
   "outputs": [],
   "source": [
    "df_5.average.min()"
   ]
  },
  {
   "cell_type": "code",
   "execution_count": null,
   "metadata": {
    "colab": {
     "base_uri": "https://localhost:8080/"
    },
    "id": "-jPyytRE5XOo",
    "outputId": "6162d788-d960-4f1e-f195-310ec919e3d2"
   },
   "outputs": [],
   "source": [
    "df_5.average.max()"
   ]
  },
  {
   "cell_type": "markdown",
   "metadata": {
    "id": "Pubq6MUz61vY"
   },
   "source": [
    "## Exercise\n",
    "\n",
    "Try to create the following data as a DataFrame and create a column the contains the highest score out of the three test scores.\n",
    "\n",
    "|student_id|test_1|test_2|test_3|\n",
    "|---|---|---|---|\n",
    "|a0|30|70|50|\n",
    "|a1|60|70|65|\n",
    "|a2|40|60|60|\n",
    "|a3|70|80|85|\n",
    "|a4|10|20|10|\n",
    "|a5|75|60|80|\n",
    "|a6|50|65|90|\n",
    "|a7|60|100|95|\n",
    "|a8|70|55|60|\n",
    "|a9|20|75|70|"
   ]
  },
  {
   "cell_type": "markdown",
   "metadata": {
    "id": "HKAu6aZA8344"
   },
   "source": [
    "*Hint:*\n",
    "You can create a DataFrame from the following\n",
    "\n",
    "dict = {\"student_id\": [\"a0\",\"a1\", \"a2\", \"a3\", \"a4\", \"a5\", \"a6\", \"a7\", \"a8\", \"a9\"],\n",
    "       \"test_1\": [30, 60, 40, 70, 10, 75, 50, 60, 70, 20],\n",
    "       \"test_2\": [70, 70, 60, 80, 20, 60, 65, 100, 55, 75],\n",
    "       \"test_3\": [50, 65, 60, 85, 10, 80, 90, 95, 60, 70] }\n",
    "\n",
    "\n",
    "You can refer to the previous examples on the mean column and try the max() function."
   ]
  },
  {
   "cell_type": "code",
   "execution_count": null,
   "metadata": {
    "colab": {
     "base_uri": "https://localhost:8080/",
     "height": 363
    },
    "id": "eTT_pbhe604I",
    "outputId": "7221d848-953f-43b7-cda1-c83ea9bc5b69"
   },
   "outputs": [],
   "source": [
    "#todo: Exercise\n"
   ]
  },
  {
   "cell_type": "markdown",
   "metadata": {
    "id": "Rda1BHYAFs9m"
   },
   "source": [
    "## Exercise\n",
    "\n",
    "Use the previous DataFrame that has a column with the highest score of three test to extract/filter the students within the top 10 percentile of the scores.\n",
    "\n"
   ]
  },
  {
   "cell_type": "code",
   "execution_count": null,
   "metadata": {
    "colab": {
     "base_uri": "https://localhost:8080/",
     "height": 300
    },
    "id": "WYRJx-SwHhqm",
    "outputId": "3243dd8f-4e0f-46a3-a545-4ee4d541bc82"
   },
   "outputs": [],
   "source": [
    "#todo: Exercise\n"
   ]
  },
  {
   "cell_type": "code",
   "execution_count": null,
   "metadata": {
    "colab": {
     "base_uri": "https://localhost:8080/",
     "height": 81
    },
    "id": "4zNtq2idITuL",
    "outputId": "8dda0eb5-c553-4e96-e478-45bb4cbf3f7d"
   },
   "outputs": [],
   "source": [
    "#todo: Exercise\n"
   ]
  },
  {
   "cell_type": "markdown",
   "metadata": {
    "id": "bOO1e8lcSbkH"
   },
   "source": [
    "#### Delete a Column"
   ]
  },
  {
   "cell_type": "code",
   "execution_count": null,
   "metadata": {
    "colab": {
     "base_uri": "https://localhost:8080/",
     "height": 143
    },
    "id": "iW_YS6mEMXCY",
    "outputId": "fbdbf2ad-a189-4ae1-82a1-f981ecc56bbc"
   },
   "outputs": [],
   "source": [
    "df_5"
   ]
  },
  {
   "cell_type": "code",
   "execution_count": null,
   "metadata": {
    "colab": {
     "base_uri": "https://localhost:8080/",
     "height": 143
    },
    "id": "k3q9mu68SbkH",
    "outputId": "e5ce2781-e4ce-44df-b8db-49c3a624ebb6"
   },
   "outputs": [],
   "source": [
    "del df_5['class']\n",
    "df_5"
   ]
  },
  {
   "cell_type": "markdown",
   "metadata": {
    "id": "IUXzAnmnSbkH"
   },
   "source": [
    "#### Dropping Columns\n",
    "\n",
    "For a litte more flexiblity to remove columns, you can use ```drop()```. To drop without reassigning, you can pass ```inplace=True```\n",
    "\n",
    "`df.drop('column_name', axis=1, inplace=True)`"
   ]
  },
  {
   "cell_type": "code",
   "execution_count": null,
   "metadata": {
    "colab": {
     "base_uri": "https://localhost:8080/",
     "height": 143
    },
    "id": "kYqmsYs5SbkI",
    "outputId": "32bd003a-1546-4381-e0b6-a7b9bf016f2b"
   },
   "outputs": [],
   "source": [
    "#drop the first 2 columns\n",
    "#\n",
    "#df_6 = df_5.drop(columns=['test_1','test_2'])\n",
    "df_6 = df_5.drop(df_5.columns[[0, 1]], axis=1)\n",
    "df_6"
   ]
  },
  {
   "cell_type": "markdown",
   "metadata": {
    "id": "xAfEHV6vSbkI"
   },
   "source": [
    " Notice df_5 still have the 'test_1' and 'test_2' values"
   ]
  },
  {
   "cell_type": "code",
   "execution_count": null,
   "metadata": {
    "colab": {
     "base_uri": "https://localhost:8080/",
     "height": 143
    },
    "id": "ZaJifZt1SbkI",
    "outputId": "201fc6b1-f048-4865-f6ed-a36000d14159"
   },
   "outputs": [],
   "source": [
    "# notice df_5 still have the 'test_1' and 'test_2' values\n",
    "df_5"
   ]
  },
  {
   "cell_type": "markdown",
   "metadata": {
    "id": "YP33ymaoSbkI"
   },
   "source": [
    "### Reading data from csv files\n",
    "\n",
    "Pandas made it easier to read in data from a number of files formats. The HDB median resale prices are publicly available from data.gov.sg. https://data.gov.sg/dataset/median-resale-prices-for-registered-applications-by-town-and-flat-type?resource_id=a5ddfc4d-0e43-4bfe-8f51-e504e1365e27\n",
    "\n",
    "Explore using the square brackets to access specific rows via Pandas DataFrame.\n",
    "\n",
    "\\[Starting index: Stop index]"
   ]
  },
  {
   "cell_type": "code",
   "execution_count": null,
   "metadata": {
    "colab": {
     "base_uri": "https://localhost:8080/",
     "height": 112
    },
    "id": "BKXUBrRdSbkI",
    "outputId": "be84453f-3f32-431a-8846-7275af4510d6"
   },
   "outputs": [],
   "source": [
    "import pandas as pd\n",
    "\n",
    "resalePrices = pd.read_csv('HDB media resale prices.csv')\n",
    "\n",
    "resalePrices[2:4]"
   ]
  },
  {
   "cell_type": "markdown",
   "metadata": {
    "id": "mNMOlbbqXSCf"
   },
   "source": [
    "## Exercise\n",
    "\n",
    "Can you recall how to view the first 20 records in a data? Try viewing the first 20 records in `resalePrices`."
   ]
  },
  {
   "cell_type": "code",
   "execution_count": null,
   "metadata": {
    "colab": {
     "base_uri": "https://localhost:8080/",
     "height": 677
    },
    "id": "WKUoz_-zXfHs",
    "outputId": "3de13fa6-ef69-44fc-e59f-fdb55e6173d2"
   },
   "outputs": [],
   "source": [
    "#todo: Exercise\n"
   ]
  },
  {
   "cell_type": "markdown",
   "metadata": {
    "id": "mNUxljxTYI3v"
   },
   "source": [
    "Do note that the string \"na\" and \"-\" was used to fill up the price value of some rows. This is a good opportunity to use a combination of boolean operators, to select only records that have actual price values.\n",
    "\n",
    "`resalePrices.price.str.lower()` was used to standardize all values to lowercase before comparison with the reference string of \"na\" or \"-\"."
   ]
  },
  {
   "cell_type": "code",
   "execution_count": null,
   "metadata": {
    "id": "2p6egx2uYrsd"
   },
   "outputs": [],
   "source": [
    "# mask for records that have \"NA\" or \"-\" as the price\n",
    "price_mask = (resalePrices.price.str.lower() == \"na\" ) | (resalePrices.price.str.lower() == \"-\")"
   ]
  },
  {
   "cell_type": "markdown",
   "metadata": {
    "id": "shou80YCZ89J"
   },
   "source": [
    "The above uses the OR (|) operator to combine conditions. While either of the stated condition is True, the resulting boolean value is True.\n",
    "\n",
    "Another common operator is AND (&).  Both conditions combined using AND (&) must be True before the resulting boolean value is True.\n",
    "\n",
    "#### OR (|)\n",
    "|condition 1 | condition 2 | result |\n",
    "|---|---|---|\n",
    "|0|0|0|\n",
    "|1|0|1|\n",
    "|0|1|1|\n",
    "|1|1|1|\n",
    "\n",
    "#### AND (&)\n",
    "|condition 1 | condition 2 | result |\n",
    "|---|---|---|\n",
    "|0|0|0|\n",
    "|1|0|0|\n",
    "|0|1|0|\n",
    "|1|1|1|"
   ]
  },
  {
   "cell_type": "markdown",
   "metadata": {
    "id": "9lcqNkSIcHXV"
   },
   "source": [
    "However, as we are intending to select records with actual price values, the selection should be the opposite of rows selected by `price_mask`.\n",
    "\n",
    "In such cases, we can use NOT(~) to create a mask that is the opposite of our original condition combination.\n",
    "\n",
    "#### NOT (~)\n",
    "|condition 1 | result |\n",
    "|---|---|\n",
    "|0|1|\n",
    "|1|0|"
   ]
  },
  {
   "cell_type": "code",
   "execution_count": null,
   "metadata": {
    "colab": {
     "base_uri": "https://localhost:8080/",
     "height": 424
    },
    "id": "kCq4hichb54J",
    "outputId": "20ca4fca-7728-4112-ae37-65301f07a162"
   },
   "outputs": [],
   "source": [
    "df = resalePrices.loc[~price_mask]\n",
    "df"
   ]
  },
  {
   "cell_type": "code",
   "execution_count": null,
   "metadata": {
    "colab": {
     "base_uri": "https://localhost:8080/"
    },
    "id": "JjJT6C4Of-NU",
    "outputId": "0b5ea729-3be9-4526-fd63-547f601dc53c"
   },
   "outputs": [],
   "source": [
    "resalePrices.iloc[9978,:]"
   ]
  },
  {
   "cell_type": "markdown",
   "metadata": {
    "id": "rcmGbiG6gbcU"
   },
   "source": [
    "Despite our attempts to obtain only numerical values for the price column, it appears we have missed out on NaN, which we recall as 'not a number'.\n",
    "\n",
    "It makes sense as our price mask was only focused on removing strings.\n",
    "\n",
    "Let find out how many NaN values we might be having."
   ]
  },
  {
   "cell_type": "code",
   "execution_count": null,
   "metadata": {
    "colab": {
     "base_uri": "https://localhost:8080/"
    },
    "id": "UCNOEGp5iCkf",
    "outputId": "0cab5b00-4f30-4236-9afa-78e155e4b0e0"
   },
   "outputs": [],
   "source": [
    "df.isnull().sum()"
   ]
  },
  {
   "cell_type": "markdown",
   "metadata": {
    "id": "TCNqvd7OiAn3"
   },
   "source": [
    "Since it is clear the there are still a number of NaN values, we can use the dropna() function to remove any record with an NaN price."
   ]
  },
  {
   "cell_type": "code",
   "execution_count": null,
   "metadata": {
    "id": "PQfUWEBMiglW"
   },
   "outputs": [],
   "source": [
    "df = df.dropna()"
   ]
  },
  {
   "cell_type": "markdown",
   "metadata": {
    "id": "XiSXpmCqiqux"
   },
   "source": [
    "To ensure the operation is successful, let us run `df.isnull().sum()` again"
   ]
  },
  {
   "cell_type": "code",
   "execution_count": null,
   "metadata": {
    "colab": {
     "base_uri": "https://localhost:8080/"
    },
    "id": "0PccLdr1i8m3",
    "outputId": "e5449eb6-fdbf-4d6a-860f-1bd0ef6bb3c8"
   },
   "outputs": [],
   "source": [
    "df.isnull().sum()"
   ]
  },
  {
   "cell_type": "code",
   "execution_count": null,
   "metadata": {
    "colab": {
     "base_uri": "https://localhost:8080/",
     "height": 457
    },
    "id": "UAqHCS1smhhE",
    "outputId": "dcb10218-245b-498d-f404-f2bc8a79534f"
   },
   "outputs": [],
   "source": [
    "df.loc[9960:9980,:]"
   ]
  },
  {
   "cell_type": "markdown",
   "metadata": {
    "id": "asrH4jOhSbkJ"
   },
   "source": [
    "To understand a little more about the data being read, more data clean up will be done to extract transactions with valid prices.\n",
    "\n",
    "As we notice that the index is off due to the dropping of rows, we can reset the index numbering."
   ]
  },
  {
   "cell_type": "code",
   "execution_count": null,
   "metadata": {
    "id": "YPSZslkaoRuT"
   },
   "outputs": [],
   "source": [
    "#reset the index of the dataframe\n",
    "df = df.reset_index(drop=True)"
   ]
  },
  {
   "cell_type": "code",
   "execution_count": null,
   "metadata": {
    "colab": {
     "base_uri": "https://localhost:8080/",
     "height": 424
    },
    "id": "L8RispJXoj-E",
    "outputId": "b26200fd-e11e-4dc3-e1f9-005aba4eacc2"
   },
   "outputs": [],
   "source": [
    "df"
   ]
  },
  {
   "cell_type": "markdown",
   "metadata": {
    "id": "70Re3zOMpATY"
   },
   "source": [
    "Curious about the highest price ...."
   ]
  },
  {
   "cell_type": "code",
   "execution_count": null,
   "metadata": {
    "colab": {
     "base_uri": "https://localhost:8080/",
     "height": 81
    },
    "id": "pQLrW9TSpGBz",
    "outputId": "789c984d-c559-4897-bb9a-68f930276e68"
   },
   "outputs": [],
   "source": [
    "highest_price_hdb = df.loc[df.price == df.price.max()]\n",
    "highest_price_hdb"
   ]
  },
  {
   "cell_type": "markdown",
   "metadata": {
    "id": "Qvu6zV_srCTR"
   },
   "source": [
    "However, based on our knowledge, this may not be correct. Why is this happening."
   ]
  },
  {
   "cell_type": "code",
   "execution_count": null,
   "metadata": {
    "colab": {
     "base_uri": "https://localhost:8080/"
    },
    "id": "0Q5lpNRqrrXE",
    "outputId": "b01befcc-ff75-48ac-9c48-8e16b89e600d"
   },
   "outputs": [],
   "source": [
    "df.iloc[4362]"
   ]
  },
  {
   "cell_type": "code",
   "execution_count": null,
   "metadata": {
    "colab": {
     "base_uri": "https://localhost:8080/"
    },
    "id": "2dj6rLNrr514",
    "outputId": "c9240c67-aac5-444b-bb9e-399776c51a41"
   },
   "outputs": [],
   "source": [
    "print(df.dtypes)"
   ]
  },
  {
   "cell_type": "markdown",
   "metadata": {
    "id": "up6-7Ev9sdx3"
   },
   "source": [
    "Price column is actually just an object column. If we want the max price value in numerical terms, we need to do some conversions.\n",
    "\n",
    "When using `errors='coerce'`, any non-numeric values are converted into NaN"
   ]
  },
  {
   "cell_type": "code",
   "execution_count": null,
   "metadata": {
    "id": "Kp3kGSmNq2JS"
   },
   "outputs": [],
   "source": [
    "df.price = pd.to_numeric(df.price, errors='coerce' )"
   ]
  },
  {
   "cell_type": "code",
   "execution_count": null,
   "metadata": {
    "colab": {
     "base_uri": "https://localhost:8080/"
    },
    "id": "Aq11FdWRtsQK",
    "outputId": "d99e63f9-7bc8-4b85-a488-a87c4221acaf"
   },
   "outputs": [],
   "source": [
    "df.isnull().sum()"
   ]
  },
  {
   "cell_type": "code",
   "execution_count": null,
   "metadata": {
    "colab": {
     "base_uri": "https://localhost:8080/"
    },
    "id": "WrND5gBVt5dZ",
    "outputId": "b7352568-f1e8-42c2-d99b-76d653b7f5eb"
   },
   "outputs": [],
   "source": [
    "print(df.dtypes)"
   ]
  },
  {
   "cell_type": "code",
   "execution_count": null,
   "metadata": {
    "colab": {
     "base_uri": "https://localhost:8080/",
     "height": 81
    },
    "id": "OST_AEOzq4EO",
    "outputId": "eead883a-ebfe-46ae-8319-108e71f40884"
   },
   "outputs": [],
   "source": [
    "highest_price_hdb = df.loc[df.price == df.price.max()]\n",
    "highest_price_hdb"
   ]
  },
  {
   "cell_type": "markdown",
   "metadata": {
    "id": "sotH0L08u-Qt"
   },
   "source": [
    "### unique()\n",
    "\n",
    "To see the major categories in a column, `unique()` is great for checking what is present in the column values instead of going line by line (which is essentially impossible for last data set)"
   ]
  },
  {
   "cell_type": "code",
   "execution_count": null,
   "metadata": {
    "colab": {
     "base_uri": "https://localhost:8080/"
    },
    "id": "3YvBCHtmvqqI",
    "outputId": "2272ba8d-a3f4-4a13-a264-b63326000cef"
   },
   "outputs": [],
   "source": [
    "df.town.unique()"
   ]
  },
  {
   "cell_type": "markdown",
   "metadata": {
    "id": "HNxW1e-vv8JA"
   },
   "source": [
    "It can be observed that some towns are duplicated due to a version in full uppercase and another version in lowercase text.\n",
    "\n",
    "'Central' and 'CENTRAL AREA' appear to be the same too. We can use a replace() to make it consistent."
   ]
  },
  {
   "cell_type": "code",
   "execution_count": null,
   "metadata": {
    "id": "LFVWgaeSxTLl"
   },
   "outputs": [],
   "source": [
    "#changes the town name to all uppercase\n",
    "df.town= df.town.str.upper()\n",
    "df.town= df.town.replace(['CENTRAL AREA'], 'CENTRAL')"
   ]
  },
  {
   "cell_type": "code",
   "execution_count": null,
   "metadata": {
    "colab": {
     "base_uri": "https://localhost:8080/"
    },
    "id": "JmVtXAElxV5u",
    "outputId": "e8290e57-f808-4a61-f9cd-af77d714a9b6"
   },
   "outputs": [],
   "source": [
    "df.town.unique()"
   ]
  },
  {
   "cell_type": "markdown",
   "metadata": {
    "id": "Xgivb4Xxx6K_"
   },
   "source": [
    "## Exercise\n",
    "\n",
    "Let's find the unique values in flat_type and standardize the values as per how it was done for the town column.\n",
    "\n",
    "Change 'room' to 'rm'"
   ]
  },
  {
   "cell_type": "code",
   "execution_count": null,
   "metadata": {
    "colab": {
     "base_uri": "https://localhost:8080/"
    },
    "id": "8qBrGUHpySkp",
    "outputId": "a28d7429-bfd2-43d6-9ef0-8b5b9d9d42d0"
   },
   "outputs": [],
   "source": [
    "#todo: Exercise\n"
   ]
  },
  {
   "cell_type": "code",
   "execution_count": null,
   "metadata": {
    "id": "vf0kM1LozCw9"
   },
   "outputs": [],
   "source": [
    "#todo: Exercise\n"
   ]
  },
  {
   "cell_type": "code",
   "execution_count": null,
   "metadata": {
    "colab": {
     "base_uri": "https://localhost:8080/"
    },
    "id": "5R_P5FTAzbEQ",
    "outputId": "51dc69a0-bb3b-4f2f-80a0-0089626ede39"
   },
   "outputs": [],
   "source": [
    "#todo: Exercise\n"
   ]
  },
  {
   "cell_type": "code",
   "execution_count": null,
   "metadata": {
    "id": "e90x4ZnS1xWh"
   },
   "outputs": [],
   "source": [
    "#todo: Exercise\n"
   ]
  },
  {
   "cell_type": "code",
   "execution_count": null,
   "metadata": {
    "colab": {
     "base_uri": "https://localhost:8080/"
    },
    "id": "A7gfvkmy2Gmy",
    "outputId": "a499a568-f79e-4169-84f7-4a90a571af6c"
   },
   "outputs": [],
   "source": [
    "#todo: Exercise\n"
   ]
  },
  {
   "cell_type": "code",
   "execution_count": null,
   "metadata": {
    "colab": {
     "base_uri": "https://localhost:8080/",
     "height": 394
    },
    "id": "V3N5pQVFSbkJ",
    "outputId": "4cd59e9e-c301-4193-ded9-d289e1e698de"
   },
   "outputs": [],
   "source": [
    "#Display statistics for the data\n",
    "df.describe(include='all')"
   ]
  },
  {
   "cell_type": "markdown",
   "metadata": {
    "id": "ugIF0ydH4dG8"
   },
   "source": [
    "### groupby()\n",
    "\n",
    "A groupby operation involves some combination of splitting the object, applying a function, and combining the results. This can be used to group large amounts of data and compute operations on these groups.\n",
    "\n",
    "### map()\n",
    "\n",
    "Map values of Series according to an input mapping or function.\n",
    "\n",
    "Used for substituting each value in a Series with another value, that may be derived from a function, a dict or a Series.\n",
    "\n"
   ]
  },
  {
   "cell_type": "code",
   "execution_count": null,
   "metadata": {
    "colab": {
     "base_uri": "https://localhost:8080/"
    },
    "id": "IGH6i5rWSbkJ",
    "outputId": "26f8d4fa-acb0-4c20-f7ce-ac240ea4b565"
   },
   "outputs": [],
   "source": [
    "df.groupby([\"flat_type\"]).price.mean().map(lambda x: f\"${x/1000:.1f}K\")"
   ]
  },
  {
   "cell_type": "code",
   "execution_count": null,
   "metadata": {
    "colab": {
     "base_uri": "https://localhost:8080/"
    },
    "id": "sU4_A3Sp6V5Q",
    "outputId": "471c1e09-eb13-4089-ac85-fd60edcd0285"
   },
   "outputs": [],
   "source": [
    "df.flat_type.map({'2-rm':'2-room', '3-rm':'3-room', '4-rm':'4-room', '5-rm':'5-room', 'executive':'exec'})"
   ]
  },
  {
   "cell_type": "markdown",
   "metadata": {
    "id": "l_heh1x55gI4"
   },
   "source": [
    "The map() method allows simple substition to be made but more complicated functions may require apply()"
   ]
  },
  {
   "cell_type": "markdown",
   "metadata": {
    "id": "crF09Rze7fnu"
   },
   "source": [
    "### apply()\n",
    "\n",
    "This method calls the preferred function to be used on every value in the column individually, or every single row in the dataframe.\n",
    "\n",
    "Let us define a function `extract_number` that applies on every single value in a column."
   ]
  },
  {
   "cell_type": "code",
   "execution_count": null,
   "metadata": {
    "id": "EWQa5f6Q8u-O"
   },
   "outputs": [],
   "source": [
    "import numpy as np\n",
    "\n",
    "\n",
    "def extract_number(s):\n",
    "  c = s[0:1]\n",
    "  if c.isdigit():\n",
    "    return int(c)\n",
    "  else:\n",
    "    return np.NaN"
   ]
  },
  {
   "cell_type": "code",
   "execution_count": null,
   "metadata": {
    "colab": {
     "base_uri": "https://localhost:8080/"
    },
    "id": "dO4jrRc-8vJC",
    "outputId": "bb994ce5-ad0d-43c9-b75f-9589d7218a32"
   },
   "outputs": [],
   "source": [
    "df.loc[:,'flat_type'].apply(extract_number)"
   ]
  },
  {
   "cell_type": "code",
   "execution_count": null,
   "metadata": {
    "colab": {
     "base_uri": "https://localhost:8080/"
    },
    "id": "MGESNwIY-VL2",
    "outputId": "63f7eb9e-ca82-436e-debb-6f51d235524a"
   },
   "outputs": [],
   "source": [
    "df.flat_type.apply(extract_number)"
   ]
  },
  {
   "cell_type": "markdown",
   "metadata": {
    "id": "v0hwcbAm-xCB"
   },
   "source": [
    "Next, let us define a function that applies to every single row in a DataFrame."
   ]
  },
  {
   "cell_type": "code",
   "execution_count": null,
   "metadata": {
    "id": "5gv2eeuX-6d9"
   },
   "outputs": [],
   "source": [
    "def price_per_rm(row):\n",
    "  room = extract_number(row['flat_type'])\n",
    "  if np.isnan(room):\n",
    "    return np.NaN\n",
    "  else:\n",
    "    return row['price']/room"
   ]
  },
  {
   "cell_type": "code",
   "execution_count": null,
   "metadata": {
    "colab": {
     "base_uri": "https://localhost:8080/"
    },
    "id": "URvZHYlT_85K",
    "outputId": "3f410c30-71db-4753-caaa-dfacd1e8d833"
   },
   "outputs": [],
   "source": [
    "df.apply(price_per_rm, axis=1)"
   ]
  },
  {
   "cell_type": "markdown",
   "metadata": {
    "id": "FwNrgXTZSbkJ"
   },
   "source": [
    "#### More about Matplotlib\n",
    "\n",
    "Matplotlib is a power plotting library that can help to visualize our data. In this section\n",
    "* the number of flat transacted per flat type is displayed in a bar plot\n",
    "* the prices are grouped into the different quarters and the mean is displayed in a line plot."
   ]
  },
  {
   "cell_type": "code",
   "execution_count": null,
   "metadata": {
    "colab": {
     "base_uri": "https://localhost:8080/",
     "height": 525
    },
    "id": "6JRdJfgnSbkJ",
    "outputId": "21229d4b-3f4a-40e8-c035-a451b8efb84e"
   },
   "outputs": [],
   "source": [
    "import matplotlib.pyplot as plt\n",
    "\n",
    "df['flat_type'].value_counts().plot(kind='bar')\n",
    "plt.title('type of flat sales')\n",
    "plt.xlabel('flat types')\n",
    "plt.ylabel('count')\n",
    "plt.show()"
   ]
  },
  {
   "cell_type": "code",
   "execution_count": null,
   "metadata": {
    "colab": {
     "base_uri": "https://localhost:8080/",
     "height": 496
    },
    "id": "4Ev_89h0SbkK",
    "outputId": "68331ebc-2f4a-4add-8b75-1ecee15e8e29"
   },
   "outputs": [],
   "source": [
    "avg_price = df.groupby('quarter')['price'].agg('mean')\n",
    "avg_price.plot()\n",
    "plt.xticks(rotation='vertical')\n",
    "plt.show()"
   ]
  },
  {
   "cell_type": "markdown",
   "metadata": {
    "id": "RSfOr-JbSbkK"
   },
   "source": [
    "## Example"
   ]
  },
  {
   "cell_type": "markdown",
   "metadata": {
    "id": "uTS1KBosSbkK"
   },
   "source": [
    "1. Load the csv file (number-of-rain-days.csv) containing details on the number of rainy days in a month"
   ]
  },
  {
   "cell_type": "code",
   "execution_count": null,
   "metadata": {
    "colab": {
     "base_uri": "https://localhost:8080/",
     "height": 346
    },
    "id": "RqUI1m0RSbkK",
    "outputId": "476c5a79-e761-4b41-981e-1a4df7adb5a4"
   },
   "outputs": [],
   "source": [
    "r1 = pd.read_csv('number-of-rain-days.csv')\n",
    "r1"
   ]
  },
  {
   "cell_type": "markdown",
   "metadata": {
    "id": "llu_W_fbSbkK"
   },
   "source": [
    "2. Determine if there is any missing values in the data"
   ]
  },
  {
   "cell_type": "code",
   "execution_count": null,
   "metadata": {
    "id": "q0g_We01SbkL",
    "outputId": "587580c9-edba-4090-c7ae-d0dbd7000cad"
   },
   "outputs": [],
   "source": [
    "r1.isnull().sum()"
   ]
  },
  {
   "cell_type": "markdown",
   "metadata": {
    "id": "s5q-c3tQSbkL"
   },
   "source": [
    "3. Select only records from 2019-01 till now"
   ]
  },
  {
   "cell_type": "code",
   "execution_count": null,
   "metadata": {
    "id": "6wxwd5pxSbkL",
    "outputId": "bea2df69-4a35-4199-8f2d-b5bdf667578a"
   },
   "outputs": [],
   "source": [
    "rf = r1[r1.month >= \"2020-01\"].copy()\n",
    "rf"
   ]
  },
  {
   "cell_type": "markdown",
   "metadata": {
    "id": "07F4dlMVSbkL"
   },
   "source": [
    "4. Display the extracted records as a line graph and set the x label to be month"
   ]
  },
  {
   "cell_type": "code",
   "execution_count": null,
   "metadata": {
    "id": "afW-qdoYSbkL",
    "outputId": "44b4b3b1-f0ce-49af-a3d0-22ca564a10a1"
   },
   "outputs": [],
   "source": [
    "fig, ax = plt.subplots()\n",
    "\n",
    "rf.plot(ax=ax, xticks=rf.index)\n",
    "ax.set_xticklabels(rf.month)\n",
    "plt.xlabel('month')\n",
    "plt.xticks(rotation='vertical')\n",
    "plt.show()"
   ]
  },
  {
   "cell_type": "markdown",
   "metadata": {},
   "source": [
    "# Debugging in Python"
   ]
  },
  {
   "cell_type": "markdown",
   "metadata": {},
   "source": [
    "Trying to figure out what is wrong with the code or trying to understand how the code works is an important skill. To debug in Jupyter notebook, you use Python's own pdb module"
   ]
  },
  {
   "cell_type": "code",
   "execution_count": null,
   "metadata": {},
   "outputs": [],
   "source": [
    "def bad_function(var):\n",
    "    return var + 0\n",
    "bad_function(\"input\")"
   ]
  },
  {
   "attachments": {
    "c5c5dc99-60f8-474d-ace7-3ad4e8965331.png": {
     "image/png": "[encoded data removed]"
    }
   },
   "cell_type": "markdown",
   "metadata": {},
   "source": [
    "The above error indicates a string cannot be concatenated with an integer.\n",
    "For Python 3.7, use the breakpoint() to debug the code.\n",
    "\n",
    "* a(rgs) - print the args of the current function (f(args))\n",
    "* l(ist) - show where in the source code that the next line to execute is \n",
    "* w(here) – Print the stack trace\n",
    "* d(own) – Move the current frame X number of levels down. Defaults to one.\n",
    "* u(p) – Move the current frame X number of levels up. Defaults to one.\n",
    "* b(reak) – With a *lineno* argument, set a break point at that line number in the current file / context\n",
    "* **c(ontinue)** – Continue execution, only stop when a breakpoint is reached\n",
    "* **n(ext)** - Execute the next line in the current function is reached, or it returns\n",
    "* **s(tep)** - Execute the current line, stop at te first possible occasion (either in a function that is called or on the next line in the current function\n",
    "* r(eturn) - Continue until the current functino returns\n",
    "* **q(uit)** - Exit from the debugging session\n",
    "* ? - all documented commands\n",
    "\n",
    "The difference between next and step is that step stops inside a called function, while next executes called functions at (nearly) full speed, only stopping at the next line in the current function.\n",
    "\n",
    "**Toggle the bug icon** at the top right to enable debugging.\n",
    "\n",
    "![enable_debugger.png](attachment:c5c5dc99-60f8-474d-ace7-3ad4e8965331.png)"
   ]
  },
  {
   "cell_type": "code",
   "execution_count": null,
   "metadata": {},
   "outputs": [],
   "source": [
    "def bad_function(var):\n",
    "    breakpoint()\n",
    "    return var + 0\n",
    "bad_function(\"input\")"
   ]
  },
  {
   "attachments": {
    "23b51fa2-af0e-4b12-881d-ab3fce421cab.png": {
     "image/png": "[encoded data removed]"
    },
    "c109e27a-9fc7-4d22-bf0a-866d60590811.png": {
     "image/png": "[encoded data removed]"
    },
    "edab1b5b-01ee-4610-98d5-d8e295fbe039.png": {
     "image/png": "[encoded data removed]"
    }
   },
   "cell_type": "markdown",
   "metadata": {},
   "source": [
    "### JupyterLab debugger front-end\n",
    "Notebooks, code consoles and files can be debugged from JupyterLab directly. Similarly, toggle the bug icon at the top right to enable debugging.\n",
    "\n",
    "![enable_debugger.png](attachment:c109e27a-9fc7-4d22-bf0a-866d60590811.png)\n",
    "\n",
    "This is only available for kernel that support debugging.\n",
    "\n",
    "Once debugging is enabled, set the breakpoints where we would be stepping into the code. This can be done by clicking on the gutter on the line we wish to add a breakpoint.\n",
    "\n",
    "![setbreakpoint.png](attachment:edab1b5b-01ee-4610-98d5-d8e295fbe039.png)\n",
    "\n",
    "Run the cell/code and the execution should stop at the set breakpoint.\n",
    "\n",
    "![debugger.png](attachment:23b51fa2-af0e-4b12-881d-ab3fce421cab.png)\n",
    "\n",
    "The debugger allows you to observe the variables and also debug actions such as Next (line) and Continue in the Callstack to execute code at your control.\n",
    "\n",
    "https://jupyterlab.readthedocs.io/en/latest/user/debugger.html"
   ]
  },
  {
   "cell_type": "markdown",
   "metadata": {},
   "source": [
    "### Exercise: \n",
    "    \n",
    "Remove the commented breakpoint or use JupyterLab debugger to try and debug through the steps in the following code "
   ]
  },
  {
   "cell_type": "code",
   "execution_count": null,
   "metadata": {},
   "outputs": [],
   "source": [
    "def f():\n",
    "    #breakpoint()\n",
    "\n",
    "    for temp in range(4):\n",
    "        if (temp <2):\n",
    "            x = temp\n",
    "        else:\n",
    "            x = -1\n",
    "            \n",
    "x = 0\n",
    "f()"
   ]
  },
  {
   "cell_type": "markdown",
   "metadata": {},
   "source": [
    "Code development and data analysis always require a bit of trial and error, and IPython contains tools to streamline this process.\n",
    "This section will briefly cover some options for controlling Python's exception reporting, followed by exploring tools for debugging errors in code."
   ]
  },
  {
   "cell_type": "markdown",
   "metadata": {},
   "source": [
    "## Controlling Exceptions: ``%xmode``\n",
    "\n",
    "Most of the time when a Python script fails, it will raise an Exception.\n",
    "When the interpreter hits one of these exceptions, information about the cause of the error can be found in the *traceback*, which can be accessed from within Python.\n",
    "With the ``%xmode`` magic function, IPython allows you to control the amount of information printed when the exception is raised.\n",
    "Consider the following code:"
   ]
  },
  {
   "cell_type": "code",
   "execution_count": null,
   "metadata": {
    "collapsed": false,
    "jupyter": {
     "outputs_hidden": false
    }
   },
   "outputs": [],
   "source": [
    "def func1(a, b):\n",
    "    return a / b\n",
    "\n",
    "def func2(x):\n",
    "    a = x\n",
    "    b = x - 1\n",
    "    return func1(a, b)"
   ]
  },
  {
   "cell_type": "code",
   "execution_count": null,
   "metadata": {
    "collapsed": false,
    "jupyter": {
     "outputs_hidden": false
    }
   },
   "outputs": [],
   "source": [
    "func2(1)"
   ]
  },
  {
   "cell_type": "markdown",
   "metadata": {},
   "source": [
    "Calling ``func2`` results in an error, and reading the printed trace lets us see exactly what happened.\n",
    "By default, this trace includes several lines showing the context of each step that led to the error.\n",
    "Using the ``%xmode`` magic function (short for *Exception mode*), we can change what information is printed.\n",
    "\n",
    "``%xmode`` takes a single argument, the mode, and there are three possibilities: ``Plain``, ``Context``, and ``Verbose``.\n",
    "The default is ``Context``, and gives output like that just shown before.\n",
    "``Plain`` is more compact and gives less information:"
   ]
  },
  {
   "cell_type": "code",
   "execution_count": null,
   "metadata": {
    "collapsed": false,
    "jupyter": {
     "outputs_hidden": false
    }
   },
   "outputs": [],
   "source": [
    "%xmode Plain"
   ]
  },
  {
   "cell_type": "code",
   "execution_count": null,
   "metadata": {
    "collapsed": false,
    "jupyter": {
     "outputs_hidden": false
    }
   },
   "outputs": [],
   "source": [
    "func2(1)"
   ]
  },
  {
   "cell_type": "markdown",
   "metadata": {},
   "source": [
    "The ``Verbose`` mode adds some extra information, including the arguments to any functions that are called:"
   ]
  },
  {
   "cell_type": "code",
   "execution_count": null,
   "metadata": {
    "collapsed": false,
    "jupyter": {
     "outputs_hidden": false
    }
   },
   "outputs": [],
   "source": [
    "%xmode Verbose"
   ]
  },
  {
   "cell_type": "code",
   "execution_count": null,
   "metadata": {
    "collapsed": false,
    "jupyter": {
     "outputs_hidden": false
    }
   },
   "outputs": [],
   "source": [
    "func2(1)"
   ]
  },
  {
   "cell_type": "markdown",
   "metadata": {},
   "source": [
    "This extra information can help narrow-in on why the exception is being raised.\n",
    "So why not use the ``Verbose`` mode all the time?\n",
    "As code gets complicated, this kind of traceback can get extremely long.\n",
    "Depending on the context, sometimes the brevity of ``Default`` mode is easier to work with."
   ]
  }
 ],
 "metadata": {
  "kernelspec": {
   "display_name": "Python 3 (ipykernel)",
   "language": "python",
   "name": "python3"
  },
  "language_info": {
   "codemirror_mode": {
    "name": "ipython",
    "version": 3
   },
   "file_extension": ".py",
   "mimetype": "text/x-python",
   "name": "python",
   "nbconvert_exporter": "python",
   "pygments_lexer": "ipython3",
   "version": "3.9.17"
  }
 },
 "nbformat": 4,
 "nbformat_minor": 4
}
